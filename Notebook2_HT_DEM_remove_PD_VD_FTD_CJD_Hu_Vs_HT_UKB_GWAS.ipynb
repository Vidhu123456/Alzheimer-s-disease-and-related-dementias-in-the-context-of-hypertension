{\rtf1\ansi\ansicpg1252\cocoartf2821
\cocoatextscaling0\cocoaplatform0{\fonttbl\f0\fswiss\fcharset0 Helvetica;\f1\froman\fcharset0 TimesNewRomanPSMT;\f2\froman\fcharset0 Times-Roman;
}
{\colortbl;\red255\green255\blue255;\red0\green0\blue0;\red255\green255\blue255;}
{\*\expandedcolortbl;;\cssrgb\c0\c0\c0;\cssrgb\c100000\c100000\c100000;}
\margl1440\margr1440\vieww34360\viewh21600\viewkind0
\pard\tx720\tx1440\tx2160\tx2880\tx3600\tx4320\tx5040\tx5760\tx6480\tx7200\tx7920\tx8640\pardirnatural\partightenfactor0

\f0\fs24 \cf2 1.
\f1 \cb3 \expnd0\expndtw0\kerning0
We extracted data from the \'93UK Biobank\'94, identifying 3,290 cases with essential hypertension and co-occurring dementia, after excluding individuals with Parkinson\'92s disease, vascular dementia, frontotemporal dementia, Huntington\'92s disease, or Creutzfeldt-Jakob disease. A total of 87,524 individuals with essential hypertension but without any neurodegenerative conditions were included as controls and ran genome-wide association analysis using PLINK.2.0. \
2.  We ran GWAS 
\f2\fs26 \cb1 using PLINK.2.0 and 10 principle components, sex_At_birth, current age (2024-year of birth) and age filter > 60. 
\f0\fs32 \cb3 \
\pard\tx720\tx1440\tx2160\tx2880\tx3600\tx4320\tx5040\tx5760\tx6480\tx7200\tx7920\tx8640\pardirnatural\partightenfactor0

\fs24 \cf0 \cb1 \kerning1\expnd0\expndtw0 \
\
import pandas as pd\
\
df = pd.read_csv("ADRD_noFTD_noPARKINSONISM_noALS_noVD_noHT_noCJD_noPDD.CTRL_inclProxy_60older.plink_pheno.txt", sep = '\\t')\
\
count_1 = df['ADRD'].value_counts().get(1, 0)\
count_2 = df['ADRD'].value_counts().get(2, 0)\
\
print(f"Count of 1 in 'Pheno': \{count_1\}")\
print(f"Count of 2 in 'Pheno': \{count_2\}")\
\
df1 = pd.read_csv("UKB_EUR_UMAP_COVARIATES.txt", sep = '\\t')\
\
# Extract only 'FID' and 'IID' column values\
final2 = df[['FID', 'IID\'92]]\
\
final2.to_csv("FID_IID_HT_Dem_remove_PD_VD_FTD_Hu_CJD_Vs_HT_New.txt", sep='\\t', index=False)\
\
df.to_csv("Pheno_HT_Dem_remove_PD_VD_FTD_Hu_CJD_Vs_HT_New.txt", sep='\\t', index=False)\
\
# Merging the DataFrames on the 'ID' column\
final4 = pd.merge(df1, df, on=['FID','IID'], how='inner')\
\
count_1 = final4['ADRD'].value_counts().get(1, 0)\
count_2 = final4['ADRD'].value_counts().get(2, 0)\
\
print(f"Count of 1 in 'Pheno': \{count_1\}")\
print(f"Count of 2 in 'Pheno': \{count_2\}")\
\
final4.to_csv("Covar_HT_Dem_remove_PD_VD_FTD_Hu_CJD_Vs_HT_New.txt", sep='\\t', index=False)\
\
%%bash\
\
seq 1 1 23 > chr_list.txt\
\
FILE_DIR_A="/Imputed_Genotypes_2023/TOPMed_Plink2"\
FILE_DIR_B="/ref_panel/chip_overlaps/"\
# FILE_DIR_C="/Imputed_Genotypes_2023/TOPMed_Plink2/extract"\
\
CHR_IDS=$(cat chr_list.txt)\
\
\
for CHR in $CHR_IDS; do\
    dx run swiss-army-knife -iin="chr$\{CHR\}_pgen.pgen" \\\
    -iin="chr$\{CHR\}_pgen.psam" \\\
    -iin="chr$\{CHR\}_pgen.pvar" \\\
    -iin="Pheno_HT_Dem_remove_PD_VD_FTD_Hu_CJD_Vs_HT_New.txt" \\\
    -iin="Covar_HT_Dem_remove_PD_VD_FTD_Hu_CJD_Vs_HT_New.txt" \\\
    -iin="FID_IID_HT_Dem_remove_PD_VD_FTD_Hu_CJD_Vs_HT_New.txt" \\\
    -icmd='plink2 --pfile "$in_prefix" \\\
    --glm hide-covar firth-fallback cols=+a1freq,+a1freqcc,+a1countcc,+totallelecc,+err,+beta,-test,-nobs,-tz,-orbeta \\\
    --pheno Pheno_HT_Dem_remove_PD_VD_FTD_Hu_CJD_Vs_HT_New.txt --maf 0.01 \\\
    --pheno-name ADRD --covar-variance-standardize \\\
    --geno 0.05 --mac 20  --memory 12000 \\\
    --covar Covar_HT_Dem_remove_PD_VD_FTD_Hu_CJD_Vs_HT_New.txt \\\
    --covar-name PC1,PC2,PC3,PC4,PC5,PC6,PC7,PC8,PC9,PC10,GENETIC_SEX,AGE_2024_COV,sbp \\\
    --keep FID_IID_HT_Dem_remove_PD_VD_FTD_Hu_CJD_Vs_HT_New.txt \\\
    --out "$in_prefix".HT_Dem_remove_PD_VD_FTD_Hu_CJD_Vs_HT_New.txt' -y  --brief --priority normal \\\
    --instance-type mem3_ssd3_x12 --destination "$\{projectid\}:$\{FILE_DIR\}/" \
done}