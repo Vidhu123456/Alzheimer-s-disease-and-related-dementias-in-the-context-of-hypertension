{
 "cells": [
  {
   "cell_type": "code",
   "execution_count": null,
   "id": "5e6b79e5-621b-4738-b72e-084e1036aace",
   "metadata": {
    "tags": [],
    "trusted": true
   },
   "outputs": [],
   "source": [
    "1.We extracted data from the “UK Biobank”, identifying 3,290 cases with essential hypertension and co-occurring dementia, after excluding individuals with Parkinson’s disease, vascular dementia, frontotemporal dementia, Huntington’s disease, or Creutzfeldt-Jakob disease. A total of 87,524 individuals with essential hypertension but without any neurodegenerative conditions were included as controls and ran genome-wide association analysis using PLINK.2.0. \n",
    "2.  We ran GWAS using PLINK.2.0 and 10 principle components, sex_At_birth, current age (2024-year of birth) and age filter > 60. \n"
   ]
  },
  {
   "cell_type": "code",
   "execution_count": null,
   "id": "f41a0d75",
   "metadata": {},
   "outputs": [],
   "source": [
    "import pandas as pd\n",
    "import subprocess\n",
    "import sys\n",
    "import numpy as np\n",
    "import os\n",
    "import shutil"
   ]
  },
  {
   "cell_type": "code",
   "execution_count": 2,
   "id": "1b2ae4ce-af25-4a5c-bb55-fb3bd84462c4",
   "metadata": {
    "tags": [],
    "trusted": true
   },
   "outputs": [],
   "source": [
    "def shell_do(command, log=False, return_log=False):\n",
    "    print(f'Executing: {(\" \").join(command.split())}', file=sys.stderr)\n",
    "\n",
    "    res=subprocess.run(command.split(), stdout=subprocess.PIPE)\n",
    "\n",
    "    if log:\n",
    "        print(res.stdout.decode('utf-8'))\n",
    "    if return_log:\n",
    "        return(res.stdout.decode('utf-8'), res.stderr.decode('utf-8'))"
   ]
  },
  {
   "cell_type": "markdown",
   "id": "e0d68ce0-919f-4121-91f9-860e37a0cbeb",
   "metadata": {
    "tags": []
   },
   "source": [
    "# Interacting with Swiss Army Knife through Jupyter Notebooks\n",
    "## What is Swiss Army Knife?\n",
    "### Swiss Army Knife is a generic app which can be used to perform common file operations for the genotype data housed on DNANexus.\n",
    "### Contains software such as plink, plink2, bcftools, etc.\n",
    "#### Below we'll see an example of looping through each chromosome and extracting a set of variants.\n",
    "##### -iin: input (need to specify each file).\n",
    "##### -icmd: command to run\n",
    "##### --instance-type: VM type to run the command on\n",
    "##### --destination: output folder\n",
    "#### Note: this will start 23 separate Swiss Army Knife jobs so make sure you are using a reasonable instance type."
   ]
  },
  {
   "cell_type": "code",
   "execution_count": 24,
   "id": "fb8fcc24-e79e-4337-931a-885a9a1bb301",
   "metadata": {
    "tags": [],
    "trusted": true
   },
   "outputs": [],
   "source": [
    "import pandas as pd"
   ]
  },
  {
   "cell_type": "code",
   "execution_count": 25,
   "id": "2ba6d30b-f4fc-4037-b26a-4b8e6029073b",
   "metadata": {
    "tags": [],
    "trusted": true
   },
   "outputs": [
    {
     "name": "stdout",
     "output_type": "stream",
     "text": [
      "Error: path \"/opt/notebooks/ADRD_noFTD_noPARKINSONISM_noALS_noVD_noHT_noCJD_no\n",
      "PDD.CTRL_inclProxy_60older.plink_pheno.txt\" already exists but -f/--overwrite\n",
      "was not set\n"
     ]
    }
   ],
   "source": [
    "!dx download ADRD_noFTD_noPARKINSONISM_noALS_noVD_noHT_noCJD_noPDD.CTRL_inclProxy_60older.plink_pheno.txt"
   ]
  },
  {
   "cell_type": "code",
   "execution_count": 26,
   "id": "22615315-a34e-46fb-80b3-20571cc5566a",
   "metadata": {
    "tags": [],
    "trusted": true
   },
   "outputs": [],
   "source": [
    "df = pd.read_csv(\"ADRD_noFTD_noPARKINSONISM_noALS_noVD_noHT_noCJD_noPDD.CTRL_inclProxy_60older.plink_pheno.txt\", sep = '\\t')"
   ]
  },
  {
   "cell_type": "code",
   "execution_count": 27,
   "id": "d105c0f6-51fe-4d16-a4ba-8eeb5af432f2",
   "metadata": {
    "tags": [],
    "trusted": true
   },
   "outputs": [
    {
     "name": "stdout",
     "output_type": "stream",
     "text": [
      "Count of 1 in 'Pheno': 87524\n",
      "Count of 2 in 'Pheno': 3290\n"
     ]
    }
   ],
   "source": [
    "count_1 = df['ADRD'].value_counts().get(1, 0)\n",
    "count_2 = df['ADRD'].value_counts().get(2, 0)\n",
    "\n",
    "print(f\"Count of 1 in 'Pheno': {count_1}\")\n",
    "print(f\"Count of 2 in 'Pheno': {count_2}\")"
   ]
  },
  {
   "cell_type": "code",
   "execution_count": 28,
   "id": "17e7fa94-a0a5-4de6-b1b7-eb4b83f9700d",
   "metadata": {
    "tags": [],
    "trusted": true
   },
   "outputs": [
    {
     "name": "stdout",
     "output_type": "stream",
     "text": [
      "Error: path \"/opt/notebooks/UKB_EUR_UMAP_COVARIATES.txt\" already exists but\n",
      "-f/--overwrite was not set\n"
     ]
    }
   ],
   "source": [
    "!dx download UKB_EUR_UMAP_COVARIATES.txt"
   ]
  },
  {
   "cell_type": "code",
   "execution_count": 29,
   "id": "e6c48734-c530-4f60-9f6e-69f0b83f3049",
   "metadata": {
    "tags": [],
    "trusted": true
   },
   "outputs": [],
   "source": [
    "df1 = pd.read_csv(\"UKB_EUR_UMAP_COVARIATES.txt\", sep = '\\t')"
   ]
  },
  {
   "cell_type": "code",
   "execution_count": 30,
   "id": "74a48eec-8af6-485b-838f-18f9fdaf9f3d",
   "metadata": {
    "tags": [],
    "trusted": true
   },
   "outputs": [],
   "source": [
    "# Extract only 'FID' and 'IID' column values\n",
    "final2 = df[['FID', 'IID']]"
   ]
  },
  {
   "cell_type": "code",
   "execution_count": 31,
   "id": "9e1768dc-dbd6-4a31-9524-f5eae8ba0ba9",
   "metadata": {
    "tags": [],
    "trusted": true
   },
   "outputs": [],
   "source": [
    "final2.to_csv(\"FID_IID_HT_Dem_remove_PD_VD_FTD_Hu_CJD_Vs_HT_New.txt\", sep='\\t', index=False)"
   ]
  },
  {
   "cell_type": "code",
   "execution_count": 32,
   "id": "8e30bee7-56d8-47b1-bf93-288e4b158df6",
   "metadata": {
    "tags": [],
    "trusted": true
   },
   "outputs": [],
   "source": [
    "df.to_csv(\"Pheno_HT_Dem_remove_PD_VD_FTD_Hu_CJD_Vs_HT_New.txt\", sep='\\t', index=False)"
   ]
  },
  {
   "cell_type": "code",
   "execution_count": 37,
   "id": "f8d4cbef-bf26-4357-a01f-24e3699d8af0",
   "metadata": {
    "tags": [],
    "trusted": true
   },
   "outputs": [],
   "source": [
    "# Merging the DataFrames on the 'ID' column\n",
    "final4 = pd.merge(df1, df, on=['FID','IID'], how='inner')"
   ]
  },
  {
   "cell_type": "code",
   "execution_count": 38,
   "id": "c25f511f-6adf-443f-ac05-8c99bf680944",
   "metadata": {
    "tags": [],
    "trusted": true
   },
   "outputs": [
    {
     "name": "stdout",
     "output_type": "stream",
     "text": [
      "Count of 1 in 'Pheno': 87524\n",
      "Count of 2 in 'Pheno': 3290\n"
     ]
    }
   ],
   "source": [
    "count_1 = final4['ADRD'].value_counts().get(1, 0)\n",
    "count_2 = final4['ADRD'].value_counts().get(2, 0)\n",
    "\n",
    "print(f\"Count of 1 in 'Pheno': {count_1}\")\n",
    "print(f\"Count of 2 in 'Pheno': {count_2}\")"
   ]
  },
  {
   "cell_type": "code",
   "execution_count": 39,
   "id": "7f88c3ea-32f9-41f5-9e93-ac821be38f78",
   "metadata": {
    "tags": [],
    "trusted": true
   },
   "outputs": [],
   "source": [
    "final4.to_csv(\"Covar_HT_Dem_remove_PD_VD_FTD_Hu_CJD_Vs_HT_New.txt\", sep='\\t', index=False)"
   ]
  },
  {
   "cell_type": "code",
   "execution_count": 29,
   "id": "e719cb07-b930-4e51-b510-01f31260d137",
   "metadata": {
    "tags": [],
    "trusted": true
   },
   "outputs": [
    {
     "name": "stdout",
     "output_type": "stream",
     "text": [
      "[===========================================================>] Uploaded 1,634,665 of 1,634,665 bytes (100%) Pheno_HT_Dem_remove_PD_VD_FTD_Hu_CJD_Vs_HT_New.txt\n",
      "ID                                file-J0fxxfjJbP2g19z4kQG5FBX2\n",
      "Class                             file\n",
      "Project                           project-GkYf2zQJbP2Q3vFgf14863Gf\n",
      "Folder                            /\n",
      "Name                              Pheno_HT_Dem_remove_PD_VD_FTD_Hu_CJD_Vs_HT_New.txt\n",
      "State                             \u001b[33mclosing\u001b[0m\n",
      "Visibility                        visible\n",
      "Types                             -\n",
      "Properties                        -\n",
      "Tags                              -\n",
      "Outgoing links                    -\n",
      "Created                           Wed May 21 14:10:35 2025\n",
      "Created by                        vidhu\n",
      " via the job                      job-J0fxQfjJbP2vxfkJ3YZJY2K0\n",
      "Last modified                     Wed May 21 14:10:35 2025\n",
      "Media type                        \n",
      "archivalState                     \"live\"\n",
      "cloudAccount                      \"cloudaccount-dnanexus\"\n"
     ]
    }
   ],
   "source": [
    "!dx upload Pheno_HT_Dem_remove_PD_VD_FTD_Hu_CJD_Vs_HT_New.txt"
   ]
  },
  {
   "cell_type": "code",
   "execution_count": 30,
   "id": "9b9b6739-f0bc-4948-a3e8-b7c8c7e9c03a",
   "metadata": {
    "tags": [],
    "trusted": true
   },
   "outputs": [
    {
     "name": "stdout",
     "output_type": "stream",
     "text": [
      "[===========================================================>] Uploaded 1,453,032 of 1,453,032 bytes (100%) FID_IID_HT_Dem_remove_PD_VD_FTD_Hu_CJD_Vs_HT_New.txt\n",
      "ID                                file-J0fxxg8JbP2qFK9Pf5V2ZxGF\n",
      "Class                             file\n",
      "Project                           project-GkYf2zQJbP2Q3vFgf14863Gf\n",
      "Folder                            /\n",
      "Name                              FID_IID_HT_Dem_remove_PD_VD_FTD_Hu_CJD_Vs_HT_New.txt\n",
      "State                             \u001b[33mclosing\u001b[0m\n",
      "Visibility                        visible\n",
      "Types                             -\n",
      "Properties                        -\n",
      "Tags                              -\n",
      "Outgoing links                    -\n",
      "Created                           Wed May 21 14:10:37 2025\n",
      "Created by                        vidhu\n",
      " via the job                      job-J0fxQfjJbP2vxfkJ3YZJY2K0\n",
      "Last modified                     Wed May 21 14:10:38 2025\n",
      "Media type                        \n",
      "archivalState                     \"live\"\n",
      "cloudAccount                      \"cloudaccount-dnanexus\"\n"
     ]
    }
   ],
   "source": [
    "!dx upload FID_IID_HT_Dem_remove_PD_VD_FTD_Hu_CJD_Vs_HT_New.txt"
   ]
  },
  {
   "cell_type": "code",
   "execution_count": 42,
   "id": "a557b2c0-f5f9-4e97-95c0-7c2eca004afa",
   "metadata": {
    "tags": [],
    "trusted": true
   },
   "outputs": [
    {
     "name": "stdout",
     "output_type": "stream",
     "text": [
      "[===========================================================>] Uploaded 15,659,433 of 15,659,433 bytes (100%) Covar_HT_Dem_remove_PD_VD_FTD_Hu_CJD_Vs_HT_New.txt\n",
      "ID                                file-J0kgjX8JbP2qFK9Pf5V85YZ9\n",
      "Class                             file\n",
      "Project                           project-GkYf2zQJbP2Q3vFgf14863Gf\n",
      "Folder                            /\n",
      "Name                              Covar_HT_Dem_remove_PD_VD_FTD_Hu_CJD_Vs_HT_New.txt\n",
      "State                             \u001b[33mclosing\u001b[0m\n",
      "Visibility                        visible\n",
      "Types                             -\n",
      "Properties                        -\n",
      "Tags                              -\n",
      "Outgoing links                    -\n",
      "Created                           Sun May 25 20:23:37 2025\n",
      "Created by                        vidhu\n",
      " via the job                      job-J0kfqz0JbP2bYb8k0qFGZfQ5\n",
      "Last modified                     Sun May 25 20:23:38 2025\n",
      "Media type                        \n",
      "archivalState                     \"live\"\n",
      "cloudAccount                      \"cloudaccount-dnanexus\"\n"
     ]
    }
   ],
   "source": [
    "!dx upload Covar_HT_Dem_remove_PD_VD_FTD_Hu_CJD_Vs_HT_New.txt"
   ]
  },
  {
   "cell_type": "code",
   "execution_count": 53,
   "id": "addca7f5-8786-4813-81e6-1b039773687a",
   "metadata": {
    "tags": [],
    "trusted": true
   },
   "outputs": [
    {
     "name": "stdout",
     "output_type": "stream",
     "text": [
      "job-Gxfvk90JbP2qkqKPv2qkKyyV\n",
      "job-Gxfvk98JbP2Z91v1b7zfvzKb\n",
      "job-Gxfvk9QJbP2fG2QQQgfV8kpG\n",
      "job-Gxfvk9jJbP2Qb2ypGxgj98QG\n",
      "job-GxfvkB0JbP2fG2QQQgfV8kpQ\n",
      "job-GxfvkB8JbP2qkqKPv2qkKyyb\n",
      "job-GxfvkBQJbP2Z91v1b7zfvzKj\n",
      "job-GxfvkBjJbP2Z91v1b7zfvzKp\n",
      "job-GxfvkF0JbP2pG9qPGBgPxb44\n",
      "job-GxfvkF8JbP2fG2QQQgfV8kqQ\n",
      "job-GxfvkFQJbP2Qb2ypGxgj98QQ\n",
      "job-GxfvkFjJbP2pG9qPGBgPxb48\n",
      "job-GxfvkG0JbP2fG2QQQgfV8kqX\n",
      "job-GxfvkG8JbP2ZZ9jJv5VV29JX\n",
      "job-GxfvkGjJbP2ZZ9jJv5VV29JZ\n",
      "job-GxfvkJ0JbP2qzPkKPJ6p9GXy\n",
      "job-GxfvkJ8JbP2k8Jf4QkVvK3qQ\n",
      "job-GxfvkJQJbP2qzPkKPJ6p9GY6\n",
      "job-GxfvkJjJbP2ZZ9jJv5VV29KB\n",
      "job-GxfvkK0JbP2fG2QQQgfV8kv7\n",
      "job-GxfvkK8JbP2qzPkKPJ6p9GYB\n",
      "job-GxfvkKQJbP2k8Jf4QkVvK3qv\n",
      "job-GxfvkKjJbP2Qb2ypGxgj98V5\n"
     ]
    }
   ],
   "source": [
    "%%bash\n",
    "\n",
    "seq 1 1 23 > chr_list.txt\n",
    "\n",
    "FILE_DIR_A=\"/Imputed_Genotypes_2023/TOPMed_Plink2\"\n",
    "FILE_DIR_B=\"/ref_panel/chip_overlaps/\"\n",
    "# FILE_DIR_C=\"/Imputed_Genotypes_2023/TOPMed_Plink2/extract\"\n",
    "\n",
    "CHR_IDS=$(cat chr_list.txt)\n",
    "\n",
    "\n",
    "for CHR in $CHR_IDS; do\n",
    "    dx run swiss-army-knife -iin=\"chr${CHR}_pgen.pgen\" \\\n",
    "    -iin=\"chr${CHR}_pgen.psam\" \\\n",
    "    -iin=\"chr${CHR}_pgen.pvar\" \\\n",
    "    -iin=\"Pheno_HT_Dem_remove_PD_VD_FTD_Hu_CJD_Vs_HT_New.txt\" \\\n",
    "    -iin=\"Covar_HT_Dem_remove_PD_VD_FTD_Hu_CJD_Vs_HT_New.txt\" \\\n",
    "    -iin=\"FID_IID_HT_Dem_remove_PD_VD_FTD_Hu_CJD_Vs_HT_New.txt\" \\\n",
    "    -icmd='plink2 --pfile \"$in_prefix\" \\\n",
    "    --glm hide-covar firth-fallback cols=+a1freq,+a1freqcc,+a1countcc,+totallelecc,+err,+beta,-test,-nobs,-tz,-orbeta \\\n",
    "    --pheno Pheno_HT_Dem_remove_PD_VD_FTD_Hu_CJD_Vs_HT_New.txt --maf 0.01 \\\n",
    "    --pheno-name ADRD --covar-variance-standardize \\\n",
    "    --geno 0.05 --mac 20  --memory 12000 \\\n",
    "    --covar Covar_HT_Dem_remove_PD_VD_FTD_Hu_CJD_Vs_HT_New.txt \\\n",
    "    --covar-name PC1,PC2,PC3,PC4,PC5,PC6,PC7,PC8,PC9,PC10,GENETIC_SEX,AGE_2024_COV,sbp \\\n",
    "    --keep FID_IID_HT_Dem_remove_PD_VD_FTD_Hu_CJD_Vs_HT_New.txt \\\n",
    "    --out \"$in_prefix\".HT_Dem_remove_PD_VD_FTD_Hu_CJD_Vs_HT_New.txt' -y  --brief --priority normal \\\n",
    "    --instance-type mem3_ssd3_x12 --destination \"${projectid}:${FILE_DIR}/\" \n",
    "done "
   ]
  },
  {
   "cell_type": "code",
   "execution_count": 9,
   "id": "0299bca6-616b-4e89-8bba-813e188ee04a",
   "metadata": {
    "tags": [],
    "trusted": true
   },
   "outputs": [
    {
     "name": "stdout",
     "output_type": "stream",
     "text": [
      "\u001b[2K[===========================================================>] Completed 45,228,068 of 45,228,068 bytes (100%) /opt/notebooks/chr9_pgen.Pheno_New_final_HT_Dem_remove_PD_VD_FTD_Hu_CJD_Vs_HT_New_sbp.txt.ADRD.glm.logistic.hybridd\n"
     ]
    }
   ],
   "source": [
    "!dx download chr9_pgen.HT_Dem_remove_PD_VD_FTD_Hu_CJD_Vs_HT_New.txt.ADRD.glm.logistic.hybrid"
   ]
  },
  {
   "cell_type": "code",
   "execution_count": 23,
   "id": "18a58d4c-10d8-408e-9604-8c49d0233e08",
   "metadata": {
    "tags": [],
    "trusted": true
   },
   "outputs": [
    {
     "name": "stdout",
     "output_type": "stream",
     "text": [
      "1\n",
      "2\n",
      "3\n",
      "4\n",
      "5\n",
      "6\n",
      "7\n",
      "8\n",
      "9\n",
      "10\n",
      "11\n",
      "12\n",
      "13\n",
      "14\n",
      "15\n",
      "16\n",
      "17\n",
      "18\n",
      "19\n",
      "20\n",
      "21\n",
      "22\n"
     ]
    }
   ],
   "source": [
    "import pandas as pd\n",
    "for CHR in range(1,23):\n",
    "    print(CHR)\n",
    "    AGE_SEX_MATCH_TEMP = pd.read_csv(f'chr{CHR}_pgen.Pheno_New_final_HT_Dem_remove_PD_VD_FTD_Hu_CJD_Vs_HT_New_sbp.txt.ADRD.glm.logistic.hybrid',\n",
    "        delim_whitespace=True\n",
    "    )\n",
    "    if CHR==1:\n",
    "        AGE_SEX_MATCH = AGE_SEX_MATCH_TEMP\n",
    "    else:\n",
    "        AGE_SEX_MATCH = pd.concat([AGE_SEX_MATCH,AGE_SEX_MATCH_TEMP])"
   ]
  },
  {
   "cell_type": "code",
   "execution_count": 24,
   "id": "07ba7b7a-4323-449e-aab0-596e93b650e0",
   "metadata": {
    "tags": [],
    "trusted": true
   },
   "outputs": [],
   "source": [
    "AGE_SEX_MATCH.to_csv(\"output_final_HT_Dem_remove_PD_VD_FTD_Hu_CJD_Vs_HT_0.01_New_UKB_GWAS..txt\", sep='\\t', index=False)"
   ]
  },
  {
   "cell_type": "code",
   "execution_count": 25,
   "id": "7a3f9b31-35cc-4d56-8708-6ff896e18e3f",
   "metadata": {
    "tags": [],
    "trusted": true
   },
   "outputs": [
    {
     "name": "stdout",
     "output_type": "stream",
     "text": [
      "[===========================================================>] Uploaded 1,057,769,536 of 1,057,769,536 bytes (100%) HT_Dem_remove_PD_VD_FTD_Hu_CJD_Vs_HT_New_sbp.txt\n",
      "ID                                file-GxgGvk0JbP2VG03037f9Q24Q\n",
      "Class                             file\n",
      "Project                           project-GkYf2zQJbP2Q3vFgf14863Gf\n",
      "Folder                            /\n",
      "Name                              HT_Dem_remove_PD_VD_FTD_Hu_CJD_Vs_HT_New_sbp.txt\n",
      "State                             \u001b[33mclosing\u001b[0m\n",
      "Visibility                        visible\n",
      "Types                             -\n",
      "Properties                        -\n",
      "Tags                              -\n",
      "Outgoing links                    -\n",
      "Created                           Fri Dec 27 15:57:24 2024\n",
      "Created by                        vidhu\n",
      " via the job                      job-GxgF3f0JbP2pzzZF6vYjjb0v\n",
      "Last modified                     Fri Dec 27 15:57:26 2024\n",
      "Media type                        \n",
      "archivalState                     \"live\"\n",
      "cloudAccount                      \"cloudaccount-dnanexus\"\n"
     ]
    }
   ],
   "source": [
    "!dx upload output_final_HT_Dem_remove_PD_VD_FTD_Hu_CJD_Vs_HT_0.01_New_UKB_GWAS..txt"
   ]
  }
 ],
 "metadata": {
  "kernelspec": {
   "display_name": "Python 3 (ipykernel)",
   "language": "python",
   "name": "python3"
  },
  "language_info": {
   "codemirror_mode": {
    "name": "ipython",
    "version": 3
   },
   "file_extension": ".py",
   "mimetype": "text/x-python",
   "name": "python",
   "nbconvert_exporter": "python",
   "pygments_lexer": "ipython3",
   "version": "3.11.5"
  }
 },
 "nbformat": 4,
 "nbformat_minor": 5
}
