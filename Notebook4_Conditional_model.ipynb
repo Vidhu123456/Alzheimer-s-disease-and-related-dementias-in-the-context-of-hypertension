{\rtf1\ansi\ansicpg1252\cocoartf2821
\cocoatextscaling0\cocoaplatform0{\fonttbl\f0\fswiss\fcharset0 Helvetica;}
{\colortbl;\red255\green255\blue255;}
{\*\expandedcolortbl;;}
\margl1440\margr1440\vieww34360\viewh21600\viewkind0
\pard\tx720\tx1440\tx2160\tx2880\tx3600\tx4320\tx5040\tx5760\tx6480\tx7200\tx7920\tx8640\pardirnatural\partightenfactor0

\f0\fs24 \cf0 # We implemented conditional model between APOE genotype and CRIM1\
\
# Load the dataset in R\
data <- read.table("HT_Alzheimers_APOE_Status_with_PCs.txt", header = TRUE, sep = "\\t")\
\
# Check if the data has been loaded correctly\
head(data)\
\
# Specify the file where results will be saved\
output_file <- "GLM_interaction_model_HT_Alzheimers_APOE_Status_with_PCs.txt"\
\
# Clear the output file at the start\
write("", file = output_file)\
\
# Convert PHENO to a factor\
data$ADRD <- factor(data$ADRD, levels = c(1, 2))  # 1 = Control, 2 = Case\
\
# Variant 1\
conditional_model <- glm(ADRD ~ CRIM1_GENOTYPE + APOE_GENOTYPE + GENETIC_SEX + AGE_2024_COV + PC1 + PC2 + PC3 + PC4 + PC5, family = binomial)\
sink(output_file, append = TRUE)\
cat("\\n\\nResults for APOE status\\n")\
print(summary(interaction_model))\
sink()}