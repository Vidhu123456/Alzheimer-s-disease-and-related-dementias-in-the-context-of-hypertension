{
 "cells": [
  {
   "cell_type": "code",
   "execution_count": null,
   "id": "5e6b79e5-621b-4738-b72e-084e1036aace",
   "metadata": {
    "tags": [],
    "trusted": true
   },
   "outputs": [],
   "source": [
    "\n",
    "1.We extracted data from the “UK Biobank”, identifying 3,290 cases with essential hypertension and co-occurring dementia, after excluding individuals with Parkinson’s disease, vascular dementia, frontotemporal dementia, Huntington’s disease, or Creutzfeldt-Jakob disease. A total of 87,524 individuals with essential hypertension but without any neurodegenerative conditions were included as controls and ran genome-wide association analysis using PLINK.2.0. \n",
    "2.Systolic blood pressure was calculated for 3,105 cases and 83,205 controls.\n",
    "3.Systolic blood pressure was added as a covariate.\n",
    "4.We ran GWAS using PLINK.2.0 and 10 principle components, sex_At_birth, current age (2024-year of birth), age filter > 60 and SBP status. "
   ]
  },
  {
   "cell_type": "code",
   "execution_count": null,
   "id": "bb049117",
   "metadata": {},
   "outputs": [],
   "source": [
    "import pandas as pd\n",
    "import subprocess\n",
    "import sys\n",
    "import numpy as np\n",
    "import os\n",
    "import shutil\n"
   ]
  },
  {
   "cell_type": "code",
   "execution_count": 2,
   "id": "1b2ae4ce-af25-4a5c-bb55-fb3bd84462c4",
   "metadata": {
    "tags": [],
    "trusted": true
   },
   "outputs": [],
   "source": [
    "def shell_do(command, log=False, return_log=False):\n",
    "    print(f'Executing: {(\" \").join(command.split())}', file=sys.stderr)\n",
    "\n",
    "    res=subprocess.run(command.split(), stdout=subprocess.PIPE)\n",
    "\n",
    "    if log:\n",
    "        print(res.stdout.decode('utf-8'))\n",
    "    if return_log:\n",
    "        return(res.stdout.decode('utf-8'), res.stderr.decode('utf-8'))"
   ]
  },
  {
   "cell_type": "markdown",
   "id": "e0d68ce0-919f-4121-91f9-860e37a0cbeb",
   "metadata": {
    "tags": []
   },
   "source": [
    "# Interacting with Swiss Army Knife through Jupyter Notebooks\n",
    "## What is Swiss Army Knife?\n",
    "### Swiss Army Knife is a generic app which can be used to perform common file operations for the genotype data housed on DNANexus.\n",
    "### Contains software such as plink, plink2, bcftools, etc.\n",
    "#### Below we'll see an example of looping through each chromosome and extracting a set of variants.\n",
    "##### -iin: input (need to specify each file).\n",
    "##### -icmd: command to run\n",
    "##### --instance-type: VM type to run the command on\n",
    "##### --destination: output folder\n",
    "#### Note: this will start 23 separate Swiss Army Knife jobs so make sure you are using a reasonable instance type."
   ]
  },
  {
   "cell_type": "code",
   "execution_count": 3,
   "id": "fb8fcc24-e79e-4337-931a-885a9a1bb301",
   "metadata": {
    "tags": [],
    "trusted": true
   },
   "outputs": [],
   "source": [
    "import pandas as pd"
   ]
  },
  {
   "cell_type": "code",
   "execution_count": 4,
   "id": "2ba6d30b-f4fc-4037-b26a-4b8e6029073b",
   "metadata": {
    "tags": [],
    "trusted": true
   },
   "outputs": [
    {
     "name": "stdout",
     "output_type": "stream",
     "text": [
      "\u001b[2K[===========================================================>] Completed 1,634,665 of 1,634,665 bytes (100%) /opt/notebooks/ADRD_noFTD_noPARKINSONISM_noALS_noVD_noHT_noCJD_noPDD.CTRL_inclProxy_60older.plink_pheno.txtt\n"
     ]
    }
   ],
   "source": [
    "!dx download ADRD_noFTD_noPARKINSONISM_noALS_noVD_noHT_noCJD_noPDD.CTRL_inclProxy_60older.plink_pheno.txt"
   ]
  },
  {
   "cell_type": "code",
   "execution_count": 5,
   "id": "22615315-a34e-46fb-80b3-20571cc5566a",
   "metadata": {
    "tags": [],
    "trusted": true
   },
   "outputs": [],
   "source": [
    "df = pd.read_csv(\"ADRD_noFTD_noPARKINSONISM_noALS_noVD_noHT_noCJD_noPDD.CTRL_inclProxy_60older.plink_pheno.txt\", sep = '\\t')"
   ]
  },
  {
   "cell_type": "code",
   "execution_count": 6,
   "id": "d105c0f6-51fe-4d16-a4ba-8eeb5af432f2",
   "metadata": {
    "tags": [],
    "trusted": true
   },
   "outputs": [
    {
     "name": "stdout",
     "output_type": "stream",
     "text": [
      "Count of 1 in 'Pheno': 87524\n",
      "Count of 2 in 'Pheno': 3290\n"
     ]
    }
   ],
   "source": [
    "count_1 = df['ADRD'].value_counts().get(1, 0)\n",
    "count_2 = df['ADRD'].value_counts().get(2, 0)\n",
    "\n",
    "print(f\"Count of 1 in 'Pheno': {count_1}\")\n",
    "print(f\"Count of 2 in 'Pheno': {count_2}\")"
   ]
  },
  {
   "cell_type": "code",
   "execution_count": 7,
   "id": "17e7fa94-a0a5-4de6-b1b7-eb4b83f9700d",
   "metadata": {
    "tags": [],
    "trusted": true
   },
   "outputs": [
    {
     "name": "stdout",
     "output_type": "stream",
     "text": [
      "\u001b[2K[===========================================================>] Completed 78,690,854 of 78,690,854 bytes (100%) /opt/notebooks/UKB_EUR_UMAP_COVARIATES.txtt\n"
     ]
    }
   ],
   "source": [
    "!dx download UKB_EUR_UMAP_COVARIATES.txt"
   ]
  },
  {
   "cell_type": "code",
   "execution_count": 8,
   "id": "e6c48734-c530-4f60-9f6e-69f0b83f3049",
   "metadata": {
    "tags": [],
    "trusted": true
   },
   "outputs": [],
   "source": [
    "df1 = pd.read_csv(\"UKB_EUR_UMAP_COVARIATES.txt\", sep = '\\t')"
   ]
  },
  {
   "cell_type": "code",
   "execution_count": 9,
   "id": "57f0133c-4eaf-42db-a5fb-bbad4c8aea29",
   "metadata": {
    "tags": [],
    "trusted": true
   },
   "outputs": [
    {
     "name": "stdout",
     "output_type": "stream",
     "text": [
      "\u001b[2K[===========================================================>] Completed 5,609,562 of 5,609,562 bytes (100%) /opt/notebooks/Systolic_blood_pressure_participant.csvv\n"
     ]
    }
   ],
   "source": [
    "!dx download Systolic_blood_pressure_participant.csv"
   ]
  },
  {
   "cell_type": "code",
   "execution_count": 10,
   "id": "ec93e88e-513d-4ce4-a828-fe16f2ad7dd9",
   "metadata": {
    "tags": [],
    "trusted": true
   },
   "outputs": [],
   "source": [
    "df2 = pd.read_csv(\"Systolic_blood_pressure_participant.csv\")"
   ]
  },
  {
   "cell_type": "code",
   "execution_count": 11,
   "id": "e0555810-3c79-4d03-8f27-9604522399f1",
   "metadata": {
    "tags": [],
    "trusted": true
   },
   "outputs": [],
   "source": [
    "# Rename column headers\n",
    "df4 = df2.rename(columns={'eid': 'FID', 'p4080_i0_a0': 'sbp'})"
   ]
  },
  {
   "cell_type": "code",
   "execution_count": 12,
   "id": "f4558410-b59a-401f-87b2-f9e7dfa7ef57",
   "metadata": {
    "tags": [],
    "trusted": true
   },
   "outputs": [],
   "source": [
    "# assuming df is your DataFrame\n",
    "df4['IID'] = df4['FID'].copy()"
   ]
  },
  {
   "cell_type": "code",
   "execution_count": 13,
   "id": "67429389-7830-47ba-b8a3-b31d7541ab4f",
   "metadata": {
    "tags": [],
    "trusted": true
   },
   "outputs": [],
   "source": [
    "# Rearrange column sequence\n",
    "df4 = df4[['FID', 'IID', 'sbp']]"
   ]
  },
  {
   "cell_type": "code",
   "execution_count": 14,
   "id": "f7949ad8-070f-405e-8aa4-2994c02749fc",
   "metadata": {
    "trusted": true
   },
   "outputs": [],
   "source": [
    "# Merging the DataFrames on the 'ID' column\n",
    "final = pd.merge(df1, df4, on=['FID','IID'], how='inner')"
   ]
  },
  {
   "cell_type": "code",
   "execution_count": 15,
   "id": "4d592cbb-1c43-4704-bb55-80a3699e05fe",
   "metadata": {
    "tags": [],
    "trusted": true
   },
   "outputs": [],
   "source": [
    "# Merging the DataFrames on the 'ID' column\n",
    "final1 = pd.merge(final, df, on=['FID','IID'], how='inner')"
   ]
  },
  {
   "cell_type": "code",
   "execution_count": 16,
   "id": "113d20a0-6327-4ace-8c18-bc273899ed2e",
   "metadata": {
    "tags": [],
    "trusted": true
   },
   "outputs": [],
   "source": [
    "final1.to_csv(\"Covar_New_final_HT_Dem_remove_PD_VD_FTD_Hu_CJD_Vs_HT_New_sbp.txt\", sep='\\t', index=False)"
   ]
  },
  {
   "cell_type": "code",
   "execution_count": 17,
   "id": "74a48eec-8af6-485b-838f-18f9fdaf9f3d",
   "metadata": {
    "tags": [],
    "trusted": true
   },
   "outputs": [],
   "source": [
    "# Extract only 'FID' and 'IID' column values\n",
    "final2 = final1[['FID', 'IID']]"
   ]
  },
  {
   "cell_type": "code",
   "execution_count": 18,
   "id": "9e1768dc-dbd6-4a31-9524-f5eae8ba0ba9",
   "metadata": {
    "tags": [],
    "trusted": true
   },
   "outputs": [],
   "source": [
    "final2.to_csv(\"FID_IID_HT_Dem_remove_PD_VD_FTD_Hu_CJD_Vs_HT_New_sbp.txt\", sep='\\t', index=False)"
   ]
  },
  {
   "cell_type": "code",
   "execution_count": 19,
   "id": "f8d4cbef-bf26-4357-a01f-24e3699d8af0",
   "metadata": {
    "tags": [],
    "trusted": true
   },
   "outputs": [],
   "source": [
    "# Merging the DataFrames on the 'ID' column\n",
    "final4 = pd.merge(final2, df, on=['FID','IID'], how='inner')"
   ]
  },
  {
   "cell_type": "code",
   "execution_count": 20,
   "id": "c25f511f-6adf-443f-ac05-8c99bf680944",
   "metadata": {
    "tags": [],
    "trusted": true
   },
   "outputs": [
    {
     "name": "stdout",
     "output_type": "stream",
     "text": [
      "Count of 1 in 'Pheno': 83205\n",
      "Count of 2 in 'Pheno': 3105\n"
     ]
    }
   ],
   "source": [
    "count_1 = final4['ADRD'].value_counts().get(1, 0)\n",
    "count_2 = final4['ADRD'].value_counts().get(2, 0)\n",
    "\n",
    "print(f\"Count of 1 in 'Pheno': {count_1}\")\n",
    "print(f\"Count of 2 in 'Pheno': {count_2}\")"
   ]
  },
  {
   "cell_type": "code",
   "execution_count": 21,
   "id": "7f88c3ea-32f9-41f5-9e93-ac821be38f78",
   "metadata": {
    "tags": [],
    "trusted": true
   },
   "outputs": [],
   "source": [
    "df.to_csv(\"Pheno_HT_Dem_remove_PD_VD_FTD_Hu_CJD_Vs_HT_New_sbp.txt\", sep='\\t', index=False)"
   ]
  },
  {
   "cell_type": "code",
   "execution_count": 35,
   "id": "e719cb07-b930-4e51-b510-01f31260d137",
   "metadata": {
    "tags": [],
    "trusted": true
   },
   "outputs": [
    {
     "name": "stdout",
     "output_type": "stream",
     "text": [
      "dxpy.utils.resolver.ResolutionError: Unable to resolve \"Covar_New_final_HT_Dem_remove_PD_VD_FTD_Hu_CJD_Vs_HT_New_sbp.txt\" to a data object or folder name in '/'\n"
     ]
    }
   ],
   "source": [
    "!dx upload Covar_New_final_HT_Dem_remove_PD_VD_FTD_Hu_CJD_Vs_HT_New_sbp.txt"
   ]
  },
  {
   "cell_type": "code",
   "execution_count": 31,
   "id": "9b9b6739-f0bc-4948-a3e8-b7c8c7e9c03a",
   "metadata": {
    "tags": [],
    "trusted": true
   },
   "outputs": [
    {
     "name": "stdout",
     "output_type": "stream",
     "text": [
      "FileNotFoundError: [Errno 2] No such file or directory: 'FID_IID_HT_Dem_remove_PD_VD_FTD_Hu_CJD_Vs_HT_New_sbp.txt'\n"
     ]
    }
   ],
   "source": [
    "!dx upload FID_IID_HT_Dem_remove_PD_VD_FTD_Hu_CJD_Vs_HT_New_sbp.txt"
   ]
  },
  {
   "cell_type": "code",
   "execution_count": 32,
   "id": "a557b2c0-f5f9-4e97-95c0-7c2eca004afa",
   "metadata": {
    "tags": [],
    "trusted": true
   },
   "outputs": [
    {
     "name": "stdout",
     "output_type": "stream",
     "text": [
      "[===========================================================>] Uploaded 1,553,593 of 1,553,593 bytes (100%) Pheno_HT_Dem_remove_PD_VD_FTD_Hu_CJD_Vs_HT_New_sbp.txt\n",
      "ID                                file-J11Y7GQJbP2X5Zjz1FF5PP8K\n",
      "Class                             file\n",
      "Project                           project-GkYf2zQJbP2Q3vFgf14863Gf\n",
      "Folder                            /\n",
      "Name                              Pheno_HT_Dem_remove_PD_VD_FTD_Hu_CJD_Vs_HT_New_sbp.txt\n",
      "State                             \u001b[33mclosing\u001b[0m\n",
      "Visibility                        visible\n",
      "Types                             -\n",
      "Properties                        -\n",
      "Tags                              -\n",
      "Outgoing links                    -\n",
      "Created                           Fri Jun  6 18:30:10 2025\n",
      "Created by                        vidhu\n",
      " via the job                      job-J11X038JbP2qK379bzxygGGB\n",
      "Last modified                     Fri Jun  6 18:30:11 2025\n",
      "Media type                        \n",
      "archivalState                     \"live\"\n",
      "cloudAccount                      \"cloudaccount-dnanexus\"\n"
     ]
    }
   ],
   "source": [
    "!dx upload Pheno_HT_Dem_remove_PD_VD_FTD_Hu_CJD_Vs_HT_New_sbp.txt"
   ]
  },
  {
   "cell_type": "code",
   "execution_count": 53,
   "id": "addca7f5-8786-4813-81e6-1b039773687a",
   "metadata": {
    "tags": [],
    "trusted": true
   },
   "outputs": [
    {
     "name": "stdout",
     "output_type": "stream",
     "text": [
      "job-Gxfvk90JbP2qkqKPv2qkKyyV\n",
      "job-Gxfvk98JbP2Z91v1b7zfvzKb\n",
      "job-Gxfvk9QJbP2fG2QQQgfV8kpG\n",
      "job-Gxfvk9jJbP2Qb2ypGxgj98QG\n",
      "job-GxfvkB0JbP2fG2QQQgfV8kpQ\n",
      "job-GxfvkB8JbP2qkqKPv2qkKyyb\n",
      "job-GxfvkBQJbP2Z91v1b7zfvzKj\n",
      "job-GxfvkBjJbP2Z91v1b7zfvzKp\n",
      "job-GxfvkF0JbP2pG9qPGBgPxb44\n",
      "job-GxfvkF8JbP2fG2QQQgfV8kqQ\n",
      "job-GxfvkFQJbP2Qb2ypGxgj98QQ\n",
      "job-GxfvkFjJbP2pG9qPGBgPxb48\n",
      "job-GxfvkG0JbP2fG2QQQgfV8kqX\n",
      "job-GxfvkG8JbP2ZZ9jJv5VV29JX\n",
      "job-GxfvkGjJbP2ZZ9jJv5VV29JZ\n",
      "job-GxfvkJ0JbP2qzPkKPJ6p9GXy\n",
      "job-GxfvkJ8JbP2k8Jf4QkVvK3qQ\n",
      "job-GxfvkJQJbP2qzPkKPJ6p9GY6\n",
      "job-GxfvkJjJbP2ZZ9jJv5VV29KB\n",
      "job-GxfvkK0JbP2fG2QQQgfV8kv7\n",
      "job-GxfvkK8JbP2qzPkKPJ6p9GYB\n",
      "job-GxfvkKQJbP2k8Jf4QkVvK3qv\n",
      "job-GxfvkKjJbP2Qb2ypGxgj98V5\n"
     ]
    }
   ],
   "source": [
    "%%bash\n",
    "\n",
    "seq 1 1 23 > chr_list.txt\n",
    "\n",
    "FILE_DIR_A=\"/Imputed_Genotypes_2023/TOPMed_Plink2\"\n",
    "FILE_DIR_B=\"/ref_panel/chip_overlaps/\"\n",
    "# FILE_DIR_C=\"/Imputed_Genotypes_2023/TOPMed_Plink2/extract\"\n",
    "\n",
    "CHR_IDS=$(cat chr_list.txt)\n",
    "\n",
    "\n",
    "for CHR in $CHR_IDS; do\n",
    "    dx run swiss-army-knife -iin=\"chr${CHR}_pgen.pgen\" \\\n",
    "    -iin=\"chr${CHR}_pgen.psam\" \\\n",
    "    -iin=\"chr${CHR}_pgen.pvar\" \\\n",
    "    -iin=\"Pheno_New_final_HT_Dem_remove_PD_VD_FTD_Hu_CJD_Vs_HT_New_sbp.txt\" \\\n",
    "    -iin=\"Covar_HT_Dem_remove_PD_VD_FTD_Hu_CJD_Vs_HT_New_sbp.txt\" \\\n",
    "    -iin=\"FID_IID_HT_Dem_remove_PD_VD_FTD_Hu_CJD_Vs_HT_New_sbp.txt\" \\\n",
    "    -icmd='plink2 --pfile \"$in_prefix\" \\\n",
    "    --glm hide-covar firth-fallback cols=+a1freq,+a1freqcc,+a1countcc,+totallelecc,+err,+beta,-test,-nobs,-tz,-orbeta \\\n",
    "    --pheno Pheno_HT_Dem_remove_PD_VD_FTD_Hu_CJD_Vs_HT_New_sbp.txt --maf 0.01 \\\n",
    "    --pheno-name ADRD --covar-variance-standardize \\\n",
    "    --geno 0.05 --mac 20  --memory 12000 \\\n",
    "    --covar Covar_New_final_HT_Dem_remove_PD_VD_FTD_Hu_CJD_Vs_HT_New_sbp.txt \\\n",
    "    --covar-name PC1,PC2,PC3,PC4,PC5,PC6,PC7,PC8,PC9,PC10,GENETIC_SEX,AGE_2024_COV,sbp \\\n",
    "    --keep FID_IID_HT_Dem_remove_PD_VD_FTD_Hu_CJD_Vs_HT_New_sbp.txt \\\n",
    "    --out \"$in_prefix\".Pheno_New_final_HT_Dem_remove_PD_VD_FTD_Hu_CJD_Vs_HT_New_sbp.txt' -y  --brief --priority normal \\\n",
    "    --instance-type mem3_ssd3_x12 --destination \"${projectid}:${FILE_DIR}/\" \n",
    "done "
   ]
  },
  {
   "cell_type": "code",
   "execution_count": 35,
   "id": "239ab37b-b753-432b-9f56-1a3b9c64d972",
   "metadata": {
    "tags": [],
    "trusted": true
   },
   "outputs": [
    {
     "name": "stdout",
     "output_type": "stream",
     "text": [
      "job-GvJ6ZBQJbP2k41kp525BJ4JY\n",
      "job-GvJ6ZBjJbP2ZFjBQGpfK8QGg\n",
      "job-GvJ6ZF0JbP2x2gbzKx43x32J\n",
      "job-GvJ6ZF8JbP2jZbkF1K3Pv0xZ\n",
      "job-GvJ6ZFQJbP2VzqP7vv41F2QP\n",
      "job-GvJ6ZFjJbP2k41kp525BJ4Jp\n",
      "job-GvJ6ZG0JbP2x2gbzKx43x32g\n",
      "job-GvJ6ZG8JbP2jZbkF1K3Pv0xv\n",
      "job-GvJ6ZGQJbP2jZbkF1K3Pv0y0\n",
      "job-GvJ6ZGjJbP2jZbkF1K3Pv0y4\n",
      "job-GvJ6ZJ0JbP2jZbkF1K3Pv0y6\n",
      "job-GvJ6ZJ8JbP2k41kp525BJ4K2\n",
      "job-GvJ6ZJQJbP2ZFjBQGpfK8QJF\n",
      "job-GvJ6ZJjJbP2jZbkF1K3Pv0yP\n",
      "job-GvJ6ZK0JbP2k41kp525BJ4KG\n",
      "job-GvJ6ZK8JbP2k41kp525BJ4KQ\n",
      "job-GvJ6ZKQJbP2ZFjBQGpfK8QJk\n",
      "job-GvJ6ZKjJbP2jZbkF1K3Pv0yg\n",
      "job-GvJ6ZP0JbP2x2gbzKx43x339\n",
      "job-GvJ6ZP8JbP2VzqP7vv41F2X1\n",
      "job-GvJ6ZPQJbP2zg51ZbkFP04GK\n",
      "job-GvJ6ZPjJbP2k41kp525BJ4P1\n",
      "job-GvJ6ZQ0JbP2jZbkF1K3Pv0z1\n"
     ]
    }
   ],
   "source": [
    "%%bash\n",
    "\n",
    "seq 1 1 23 > chr_list.txt\n",
    "\n",
    "FILE_DIR_A=\"/Imputed_Genotypes_2023/TOPMed_Plink2\"\n",
    "FILE_DIR_B=\"/ref_panel/chip_overlaps/\"\n",
    "# FILE_DIR_C=\"/Imputed_Genotypes_2023/TOPMed_Plink2/extract\"\n",
    "\n",
    "CHR_IDS=$(cat chr_list.txt)\n",
    "\n",
    "\n",
    "for CHR in $CHR_IDS; do\n",
    "    dx run swiss-army-knife -iin=\"chr${CHR}_pgen.pgen\" \\\n",
    "    -iin=\"chr${CHR}_pgen.psam\" \\\n",
    "    -iin=\"chr${CHR}_pgen.pvar\" \\\n",
    "    -iin=\"Pheno_HT_Alzheimers_APOE_Status_with_PCs.txt\" \\\n",
    "    -iin=\"Covar_HT_Alzheimers_APOE_Status_with_PCs.txt\" \\\n",
    "    -iin=\"FID_IID_HT_Alzheimers_APOE_Status_with_PCs.txt\" \\\n",
    "    -icmd='plink2 --pfile \"$in_prefix\" \\\n",
    "    --glm hide-covar firth-fallback cols=+a1freq,+a1freqcc,+a1countcc,+totallelecc,+err,+beta,-test,-nobs,-tz,-orbeta \\\n",
    "    --pheno Pheno_HT_Alzheimers_APOE_Status_with_PCs.txt --maf 0.05 \\\n",
    "    --pheno-name ADRD --covar-variance-standardize \\\n",
    "    --geno 0.05 --mac 20  --memory 12000 \\\n",
    "    --covar Covar_HT_Alzheimers_APOE_Status_with_PCs.txt \\\n",
    "    --covar-name PC1,PC2,PC3,PC4,PC5,PC6,PC7,PC8,PC9,PC10,GENETIC_SEX,AGE_2024_COV,APOE_GENOTYPE \\\n",
    "    --keep FID_IID_HT_Alzheimers_APOE_Status_with_PCs.txt \\\n",
    "    --out \"$in_prefix\".Pheno_New_final_HT_with_APOE_Status_New' -y  --brief --priority normal \\\n",
    "    --instance-type mem3_ssd3_x12 --destination \"${projectid}:${FILE_DIR}/\" \n",
    "done "
   ]
  },
  {
   "cell_type": "code",
   "execution_count": 3,
   "id": "a60ae471-3987-4a74-b287-712ddeba916e",
   "metadata": {
    "tags": [],
    "trusted": true
   },
   "outputs": [
    {
     "name": "stdout",
     "output_type": "stream",
     "text": [
      "job-Gx8pYp8JbP2XZ6B8qyz7VkG5\n"
     ]
    }
   ],
   "source": [
    "%%bash\n",
    "\n",
    "seq 1 1 23 > chr_list.txt\n",
    "\n",
    "FILE_DIR_A=\"/Imputed_Genotypes_2023/TOPMed_Plink2\"\n",
    "FILE_DIR_B=\"/ref_panel/chip_overlaps/\"\n",
    "# FILE_DIR_C=\"/Imputed_Genotypes_2023/TOPMed_Plink2/extract\"\n",
    "\n",
    "CHR_IDS=$(cat chr_list.txt)\n",
    "\n",
    "CHR=19\n",
    "\n",
    "dx run swiss-army-knife -iin=\"chr${CHR}_pgen.pgen\" \\\n",
    "    -iin=\"chr${CHR}_pgen.psam\" \\\n",
    "    -iin=\"chr${CHR}_pgen.pvar\" \\\n",
    "    -icmd='plink2 --pfile \"$in_prefix\" \\\n",
    "    --chr 19 \\\n",
    "    --from-bp 45000000 --to-bp 45500000 \\\n",
    "    --make-bed \\\n",
    "    --out \"$in_prefix\".APOE_LD_region' -y  --brief --priority normal \\\n",
    "    --instance-type mem3_ssd3_x12 --destination \"${projectid}:${FILE_DIR}/\" "
   ]
  },
  {
   "cell_type": "code",
   "execution_count": 8,
   "id": "f20b0ef4-a0fc-41cb-9318-44da500242fa",
   "metadata": {
    "tags": [],
    "trusted": true
   },
   "outputs": [
    {
     "name": "stdout",
     "output_type": "stream",
     "text": [
      "job-Gx8qp5jJbP2v1V8Vkpzj3Xg4\n"
     ]
    }
   ],
   "source": [
    "%%bash\n",
    "\n",
    "seq 1 1 23 > chr_list.txt\n",
    "\n",
    "FILE_DIR_A=\"/Imputed_Genotypes_2023/TOPMed_Plink2\"\n",
    "FILE_DIR_B=\"/ref_panel/chip_overlaps/\"\n",
    "# FILE_DIR_C=\"/Imputed_Genotypes_2023/TOPMed_Plink2/extract\"\n",
    "\n",
    "CHR_IDS=$(cat chr_list.txt)\n",
    "\n",
    "CHR=19\n",
    "\n",
    "dx run swiss-army-knife -iin=\"chr${CHR}_pgen.pgen\" \\\n",
    "    -iin=\"chr${CHR}_pgen.psam\" \\\n",
    "    -iin=\"chr${CHR}_pgen.pvar\" \\\n",
    "    -icmd='plink2 --pfile \"$in_prefix\" \\\n",
    "    --ld rs429358 rs7412 \\\n",
    "    --out \"$in_prefix\".APOE_LD_results' -y  --brief --priority normal \\\n",
    "    --instance-type mem3_ssd3_x12 --destination \"${projectid}:${FILE_DIR}/\""
   ]
  },
  {
   "cell_type": "code",
   "execution_count": 7,
   "id": "a8d65e43-c09b-4569-aeb6-25e28b5c0527",
   "metadata": {
    "tags": [],
    "trusted": true
   },
   "outputs": [
    {
     "name": "stdout",
     "output_type": "stream",
     "text": [
      "job-Gv7x9XQJbP2zp8bfjxZ66gb2\n",
      "job-Gv7x9XjJbP2QbXGyJJ3Kj73g\n",
      "job-Gv7x9Y0JbP2QFy0BjyY8YpzB\n",
      "job-Gv7x9Y8JbP2QbXGyJJ3Kj73q\n",
      "job-Gv7x9YQJbP2f3JZ7Qfq71JYQ\n",
      "job-Gv7x9YjJbP2zp8bfjxZ66gbK\n",
      "job-Gv7x9Z0JbP2zp8bfjxZ66gbQ\n",
      "job-Gv7x9Z8JbP2jVx8fjKpKbq2Y\n",
      "job-Gv7x9ZQJbP2QbXGyJJ3Kj73x\n",
      "job-Gv7x9ZjJbP2zp8bfjxZ66gbZ\n",
      "job-Gv7x9b0JbP2jVx8fjKpKbq2k\n",
      "job-Gv7x9b8JbP2QbXGyJJ3Kj743\n",
      "job-Gv7x9bQJbP2jVx8fjKpKbq2z\n",
      "job-Gv7x9bQJbP2vZGPBQF9906vV\n",
      "job-Gv7x9bjJbP2f3JZ7Qfq71JYx\n",
      "job-Gv7x9f0JbP2f7j70VB6Gx9Vj\n",
      "job-Gv7x9f8JbP2QbXGyJJ3Kj74g\n",
      "job-Gv7x9fQJbP2f3JZ7Qfq71JZ7\n",
      "job-Gv7x9fjJbP2zp8bfjxZ66gby\n",
      "job-Gv7x9g0JbP2QFy0BjyY8Ypzp\n",
      "job-Gv7x9g8JbP2vZGPBQF9906vj\n",
      "job-Gv7x9gQJbP2vZGPBQF9906vv\n",
      "job-Gv7x9gjJbP2f7j70VB6GxB9y\n"
     ]
    }
   ],
   "source": [
    "%%bash\n",
    "\n",
    "seq 1 1 23 > chr_list.txt\n",
    "\n",
    "FILE_DIR_A=\"/Imputed_Genotypes_2023/TOPMed_Plink2\"\n",
    "FILE_DIR_B=\"/ref_panel/chip_overlaps/\"\n",
    "# FILE_DIR_C=\"/Imputed_Genotypes_2023/TOPMed_Plink2/extract\"\n",
    "\n",
    "CHR_IDS=$(cat chr_list.txt)\n",
    "\n",
    "for CHR in $CHR_IDS; do\n",
    "    dx run swiss-army-knife -iin=\"chr${CHR}_pgen.pgen\" \\\n",
    "    -iin=\"chr${CHR}_pgen.psam\" \\\n",
    "    -iin=\"chr${CHR}_pgen.pvar\" \\\n",
    "    -icmd='plink2 --pfile \"$in_prefix\" \\\n",
    "    --snps 19:44908684:T:C,19:44908822:C:T --make-bed \\\n",
    "    --out \"$in_prefix\".apoe_snps' -y  --brief --priority normal \\\n",
    "    --instance-type mem3_ssd3_x12 --destination \"${projectid}:${FILE_DIR}/\" \n",
    "done "
   ]
  },
  {
   "cell_type": "code",
   "execution_count": 4,
   "id": "f7c3e265-40b6-4c50-bf93-c242d0770490",
   "metadata": {
    "tags": [],
    "trusted": true
   },
   "outputs": [
    {
     "name": "stdout",
     "output_type": "stream",
     "text": [
      "\u001b[2K[===========================================================>] Completed 576,889,896 of 576,889,896 bytes (100%) /opt/notebooks/chr1_pgen.pvarr\n"
     ]
    }
   ],
   "source": [
    "!dx download chr1_pgen.pvar"
   ]
  },
  {
   "cell_type": "code",
   "execution_count": 5,
   "id": "bc955068-07d0-42e0-93e9-792cb874aec7",
   "metadata": {
    "tags": [],
    "trusted": true
   },
   "outputs": [
    {
     "name": "stdout",
     "output_type": "stream",
     "text": [
      "#CHROM\tPOS\tID\tREF\tALT\n",
      "1\t10500\t1:10500:G:T\tG\tT\n",
      "1\t10598\t1:10598:G:A\tG\tA\n",
      "1\t10599\t1:10599:C:G\tC\tG\n",
      "1\t10612\t1:10612:A:C\tA\tC\n",
      "1\t10894\t1:10894:G:A\tG\tA\n",
      "1\t10915\t1:10915:G:A\tG\tA\n",
      "1\t10930\t1:10930:G:A\tG\tA\n",
      "1\t10989\t1:10989:G:A\tG\tA\n",
      "1\t11171\t1:11171:CCTTG:C\tCCTTG\tC\n"
     ]
    }
   ],
   "source": [
    "!head chr1_pgen.pvar"
   ]
  },
  {
   "cell_type": "code",
   "execution_count": 1,
   "id": "e3991d90-8bf1-4b93-8e1f-960cf3413fb9",
   "metadata": {
    "tags": [],
    "trusted": true
   },
   "outputs": [
    {
     "name": "stdout",
     "output_type": "stream",
     "text": [
      "job-GvGQ640JbP2gjBZ6Y9q5F3Qx\n"
     ]
    }
   ],
   "source": [
    "%%bash\n",
    "\n",
    "CHR=2\n",
    "\n",
    "FILE_DIR_A=\"/Imputed_Genotypes_2023/TOPMed_Plink2\"\n",
    "FILE_DIR_B=\"/ref_panel/chip_overlaps/\"\n",
    "# FILE_DIR_C=\"/Imputed_Genotypes_2023/TOPMed_Plink2/extract\"\n",
    "\n",
    "dx run swiss-army-knife -iin=\"chr${CHR}_pgen.pgen\" \\\n",
    "    -iin=\"chr${CHR}_pgen.psam\" \\\n",
    "    -iin=\"chr${CHR}_pgen.pvar\" \\\n",
    "    -icmd='plink2 --pfile \"$in_prefix\" \\\n",
    "    --snps 2:36408804:T:C --make-bed \\\n",
    "    --out \"$in_prefix\".crim1_snps' -y  --brief --priority normal \\\n",
    "    --instance-type mem3_ssd3_x12 --destination \"${projectid}:${FILE_DIR}/\" \n"
   ]
  },
  {
   "cell_type": "code",
   "execution_count": 1,
   "id": "cae1e4a1-1a12-4a2d-ba64-5322bb49b1c8",
   "metadata": {
    "tags": [],
    "trusted": true
   },
   "outputs": [
    {
     "name": "stdout",
     "output_type": "stream",
     "text": [
      "job-GvGYfzQJbP2VxbvVQyp58B37\n"
     ]
    }
   ],
   "source": [
    "%%bash\n",
    "\n",
    "CHR=2\n",
    "\n",
    "FILE_DIR_A=\"/Imputed_Genotypes_2023/TOPMed_Plink2\"\n",
    "FILE_DIR_B=\"/ref_panel/chip_overlaps/\"\n",
    "# FILE_DIR_C=\"/Imputed_Genotypes_2023/TOPMed_Plink2/extract\"\n",
    "dx run swiss-army-knife -iin=\"chr${CHR}_pgen.crim1_snps.bed\" \\\n",
    "    -iin=\"chr${CHR}_pgen.crim1_snps.bim\" \\\n",
    "    -iin=\"chr${CHR}_pgen.crim1_snps.fam\" \\\n",
    "    -icmd='plink --bfile \"$in_prefix\" \\\n",
    "    --allow-no-sex \\\n",
    "    --recodeA \\\n",
    "    --out \"$in_prefix\".apoe_snps_1' -y  --brief --priority normal \\\n",
    "    --instance-type mem3_ssd3_x12 --destination \"${projectid}:${FILE_DIR}/\""
   ]
  },
  {
   "cell_type": "code",
   "execution_count": 3,
   "id": "80eb8240-934b-4bc7-afca-6c206df8e7d6",
   "metadata": {
    "tags": [],
    "trusted": true
   },
   "outputs": [
    {
     "name": "stdout",
     "output_type": "stream",
     "text": [
      "\u001b[2K[===========================================================>] Completed 13,163,446 of 13,163,446 bytes (100%) /opt/notebooks/chr2_pgen.crim1_snps.apoe_snps_1.raww\n"
     ]
    }
   ],
   "source": [
    "!dx download chr2_pgen.crim1_snps.apoe_snps_1.raw"
   ]
  },
  {
   "cell_type": "code",
   "execution_count": 172,
   "id": "e5e7d9e7-f220-4fa6-8293-7e16122da829",
   "metadata": {
    "tags": [],
    "trusted": true
   },
   "outputs": [
    {
     "name": "stdout",
     "output_type": "stream",
     "text": [
      "job-GkQy25jJgKp5jZkgZBpFF14z\n"
     ]
    }
   ],
   "source": [
    "%%bash\n",
    "\n",
    "CHR=19\n",
    "\n",
    "FILE_DIR_A=\"/Imputed_Genotypes_2023/TOPMed_Plink2\"\n",
    "FILE_DIR_B=\"/ref_panel/chip_overlaps/\"\n",
    "# FILE_DIR_C=\"/Imputed_Genotypes_2023/TOPMed_Plink2/extract\"\n",
    "dx run swiss-army-knife -iin=\"$chr${CHR}_pgen.pgen\" \\\n",
    "    -iin=\"$chr${CHR}_pgen.psam\" \\\n",
    "    -iin=\"$chr${CHR}_pgen.pvar\" \\\n",
    "    -iin=\"DEM_I10.plink.txt\" \\\n",
    "    -iin=\"UKB_EUR_UMAP_COVARIATES.txt\"\\\n",
    "    -icmd='plink2 --pfile \"$in_prefix\" \\\n",
    "    --glm hide-covar firth-fallback cols=+a1freq,+a1freqcc,+a1countcc,+totallelecc,+err,+beta,-test,-nobs,-tz,-orbeta \\\n",
    "    --pheno-name Pheno --covar-variance-standardize \\\n",
    "    --pheno Pheno_HT_Dem_Vs_HT_TOWNSEND_remove_ADPD_new.txt --maf 0.05 \\\n",
    "    --geno 0.05 --mac 20  --memory 12000 \\\n",
    "    --covar Pheno_HT_Dem_Vs_HT_TOWNSEND_remove_ADPD_new.txt \\\n",
    "    --covar-name GENETIC_SEX,AGE_OF_RECRUIT,TOWNSEND,PC1,PC2,PC3,PC4,PC5 \\\n",
    "    --keep Pheno_HT_Dem_Vs_HT_TOWNSEND_remove_ADPD_new.txt \\\n",
    "    --out \"$in_prefix\".HT+DEM_VS_HT_TOWNSEND_remove_ADPD_new' -y  --brief --priority normal \\\n",
    "    --instance-type mem3_ssd3_x12 --destination \"${projectid}:${FILE_DIR}/\" \n"
   ]
  },
  {
   "cell_type": "code",
   "execution_count": 46,
   "id": "23cd28a4-b4bd-4205-a676-b5018beb313c",
   "metadata": {
    "tags": [],
    "trusted": true
   },
   "outputs": [
    {
     "name": "stdout",
     "output_type": "stream",
     "text": [
      "job-GvJ94Z0JbP2XGqyqBP9Fq17Y\n"
     ]
    }
   ],
   "source": [
    "%%bash\n",
    "\n",
    "CHR=19\n",
    "\n",
    "FILE_DIR_A=\"/Imputed_Genotypes_2023/TOPMed_Plink2\"\n",
    "FILE_DIR_B=\"/ref_panel/chip_overlaps/\"\n",
    "# FILE_DIR_C=\"/Imputed_Genotypes_2023/TOPMed_Plink2/extract\"\n",
    "dx run swiss-army-knife -iin=\"chr${CHR}_pgen.pgen\" \\\n",
    "    -iin=\"chr${CHR}_pgen.psam\" \\\n",
    "    -iin=\"chr${CHR}_pgen.pvar\" \\\n",
    "    -iin=\"Pheno_HT_Alzheimers_APOE_Status_with_PCs.txt\" \\\n",
    "    -iin=\"Covar_HT_Alzheimers_APOE_Status_with_PCs.txt\" \\\n",
    "    -iin=\"FID_IID_HT_Alzheimers_APOE_Status_with_PCs.txt\" \\\n",
    "    -icmd='plink2 --pfile \"$in_prefix\" \\\n",
    "    --glm hide-covar firth-fallback cols=+a1freq,+a1freqcc,+a1countcc,+totallelecc,+err,+beta,-test,-nobs,-tz,-orbeta \\\n",
    "    --pheno-name ADRD --covar-variance-standardize \\\n",
    "    --pheno Pheno_HT_Alzheimers_APOE_Status_with_PCs.txt --maf 0.05 \\\n",
    "    --geno 0.05 --mac 20  --memory 12000 \\\n",
    "    --covar Covar_HT_Alzheimers_APOE_Status_with_PCs.txt \\\n",
    "    --covar-name PC1,PC2,PC3,PC4,PC5,PC6,PC7,PC8,PC9,PC10,GENETIC_SEX,AGE_2024_COV,APOE_GENOTYPE \\\n",
    "    --keep FID_IID_HT_Alzheimers_APOE_Status_with_PCs.txt \\\n",
    "    --out \"$in_prefix\".Pheno_New_final_HT_with_APOE_Status_New' -y  --brief --priority normal \\\n",
    "    --instance-type mem3_ssd3_x12 --destination \"${projectid}:${FILE_DIR}/\" "
   ]
  },
  {
   "cell_type": "code",
   "execution_count": 54,
   "id": "946cb7dd-f08b-4a21-8fec-02fef747d107",
   "metadata": {
    "tags": [],
    "trusted": true
   },
   "outputs": [
    {
     "name": "stdout",
     "output_type": "stream",
     "text": [
      "job-GvJ9KvjJbP2x2gbzKx442KXP\n"
     ]
    }
   ],
   "source": [
    "%%bash\n",
    "\n",
    "CHR=20\n",
    "\n",
    "FILE_DIR_A=\"/Imputed_Genotypes_2023/TOPMed_Plink2\"\n",
    "FILE_DIR_B=\"/ref_panel/chip_overlaps/\"\n",
    "# FILE_DIR_C=\"/Imputed_Genotypes_2023/TOPMed_Plink2/extract\"\n",
    "dx run swiss-army-knife -iin=\"chr${CHR}_pgen.pgen\" \\\n",
    "    -iin=\"chr${CHR}_pgen.psam\" \\\n",
    "    -iin=\"chr${CHR}_pgen.pvar\" \\\n",
    "    -iin=\"Pheno_HT_Alzheimers_APOE_Status_with_PCs.txt\" \\\n",
    "    -iin=\"Covar_HT_Alzheimers_APOE_Status_with_PCs.txt\" \\\n",
    "    -iin=\"FID_IID_HT_Alzheimers_APOE_Status_with_PCs.txt\" \\\n",
    "    -icmd='plink2 --pfile \"$in_prefix\" \\\n",
    "    --glm hide-covar firth-fallback cols=+a1freq,+a1freqcc,+a1countcc,+totallelecc,+err,+beta,-test,-nobs,-tz,-orbeta \\\n",
    "    --pheno-name ADRD --covar-variance-standardize \\\n",
    "    --pheno Pheno_HT_Alzheimers_APOE_Status_with_PCs.txt --maf 0.05 \\\n",
    "    --geno 0.05 --mac 20  --memory 12000 \\\n",
    "    --covar Covar_HT_Alzheimers_APOE_Status_with_PCs.txt \\\n",
    "    --covar-name PC1,PC2,PC3,PC4,PC5,PC6,PC7,PC8,PC9,PC10,GENETIC_SEX,AGE_2024_COV,APOE_GENOTYPE \\\n",
    "    --keep FID_IID_HT_Alzheimers_APOE_Status_with_PCs.txt \\\n",
    "    --out \"$in_prefix\".Pheno_New_final_HT_with_APOE_Status_New' -y  --brief --priority normal \\\n",
    "    --instance-type mem3_ssd3_x12 --destination \"${projectid}:${FILE_DIR}/\" "
   ]
  },
  {
   "cell_type": "code",
   "execution_count": 6,
   "id": "11ced5fd-c20d-4d7a-b590-296e4c1ea058",
   "metadata": {
    "tags": [],
    "trusted": true
   },
   "outputs": [
    {
     "name": "stdout",
     "output_type": "stream",
     "text": [
      "job-Gv7x2ZjJbP2Z9b1XYY489P95\n"
     ]
    }
   ],
   "source": [
    "%%bash\n",
    "\n",
    "CHR=19\n",
    "\n",
    "FILE_DIR_A=\"/Imputed_Genotypes_2023/TOPMed_Plink2\"\n",
    "FILE_DIR_B=\"/ref_panel/chip_overlaps/\"\n",
    "# FILE_DIR_C=\"/Imputed_Genotypes_2023/TOPMed_Plink2/extract\"\n",
    "dx run swiss-army-knife -iin=\"chr${CHR}_pgen.pgen\" \\\n",
    "    -iin=\"chr${CHR}_pgen.psam\" \\\n",
    "    -iin=\"chr${CHR}_pgen.pvar\" \\\n",
    "    -icmd='plink2 --pfile \"$in_prefix\" \\\n",
    "    --snps 19:44908684:T:C,19:44908822:C:T --make-bed \\\n",
    "    --out \"$in_prefix\".apoe_snps' -y  --brief --priority normal \\\n",
    "    --instance-type mem3_ssd3_x12 --destination \"${projectid}:${FILE_DIR}/\" "
   ]
  },
  {
   "cell_type": "code",
   "execution_count": 12,
   "id": "0de1e1ff-cbbd-4df0-9c5d-a278a4052aa9",
   "metadata": {
    "tags": [],
    "trusted": true
   },
   "outputs": [
    {
     "name": "stdout",
     "output_type": "stream",
     "text": [
      "job-Gv7y30QJbP2ZV68ypFK6G93j\n"
     ]
    }
   ],
   "source": [
    "%%bash\n",
    "\n",
    "CHR=19\n",
    "\n",
    "FILE_DIR_A=\"/Imputed_Genotypes_2023/TOPMed_Plink2\"\n",
    "FILE_DIR_B=\"/ref_panel/chip_overlaps/\"\n",
    "# FILE_DIR_C=\"/Imputed_Genotypes_2023/TOPMed_Plink2/extract\"\n",
    "dx run swiss-army-knife -iin=\"chr${CHR}_pgen.apoe_snps.bed\" \\\n",
    "    -iin=\"chr${CHR}_pgen.apoe_snps.bim\" \\\n",
    "    -iin=\"chr${CHR}_pgen.apoe_snps.fam\" \\\n",
    "    -icmd='plink2 --bfile \"$in_prefix\" \\\n",
    "    --recode compound-genotypes \\\n",
    "    --out \"$in_prefix\".apoe_snps' -y  --brief --priority normal \\\n",
    "    --instance-type mem3_ssd3_x12 --destination \"${projectid}:${FILE_DIR}/\""
   ]
  },
  {
   "cell_type": "code",
   "execution_count": 103,
   "id": "d5cf8f17-d9f7-4d86-8f39-586d0e8a8e57",
   "metadata": {
    "tags": [],
    "trusted": true
   },
   "outputs": [
    {
     "name": "stdout",
     "output_type": "stream",
     "text": [
      "dxpy.utils.resolver.ResolutionError: Unable to resolve \"chr19_pgen.apoe_snps.apoe_snps.ped\" to a data object or folder name in '/'\n"
     ]
    }
   ],
   "source": [
    "!dx download chr19_pgen.apoe_snps.apoe_snps.ped"
   ]
  },
  {
   "cell_type": "code",
   "execution_count": 104,
   "id": "4138e9ea-a502-4e58-945b-b785ce5134d0",
   "metadata": {
    "tags": [],
    "trusted": true
   },
   "outputs": [
    {
     "ename": "FileNotFoundError",
     "evalue": "[Errno 2] No such file or directory: 'chr19_pgen.apoe_snps.apoe_snps.ped'",
     "output_type": "error",
     "traceback": [
      "\u001b[0;31m---------------------------------------------------------------------------\u001b[0m",
      "\u001b[0;31mFileNotFoundError\u001b[0m                         Traceback (most recent call last)",
      "Cell \u001b[0;32mIn[104], line 11\u001b[0m\n\u001b[1;32m      8\u001b[0m output_file \u001b[38;5;241m=\u001b[39m \u001b[38;5;124m'\u001b[39m\u001b[38;5;124mout_chr19_pgen.apoe_snps.apoe_snps.ped\u001b[39m\u001b[38;5;124m'\u001b[39m\n\u001b[1;32m     10\u001b[0m \u001b[38;5;66;03m# Load the .ped file into a pandas DataFrame (assuming it's space-delimited)\u001b[39;00m\n\u001b[0;32m---> 11\u001b[0m df \u001b[38;5;241m=\u001b[39m \u001b[43mpd\u001b[49m\u001b[38;5;241;43m.\u001b[39;49m\u001b[43mread_csv\u001b[49m\u001b[43m(\u001b[49m\u001b[43minput_file\u001b[49m\u001b[43m,\u001b[49m\u001b[43m \u001b[49m\u001b[43mdelim_whitespace\u001b[49m\u001b[38;5;241;43m=\u001b[39;49m\u001b[38;5;28;43;01mTrue\u001b[39;49;00m\u001b[43m,\u001b[49m\u001b[43m \u001b[49m\u001b[43mheader\u001b[49m\u001b[38;5;241;43m=\u001b[39;49m\u001b[38;5;28;43;01mNone\u001b[39;49;00m\u001b[43m)\u001b[49m\n\u001b[1;32m     13\u001b[0m \u001b[38;5;66;03m# Add the headers to the DataFrame\u001b[39;00m\n\u001b[1;32m     14\u001b[0m df\u001b[38;5;241m.\u001b[39mcolumns \u001b[38;5;241m=\u001b[39m headers\n",
      "File \u001b[0;32m/opt/conda/lib/python3.9/site-packages/pandas/util/_decorators.py:211\u001b[0m, in \u001b[0;36mdeprecate_kwarg.<locals>._deprecate_kwarg.<locals>.wrapper\u001b[0;34m(*args, **kwargs)\u001b[0m\n\u001b[1;32m    209\u001b[0m     \u001b[38;5;28;01melse\u001b[39;00m:\n\u001b[1;32m    210\u001b[0m         kwargs[new_arg_name] \u001b[38;5;241m=\u001b[39m new_arg_value\n\u001b[0;32m--> 211\u001b[0m \u001b[38;5;28;01mreturn\u001b[39;00m \u001b[43mfunc\u001b[49m\u001b[43m(\u001b[49m\u001b[38;5;241;43m*\u001b[39;49m\u001b[43margs\u001b[49m\u001b[43m,\u001b[49m\u001b[43m \u001b[49m\u001b[38;5;241;43m*\u001b[39;49m\u001b[38;5;241;43m*\u001b[39;49m\u001b[43mkwargs\u001b[49m\u001b[43m)\u001b[49m\n",
      "File \u001b[0;32m/opt/conda/lib/python3.9/site-packages/pandas/util/_decorators.py:331\u001b[0m, in \u001b[0;36mdeprecate_nonkeyword_arguments.<locals>.decorate.<locals>.wrapper\u001b[0;34m(*args, **kwargs)\u001b[0m\n\u001b[1;32m    325\u001b[0m \u001b[38;5;28;01mif\u001b[39;00m \u001b[38;5;28mlen\u001b[39m(args) \u001b[38;5;241m>\u001b[39m num_allow_args:\n\u001b[1;32m    326\u001b[0m     warnings\u001b[38;5;241m.\u001b[39mwarn(\n\u001b[1;32m    327\u001b[0m         msg\u001b[38;5;241m.\u001b[39mformat(arguments\u001b[38;5;241m=\u001b[39m_format_argument_list(allow_args)),\n\u001b[1;32m    328\u001b[0m         \u001b[38;5;167;01mFutureWarning\u001b[39;00m,\n\u001b[1;32m    329\u001b[0m         stacklevel\u001b[38;5;241m=\u001b[39mfind_stack_level(),\n\u001b[1;32m    330\u001b[0m     )\n\u001b[0;32m--> 331\u001b[0m \u001b[38;5;28;01mreturn\u001b[39;00m \u001b[43mfunc\u001b[49m\u001b[43m(\u001b[49m\u001b[38;5;241;43m*\u001b[39;49m\u001b[43margs\u001b[49m\u001b[43m,\u001b[49m\u001b[43m \u001b[49m\u001b[38;5;241;43m*\u001b[39;49m\u001b[38;5;241;43m*\u001b[39;49m\u001b[43mkwargs\u001b[49m\u001b[43m)\u001b[49m\n",
      "File \u001b[0;32m/opt/conda/lib/python3.9/site-packages/pandas/io/parsers/readers.py:950\u001b[0m, in \u001b[0;36mread_csv\u001b[0;34m(filepath_or_buffer, sep, delimiter, header, names, index_col, usecols, squeeze, prefix, mangle_dupe_cols, dtype, engine, converters, true_values, false_values, skipinitialspace, skiprows, skipfooter, nrows, na_values, keep_default_na, na_filter, verbose, skip_blank_lines, parse_dates, infer_datetime_format, keep_date_col, date_parser, dayfirst, cache_dates, iterator, chunksize, compression, thousands, decimal, lineterminator, quotechar, quoting, doublequote, escapechar, comment, encoding, encoding_errors, dialect, error_bad_lines, warn_bad_lines, on_bad_lines, delim_whitespace, low_memory, memory_map, float_precision, storage_options)\u001b[0m\n\u001b[1;32m    935\u001b[0m kwds_defaults \u001b[38;5;241m=\u001b[39m _refine_defaults_read(\n\u001b[1;32m    936\u001b[0m     dialect,\n\u001b[1;32m    937\u001b[0m     delimiter,\n\u001b[0;32m   (...)\u001b[0m\n\u001b[1;32m    946\u001b[0m     defaults\u001b[38;5;241m=\u001b[39m{\u001b[38;5;124m\"\u001b[39m\u001b[38;5;124mdelimiter\u001b[39m\u001b[38;5;124m\"\u001b[39m: \u001b[38;5;124m\"\u001b[39m\u001b[38;5;124m,\u001b[39m\u001b[38;5;124m\"\u001b[39m},\n\u001b[1;32m    947\u001b[0m )\n\u001b[1;32m    948\u001b[0m kwds\u001b[38;5;241m.\u001b[39mupdate(kwds_defaults)\n\u001b[0;32m--> 950\u001b[0m \u001b[38;5;28;01mreturn\u001b[39;00m \u001b[43m_read\u001b[49m\u001b[43m(\u001b[49m\u001b[43mfilepath_or_buffer\u001b[49m\u001b[43m,\u001b[49m\u001b[43m \u001b[49m\u001b[43mkwds\u001b[49m\u001b[43m)\u001b[49m\n",
      "File \u001b[0;32m/opt/conda/lib/python3.9/site-packages/pandas/io/parsers/readers.py:605\u001b[0m, in \u001b[0;36m_read\u001b[0;34m(filepath_or_buffer, kwds)\u001b[0m\n\u001b[1;32m    602\u001b[0m _validate_names(kwds\u001b[38;5;241m.\u001b[39mget(\u001b[38;5;124m\"\u001b[39m\u001b[38;5;124mnames\u001b[39m\u001b[38;5;124m\"\u001b[39m, \u001b[38;5;28;01mNone\u001b[39;00m))\n\u001b[1;32m    604\u001b[0m \u001b[38;5;66;03m# Create the parser.\u001b[39;00m\n\u001b[0;32m--> 605\u001b[0m parser \u001b[38;5;241m=\u001b[39m \u001b[43mTextFileReader\u001b[49m\u001b[43m(\u001b[49m\u001b[43mfilepath_or_buffer\u001b[49m\u001b[43m,\u001b[49m\u001b[43m \u001b[49m\u001b[38;5;241;43m*\u001b[39;49m\u001b[38;5;241;43m*\u001b[39;49m\u001b[43mkwds\u001b[49m\u001b[43m)\u001b[49m\n\u001b[1;32m    607\u001b[0m \u001b[38;5;28;01mif\u001b[39;00m chunksize \u001b[38;5;129;01mor\u001b[39;00m iterator:\n\u001b[1;32m    608\u001b[0m     \u001b[38;5;28;01mreturn\u001b[39;00m parser\n",
      "File \u001b[0;32m/opt/conda/lib/python3.9/site-packages/pandas/io/parsers/readers.py:1442\u001b[0m, in \u001b[0;36mTextFileReader.__init__\u001b[0;34m(self, f, engine, **kwds)\u001b[0m\n\u001b[1;32m   1439\u001b[0m     \u001b[38;5;28mself\u001b[39m\u001b[38;5;241m.\u001b[39moptions[\u001b[38;5;124m\"\u001b[39m\u001b[38;5;124mhas_index_names\u001b[39m\u001b[38;5;124m\"\u001b[39m] \u001b[38;5;241m=\u001b[39m kwds[\u001b[38;5;124m\"\u001b[39m\u001b[38;5;124mhas_index_names\u001b[39m\u001b[38;5;124m\"\u001b[39m]\n\u001b[1;32m   1441\u001b[0m \u001b[38;5;28mself\u001b[39m\u001b[38;5;241m.\u001b[39mhandles: IOHandles \u001b[38;5;241m|\u001b[39m \u001b[38;5;28;01mNone\u001b[39;00m \u001b[38;5;241m=\u001b[39m \u001b[38;5;28;01mNone\u001b[39;00m\n\u001b[0;32m-> 1442\u001b[0m \u001b[38;5;28mself\u001b[39m\u001b[38;5;241m.\u001b[39m_engine \u001b[38;5;241m=\u001b[39m \u001b[38;5;28;43mself\u001b[39;49m\u001b[38;5;241;43m.\u001b[39;49m\u001b[43m_make_engine\u001b[49m\u001b[43m(\u001b[49m\u001b[43mf\u001b[49m\u001b[43m,\u001b[49m\u001b[43m \u001b[49m\u001b[38;5;28;43mself\u001b[39;49m\u001b[38;5;241;43m.\u001b[39;49m\u001b[43mengine\u001b[49m\u001b[43m)\u001b[49m\n",
      "File \u001b[0;32m/opt/conda/lib/python3.9/site-packages/pandas/io/parsers/readers.py:1735\u001b[0m, in \u001b[0;36mTextFileReader._make_engine\u001b[0;34m(self, f, engine)\u001b[0m\n\u001b[1;32m   1733\u001b[0m     \u001b[38;5;28;01mif\u001b[39;00m \u001b[38;5;124m\"\u001b[39m\u001b[38;5;124mb\u001b[39m\u001b[38;5;124m\"\u001b[39m \u001b[38;5;129;01mnot\u001b[39;00m \u001b[38;5;129;01min\u001b[39;00m mode:\n\u001b[1;32m   1734\u001b[0m         mode \u001b[38;5;241m+\u001b[39m\u001b[38;5;241m=\u001b[39m \u001b[38;5;124m\"\u001b[39m\u001b[38;5;124mb\u001b[39m\u001b[38;5;124m\"\u001b[39m\n\u001b[0;32m-> 1735\u001b[0m \u001b[38;5;28mself\u001b[39m\u001b[38;5;241m.\u001b[39mhandles \u001b[38;5;241m=\u001b[39m \u001b[43mget_handle\u001b[49m\u001b[43m(\u001b[49m\n\u001b[1;32m   1736\u001b[0m \u001b[43m    \u001b[49m\u001b[43mf\u001b[49m\u001b[43m,\u001b[49m\n\u001b[1;32m   1737\u001b[0m \u001b[43m    \u001b[49m\u001b[43mmode\u001b[49m\u001b[43m,\u001b[49m\n\u001b[1;32m   1738\u001b[0m \u001b[43m    \u001b[49m\u001b[43mencoding\u001b[49m\u001b[38;5;241;43m=\u001b[39;49m\u001b[38;5;28;43mself\u001b[39;49m\u001b[38;5;241;43m.\u001b[39;49m\u001b[43moptions\u001b[49m\u001b[38;5;241;43m.\u001b[39;49m\u001b[43mget\u001b[49m\u001b[43m(\u001b[49m\u001b[38;5;124;43m\"\u001b[39;49m\u001b[38;5;124;43mencoding\u001b[39;49m\u001b[38;5;124;43m\"\u001b[39;49m\u001b[43m,\u001b[49m\u001b[43m \u001b[49m\u001b[38;5;28;43;01mNone\u001b[39;49;00m\u001b[43m)\u001b[49m\u001b[43m,\u001b[49m\n\u001b[1;32m   1739\u001b[0m \u001b[43m    \u001b[49m\u001b[43mcompression\u001b[49m\u001b[38;5;241;43m=\u001b[39;49m\u001b[38;5;28;43mself\u001b[39;49m\u001b[38;5;241;43m.\u001b[39;49m\u001b[43moptions\u001b[49m\u001b[38;5;241;43m.\u001b[39;49m\u001b[43mget\u001b[49m\u001b[43m(\u001b[49m\u001b[38;5;124;43m\"\u001b[39;49m\u001b[38;5;124;43mcompression\u001b[39;49m\u001b[38;5;124;43m\"\u001b[39;49m\u001b[43m,\u001b[49m\u001b[43m \u001b[49m\u001b[38;5;28;43;01mNone\u001b[39;49;00m\u001b[43m)\u001b[49m\u001b[43m,\u001b[49m\n\u001b[1;32m   1740\u001b[0m \u001b[43m    \u001b[49m\u001b[43mmemory_map\u001b[49m\u001b[38;5;241;43m=\u001b[39;49m\u001b[38;5;28;43mself\u001b[39;49m\u001b[38;5;241;43m.\u001b[39;49m\u001b[43moptions\u001b[49m\u001b[38;5;241;43m.\u001b[39;49m\u001b[43mget\u001b[49m\u001b[43m(\u001b[49m\u001b[38;5;124;43m\"\u001b[39;49m\u001b[38;5;124;43mmemory_map\u001b[39;49m\u001b[38;5;124;43m\"\u001b[39;49m\u001b[43m,\u001b[49m\u001b[43m \u001b[49m\u001b[38;5;28;43;01mFalse\u001b[39;49;00m\u001b[43m)\u001b[49m\u001b[43m,\u001b[49m\n\u001b[1;32m   1741\u001b[0m \u001b[43m    \u001b[49m\u001b[43mis_text\u001b[49m\u001b[38;5;241;43m=\u001b[39;49m\u001b[43mis_text\u001b[49m\u001b[43m,\u001b[49m\n\u001b[1;32m   1742\u001b[0m \u001b[43m    \u001b[49m\u001b[43merrors\u001b[49m\u001b[38;5;241;43m=\u001b[39;49m\u001b[38;5;28;43mself\u001b[39;49m\u001b[38;5;241;43m.\u001b[39;49m\u001b[43moptions\u001b[49m\u001b[38;5;241;43m.\u001b[39;49m\u001b[43mget\u001b[49m\u001b[43m(\u001b[49m\u001b[38;5;124;43m\"\u001b[39;49m\u001b[38;5;124;43mencoding_errors\u001b[39;49m\u001b[38;5;124;43m\"\u001b[39;49m\u001b[43m,\u001b[49m\u001b[43m \u001b[49m\u001b[38;5;124;43m\"\u001b[39;49m\u001b[38;5;124;43mstrict\u001b[39;49m\u001b[38;5;124;43m\"\u001b[39;49m\u001b[43m)\u001b[49m\u001b[43m,\u001b[49m\n\u001b[1;32m   1743\u001b[0m \u001b[43m    \u001b[49m\u001b[43mstorage_options\u001b[49m\u001b[38;5;241;43m=\u001b[39;49m\u001b[38;5;28;43mself\u001b[39;49m\u001b[38;5;241;43m.\u001b[39;49m\u001b[43moptions\u001b[49m\u001b[38;5;241;43m.\u001b[39;49m\u001b[43mget\u001b[49m\u001b[43m(\u001b[49m\u001b[38;5;124;43m\"\u001b[39;49m\u001b[38;5;124;43mstorage_options\u001b[39;49m\u001b[38;5;124;43m\"\u001b[39;49m\u001b[43m,\u001b[49m\u001b[43m \u001b[49m\u001b[38;5;28;43;01mNone\u001b[39;49;00m\u001b[43m)\u001b[49m\u001b[43m,\u001b[49m\n\u001b[1;32m   1744\u001b[0m \u001b[43m\u001b[49m\u001b[43m)\u001b[49m\n\u001b[1;32m   1745\u001b[0m \u001b[38;5;28;01massert\u001b[39;00m \u001b[38;5;28mself\u001b[39m\u001b[38;5;241m.\u001b[39mhandles \u001b[38;5;129;01mis\u001b[39;00m \u001b[38;5;129;01mnot\u001b[39;00m \u001b[38;5;28;01mNone\u001b[39;00m\n\u001b[1;32m   1746\u001b[0m f \u001b[38;5;241m=\u001b[39m \u001b[38;5;28mself\u001b[39m\u001b[38;5;241m.\u001b[39mhandles\u001b[38;5;241m.\u001b[39mhandle\n",
      "File \u001b[0;32m/opt/conda/lib/python3.9/site-packages/pandas/io/common.py:856\u001b[0m, in \u001b[0;36mget_handle\u001b[0;34m(path_or_buf, mode, encoding, compression, memory_map, is_text, errors, storage_options)\u001b[0m\n\u001b[1;32m    851\u001b[0m \u001b[38;5;28;01melif\u001b[39;00m \u001b[38;5;28misinstance\u001b[39m(handle, \u001b[38;5;28mstr\u001b[39m):\n\u001b[1;32m    852\u001b[0m     \u001b[38;5;66;03m# Check whether the filename is to be opened in binary mode.\u001b[39;00m\n\u001b[1;32m    853\u001b[0m     \u001b[38;5;66;03m# Binary mode does not support 'encoding' and 'newline'.\u001b[39;00m\n\u001b[1;32m    854\u001b[0m     \u001b[38;5;28;01mif\u001b[39;00m ioargs\u001b[38;5;241m.\u001b[39mencoding \u001b[38;5;129;01mand\u001b[39;00m \u001b[38;5;124m\"\u001b[39m\u001b[38;5;124mb\u001b[39m\u001b[38;5;124m\"\u001b[39m \u001b[38;5;129;01mnot\u001b[39;00m \u001b[38;5;129;01min\u001b[39;00m ioargs\u001b[38;5;241m.\u001b[39mmode:\n\u001b[1;32m    855\u001b[0m         \u001b[38;5;66;03m# Encoding\u001b[39;00m\n\u001b[0;32m--> 856\u001b[0m         handle \u001b[38;5;241m=\u001b[39m \u001b[38;5;28;43mopen\u001b[39;49m\u001b[43m(\u001b[49m\n\u001b[1;32m    857\u001b[0m \u001b[43m            \u001b[49m\u001b[43mhandle\u001b[49m\u001b[43m,\u001b[49m\n\u001b[1;32m    858\u001b[0m \u001b[43m            \u001b[49m\u001b[43mioargs\u001b[49m\u001b[38;5;241;43m.\u001b[39;49m\u001b[43mmode\u001b[49m\u001b[43m,\u001b[49m\n\u001b[1;32m    859\u001b[0m \u001b[43m            \u001b[49m\u001b[43mencoding\u001b[49m\u001b[38;5;241;43m=\u001b[39;49m\u001b[43mioargs\u001b[49m\u001b[38;5;241;43m.\u001b[39;49m\u001b[43mencoding\u001b[49m\u001b[43m,\u001b[49m\n\u001b[1;32m    860\u001b[0m \u001b[43m            \u001b[49m\u001b[43merrors\u001b[49m\u001b[38;5;241;43m=\u001b[39;49m\u001b[43merrors\u001b[49m\u001b[43m,\u001b[49m\n\u001b[1;32m    861\u001b[0m \u001b[43m            \u001b[49m\u001b[43mnewline\u001b[49m\u001b[38;5;241;43m=\u001b[39;49m\u001b[38;5;124;43m\"\u001b[39;49m\u001b[38;5;124;43m\"\u001b[39;49m\u001b[43m,\u001b[49m\n\u001b[1;32m    862\u001b[0m \u001b[43m        \u001b[49m\u001b[43m)\u001b[49m\n\u001b[1;32m    863\u001b[0m     \u001b[38;5;28;01melse\u001b[39;00m:\n\u001b[1;32m    864\u001b[0m         \u001b[38;5;66;03m# Binary mode\u001b[39;00m\n\u001b[1;32m    865\u001b[0m         handle \u001b[38;5;241m=\u001b[39m \u001b[38;5;28mopen\u001b[39m(handle, ioargs\u001b[38;5;241m.\u001b[39mmode)\n",
      "\u001b[0;31mFileNotFoundError\u001b[0m: [Errno 2] No such file or directory: 'chr19_pgen.apoe_snps.apoe_snps.ped'"
     ]
    }
   ],
   "source": [
    "import pandas as pd\n",
    "\n",
    "# Define the header row\n",
    "headers = [\"FID\", \"IID\", \"PAT\", \"MAT\", \"SEX\", \"PHENO\", \"rs429358\", \"rs7412\"]\n",
    "\n",
    "# Specify the input .ped file and output .ped file paths\n",
    "input_file = 'chr19_pgen.apoe_snps.apoe_snps.ped'\n",
    "output_file = 'out_chr19_pgen.apoe_snps.apoe_snps.ped'\n",
    "\n",
    "# Load the .ped file into a pandas DataFrame (assuming it's space-delimited)\n",
    "df = pd.read_csv(input_file, delim_whitespace=True, header=None)\n",
    "\n",
    "# Add the headers to the DataFrame\n",
    "df.columns = headers\n",
    "\n",
    "# Save the DataFrame to a new .ped file with the headers included (space-delimited)\n",
    "df.to_csv(output_file, sep='\\t', index=False)\n",
    "\n",
    "print(f\"Headers added successfully to {output_file}\")\n"
   ]
  },
  {
   "cell_type": "code",
   "execution_count": null,
   "id": "5d1efdf8-aa4e-4646-b1cd-ec559875517a",
   "metadata": {
    "tags": [],
    "trusted": true
   },
   "outputs": [],
   "source": [
    "!dx upload out_chr19_pgen.apoe_snps.apoe_snps.ped"
   ]
  },
  {
   "cell_type": "code",
   "execution_count": null,
   "id": "73ef7fce-248f-47a2-916a-31b891b54e7b",
   "metadata": {
    "tags": [],
    "trusted": true
   },
   "outputs": [],
   "source": [
    " # Import necessary packages\n",
    "import numpy as np\n",
    "import pandas as pd\n",
    "from functools import reduce\n",
    "\n",
    "# Define input and output file names directly in the notebook\n",
    "input_file = 'chr19_pgen.apoe_snps.apoe_snps.ped'  # Replace with the actual path to your .ped file\n",
    "output_name = 'chr19_pgen.apoe_snps.apoe_snps_out.ped'     # Replace with the desired output file name (without suffix)\n",
    "\n",
    "# Read in the .ped file and force column names\n",
    "header_text = [\"FID\", \"IID\", \"PAT\", \"MAT\", \"SEX\", \"PHENO\", \"rs429358\", \"rs7412\"]\n",
    "input_ped_df = pd.read_csv(input_file, sep='\\t', header=None, names=header_text)\n",
    "\n",
    "# Make a combined column by concatenating rs429358 and rs7412 genotypes\n",
    "input_ped_df['rs429358_rs7412'] = input_ped_df['rs429358'].astype(str) + '_' + input_ped_df['rs7412']\n",
    "\n",
    "# Initialize a dictionary to map the combined genotypes to APOE genotypes\n",
    "apoe_genotypes_dict = {\n",
    "    'CC_TT': 'e1/e1',\n",
    "    'CT_TT': 'e1/e2',\n",
    "    'TC_TT': 'e1/e2',\n",
    "    'CC_CT': 'e1/e4',\n",
    "    'CC_TC': 'e1/e4',\n",
    "    'TT_TT': 'e2/e2',\n",
    "    'TT_TC': 'e2/e3',\n",
    "    'TT_CT': 'e2/e3',\n",
    "    'TC_TC': 'e2/e4 or e1/e3',\n",
    "    'CT_CT': 'e2/e4 or e1/e3',\n",
    "    'TC_CT': 'e2/e4 or e1/e3',\n",
    "    'CT_TC': 'e2/e4 or e1/e3',\n",
    "    'TT_CC': 'e3/e3',\n",
    "    'TC_CC': 'e3/e4',\n",
    "    'CT_CC': 'e3/e4',\n",
    "    'CC_CC': 'e4/e4'\n",
    "}\n",
    "\n",
    "# Map the combined genotype column to APOE genotypes\n",
    "input_ped_df['APOE_GENOTYPE'] = input_ped_df['rs429358_rs7412'].map(apoe_genotypes_dict)\n",
    "\n",
    "# Handle NaN values by marking unknown genotypes\n",
    "input_ped_df['APOE_GENOTYPE'].fillna('unknown', inplace=True)\n",
    "\n",
    "# Create a new DataFrame with the relevant columns\n",
    "subset_geno_df = input_ped_df[['FID', 'IID', 'SEX', 'PHENO', 'APOE_GENOTYPE']]\n",
    "\n",
    "## Generate counts and percentages\n",
    "\n",
    "# Overall APOE genotype counts and percentages\n",
    "counts_df = pd.DataFrame(subset_geno_df['APOE_GENOTYPE'].value_counts().reset_index())\n",
    "counts_df.columns = ['APOE_GENOTYPE', 'TOTAL_COUNT']\n",
    "counts_df['TOTAL_PERCENT'] = (counts_df['TOTAL_COUNT'] / subset_geno_df.shape[0]) * 100\n",
    "\n",
    "# Separate into cases, controls, and missing phenotype\n",
    "missing_pheno_df = subset_geno_df[subset_geno_df['PHENO'] == -9]\n",
    "controls_df = subset_geno_df[subset_geno_df['PHENO'] == 1]\n",
    "cases_df = subset_geno_df[subset_geno_df['PHENO'] == 2]\n",
    "\n",
    "# Generate counts and percentages for missing phenotypes\n",
    "missing_pheno_counts_df = pd.DataFrame(missing_pheno_df['APOE_GENOTYPE'].value_counts().reset_index())\n",
    "missing_pheno_counts_df.columns = ['APOE_GENOTYPE', 'MISSING_PHENO_COUNT']\n",
    "missing_pheno_counts_df['MISSING_PHENO_PERCENT'] = (missing_pheno_counts_df['MISSING_PHENO_COUNT'] / missing_pheno_df.shape[0]) * 100\n",
    "\n",
    "# Generate counts and percentages for controls\n",
    "controls_counts_df = pd.DataFrame(controls_df['APOE_GENOTYPE'].value_counts().reset_index())\n",
    "controls_counts_df.columns = ['APOE_GENOTYPE', 'CONTROLS_COUNT']\n",
    "controls_counts_df['CONTROLS_PERCENT'] = (controls_counts_df['CONTROLS_COUNT'] / controls_df.shape[0]) * 100\n",
    "\n",
    "# Generate counts and percentages for cases\n",
    "cases_counts_df = pd.DataFrame(cases_df['APOE_GENOTYPE'].value_counts().reset_index())\n",
    "cases_counts_df.columns = ['APOE_GENOTYPE', 'CASES_COUNT']\n",
    "cases_counts_df['CASES_PERCENT'] = (cases_counts_df['CASES_COUNT'] / cases_df.shape[0]) * 100\n",
    "\n",
    "# Merge the dataframes to get a summary\n",
    "dataframes_tomerge = [counts_df, missing_pheno_counts_df, controls_counts_df, cases_counts_df]\n",
    "merged_summary_df = reduce(lambda left, right: pd.merge(left, right, on='APOE_GENOTYPE', how='outer'), dataframes_tomerge)\n",
    "\n",
    "## Export results\n",
    "complete_df_output = output_name + \".APOE_GENOTYPES.csv\"\n",
    "counts_df_output = output_name + \".APOE_SUMMARY.csv\"\n",
    "\n",
    "# Save the complete genotype file as .csv\n",
    "subset_geno_df.to_csv(complete_df_output, index=False)\n",
    "print(f\"Your complete genotype file has been saved here: {complete_df_output}\")\n",
    "\n",
    "# Save the summary counts file as .csv\n",
    "merged_summary_df.to_csv(counts_df_output, index=False)\n",
    "print(f\"The summary counts have been saved here: {counts_df_output}\")\n",
    "\n",
    "# Done!\n",
    "print(\"Script execution complete!\")\n"
   ]
  },
  {
   "cell_type": "code",
   "execution_count": 105,
   "id": "430ebe02-3c6d-492c-80f3-6a4ceee73c3f",
   "metadata": {
    "tags": [],
    "trusted": true
   },
   "outputs": [
    {
     "ename": "NameError",
     "evalue": "name 'subset_geno_df' is not defined",
     "output_type": "error",
     "traceback": [
      "\u001b[0;31m---------------------------------------------------------------------------\u001b[0m",
      "\u001b[0;31mNameError\u001b[0m                                 Traceback (most recent call last)",
      "Cell \u001b[0;32mIn[105], line 1\u001b[0m\n\u001b[0;32m----> 1\u001b[0m \u001b[43msubset_geno_df\u001b[49m\u001b[38;5;241m.\u001b[39mhead()\n",
      "\u001b[0;31mNameError\u001b[0m: name 'subset_geno_df' is not defined"
     ]
    }
   ],
   "source": [
    "subset_geno_df.head()"
   ]
  },
  {
   "cell_type": "code",
   "execution_count": 106,
   "id": "173a8af7-0fbb-4123-bf33-558bba8f94ea",
   "metadata": {
    "tags": [],
    "trusted": true
   },
   "outputs": [
    {
     "ename": "NameError",
     "evalue": "name 'subset_geno_df' is not defined",
     "output_type": "error",
     "traceback": [
      "\u001b[0;31m---------------------------------------------------------------------------\u001b[0m",
      "\u001b[0;31mNameError\u001b[0m                                 Traceback (most recent call last)",
      "Cell \u001b[0;32mIn[106], line 1\u001b[0m\n\u001b[0;32m----> 1\u001b[0m subset_geno_df[\u001b[38;5;124m'\u001b[39m\u001b[38;5;124mAPOE_GENOTYPE\u001b[39m\u001b[38;5;124m'\u001b[39m] \u001b[38;5;241m=\u001b[39m \u001b[43msubset_geno_df\u001b[49m[\u001b[38;5;124m'\u001b[39m\u001b[38;5;124mAPOE_GENOTYPE\u001b[39m\u001b[38;5;124m'\u001b[39m]\u001b[38;5;241m.\u001b[39mreplace({\n\u001b[1;32m      2\u001b[0m     \u001b[38;5;124m'\u001b[39m\u001b[38;5;124me4/e4\u001b[39m\u001b[38;5;124m'\u001b[39m: \u001b[38;5;241m2\u001b[39m,\n\u001b[1;32m      3\u001b[0m     \u001b[38;5;124m'\u001b[39m\u001b[38;5;124me3/e4\u001b[39m\u001b[38;5;124m'\u001b[39m: \u001b[38;5;241m1\u001b[39m\n\u001b[1;32m      4\u001b[0m })\u001b[38;5;241m.\u001b[39mmap({\u001b[38;5;241m2\u001b[39m: \u001b[38;5;241m2\u001b[39m, \u001b[38;5;241m1\u001b[39m: \u001b[38;5;241m1\u001b[39m})\u001b[38;5;241m.\u001b[39mfillna(\u001b[38;5;241m0\u001b[39m)\u001b[38;5;241m.\u001b[39mastype(\u001b[38;5;28mint\u001b[39m)\n\u001b[1;32m      6\u001b[0m \u001b[38;5;66;03m# Display the updated dataframe\u001b[39;00m\n\u001b[1;32m      7\u001b[0m \u001b[38;5;28mprint\u001b[39m(subset_geno_df[[\u001b[38;5;124m'\u001b[39m\u001b[38;5;124mFID\u001b[39m\u001b[38;5;124m'\u001b[39m, \u001b[38;5;124m'\u001b[39m\u001b[38;5;124mIID\u001b[39m\u001b[38;5;124m'\u001b[39m, \u001b[38;5;124m'\u001b[39m\u001b[38;5;124mAPOE_GENOTYPE\u001b[39m\u001b[38;5;124m'\u001b[39m]]\u001b[38;5;241m.\u001b[39mhead())\n",
      "\u001b[0;31mNameError\u001b[0m: name 'subset_geno_df' is not defined"
     ]
    }
   ],
   "source": [
    "subset_geno_df['APOE_GENOTYPE'] = subset_geno_df['APOE_GENOTYPE'].replace({\n",
    "    'e4/e4': 2,\n",
    "    'e3/e4': 1\n",
    "}).map({2: 2, 1: 1}).fillna(0).astype(int)\n",
    "\n",
    "# Display the updated dataframe\n",
    "print(subset_geno_df[['FID', 'IID', 'APOE_GENOTYPE']].head())"
   ]
  },
  {
   "cell_type": "code",
   "execution_count": 107,
   "id": "efc48b26-e28b-4419-9b51-ad9a040b5678",
   "metadata": {
    "tags": [],
    "trusted": true
   },
   "outputs": [
    {
     "ename": "NameError",
     "evalue": "name 'subset_geno_df' is not defined",
     "output_type": "error",
     "traceback": [
      "\u001b[0;31m---------------------------------------------------------------------------\u001b[0m",
      "\u001b[0;31mNameError\u001b[0m                                 Traceback (most recent call last)",
      "Cell \u001b[0;32mIn[107], line 1\u001b[0m\n\u001b[0;32m----> 1\u001b[0m \u001b[38;5;28mprint\u001b[39m(\u001b[43msubset_geno_df\u001b[49m)\n",
      "\u001b[0;31mNameError\u001b[0m: name 'subset_geno_df' is not defined"
     ]
    }
   ],
   "source": [
    "print(subset_geno_df)"
   ]
  },
  {
   "cell_type": "code",
   "execution_count": 11,
   "id": "574ec6c7-e8f3-49a0-9394-50e98082bf01",
   "metadata": {
    "tags": [],
    "trusted": true
   },
   "outputs": [
    {
     "name": "stdout",
     "output_type": "stream",
     "text": [
      "       FID      IID  APOE_GENOTYPE\n",
      "0  1194431  1194431              0\n",
      "1  3658697  3658697              0\n",
      "2  5547865  5547865              0\n",
      "3  1063796  1063796              1\n",
      "4  4779244  4779244              0\n"
     ]
    },
    {
     "name": "stderr",
     "output_type": "stream",
     "text": [
      "/tmp/ipykernel_84/118487695.py:1: SettingWithCopyWarning: \n",
      "A value is trying to be set on a copy of a slice from a DataFrame.\n",
      "Try using .loc[row_indexer,col_indexer] = value instead\n",
      "\n",
      "See the caveats in the documentation: https://pandas.pydata.org/pandas-docs/stable/user_guide/indexing.html#returning-a-view-versus-a-copy\n",
      "  subset_geno_df['APOE_GENOTYPE'] = subset_geno_df['APOE_GENOTYPE'].replace({\n"
     ]
    }
   ],
   "source": [
    "subset_geno_df['APOE_GENOTYPE'] = subset_geno_df['APOE_GENOTYPE'].replace({\n",
    "    'e4/e4': 2,\n",
    "    'e3/e4': 1\n",
    "}).map({2: 2, 1: 1}).fillna(0).astype(int)\n",
    "\n",
    "# Display the updated dataframe\n",
    "print(subset_geno_df[['FID', 'IID', 'APOE_GENOTYPE']].head())\n",
    "subset_geno_df.to_csv(\"APOE_Status.txt\", sep='\\t', index=False)"
   ]
  },
  {
   "cell_type": "code",
   "execution_count": 12,
   "id": "372a59ae-74ac-4260-8e00-c19bd9811ae3",
   "metadata": {
    "tags": [],
    "trusted": true
   },
   "outputs": [
    {
     "name": "stdout",
     "output_type": "stream",
     "text": [
      "[===========================================================>] Uploaded 11,206,531 of 11,206,531 bytes (100%) APOE_Status.txt\n",
      "ID                                file-GvJ4k40JbP2Y94jBvF66jf7B\n",
      "Class                             file\n",
      "Project                           project-GkYf2zQJbP2Q3vFgf14863Gf\n",
      "Folder                            /\n",
      "Name                              APOE_Status.txt\n",
      "State                             \u001b[33mclosing\u001b[0m\n",
      "Visibility                        visible\n",
      "Types                             -\n",
      "Properties                        -\n",
      "Tags                              -\n",
      "Outgoing links                    -\n",
      "Created                           Thu Oct 24 13:33:04 2024\n",
      "Created by                        vidhu\n",
      " via the job                      job-GvJ44y0JbP2xg8kByKY6vPfB\n",
      "Last modified                     Thu Oct 24 13:33:05 2024\n",
      "Media type                        \n",
      "archivalState                     \"live\"\n",
      "cloudAccount                      \"cloudaccount-dnanexus\"\n"
     ]
    }
   ],
   "source": [
    "!dx upload APOE_Status.txt"
   ]
  },
  {
   "cell_type": "code",
   "execution_count": 13,
   "id": "eb7a1044-f687-4450-8bde-e42f453394d4",
   "metadata": {
    "tags": [],
    "trusted": true
   },
   "outputs": [
    {
     "name": "stdout",
     "output_type": "stream",
     "text": [
      "[===========================================================>] Uploaded 13,265,397 of 13,265,397 bytes (100%) chr19_pgen.apoe_snps.apoe_snps_out.ped.APOE_GENOTYPES.csv\n",
      "ID                                file-GvJ4k4QJbP2QJQZ0vbqF77fx\n",
      "Class                             file\n",
      "Project                           project-GkYf2zQJbP2Q3vFgf14863Gf\n",
      "Folder                            /\n",
      "Name                              chr19_pgen.apoe_snps.apoe_snps_out.ped.APOE_GENOTYPES.csv\n",
      "State                             \u001b[33mclosing\u001b[0m\n",
      "Visibility                        visible\n",
      "Types                             -\n",
      "Properties                        -\n",
      "Tags                              -\n",
      "Outgoing links                    -\n",
      "Created                           Thu Oct 24 13:33:06 2024\n",
      "Created by                        vidhu\n",
      " via the job                      job-GvJ44y0JbP2xg8kByKY6vPfB\n",
      "Last modified                     Thu Oct 24 13:33:07 2024\n",
      "Media type                        \n",
      "archivalState                     \"live\"\n",
      "cloudAccount                      \"cloudaccount-dnanexus\"\n"
     ]
    }
   ],
   "source": [
    "!dx upload chr19_pgen.apoe_snps.apoe_snps_out.ped.APOE_GENOTYPES.csv"
   ]
  },
  {
   "cell_type": "code",
   "execution_count": 14,
   "id": "66a63739-2170-4552-a6a6-44a0e5355d56",
   "metadata": {
    "tags": [],
    "trusted": true
   },
   "outputs": [
    {
     "name": "stdout",
     "output_type": "stream",
     "text": [
      "[===========================================================>] Uploaded 569 of 569 bytes (100%) chr19_pgen.apoe_snps.apoe_snps_out.ped.APOE_SUMMARY.csv\n",
      "ID                                file-GvJ4k50JbP2jzpfXb2K4KVB3\n",
      "Class                             file\n",
      "Project                           project-GkYf2zQJbP2Q3vFgf14863Gf\n",
      "Folder                            /\n",
      "Name                              chr19_pgen.apoe_snps.apoe_snps_out.ped.APOE_SUMMARY.csv\n",
      "State                             \u001b[33mclosing\u001b[0m\n",
      "Visibility                        visible\n",
      "Types                             -\n",
      "Properties                        -\n",
      "Tags                              -\n",
      "Outgoing links                    -\n",
      "Created                           Thu Oct 24 13:33:08 2024\n",
      "Created by                        vidhu\n",
      " via the job                      job-GvJ44y0JbP2xg8kByKY6vPfB\n",
      "Last modified                     Thu Oct 24 13:33:09 2024\n",
      "Media type                        \n",
      "archivalState                     \"live\"\n",
      "cloudAccount                      \"cloudaccount-dnanexus\"\n"
     ]
    }
   ],
   "source": [
    "!dx upload chr19_pgen.apoe_snps.apoe_snps_out.ped.APOE_SUMMARY.csv"
   ]
  },
  {
   "cell_type": "code",
   "execution_count": 15,
   "id": "94643617-2f9f-4241-b44d-27984ff8370a",
   "metadata": {
    "tags": [],
    "trusted": true
   },
   "outputs": [
    {
     "name": "stdout",
     "output_type": "stream",
     "text": [
      "APOE_GENOTYPE,TOTAL_COUNT,TOTAL_PERCENT,MISSING_PHENO_COUNT,MISSING_PHENO_PERCENT,CONTROLS_COUNT,CONTROLS_PERCENT,CASES_COUNT,CASES_PERCENT\n",
      "e3/e3,286304,58.755661540924194,286304,58.755661540924194,,,,\n",
      "e3/e4,114542,23.50645112964031,114542,23.50645112964031,,,,\n",
      "e2/e3,59312,12.172082113122052,59312,12.172082113122052,,,,\n",
      "e2/e4 or e1/e3,12132,2.4897440685931467,12132,2.4897440685931467,,,,\n",
      "e4/e4,11583,2.3770776085158607,11583,2.3770776085158607,,,,\n",
      "e2/e2,3125,0.6413163711138793,3125,0.6413163711138793,,,,\n",
      "unknown,281,0.05766716809056003,281,0.05766716809056003,,,,\n"
     ]
    }
   ],
   "source": [
    "!head chr19_pgen.apoe_snps.apoe_snps_out.ped.APOE_SUMMARY.csv"
   ]
  },
  {
   "cell_type": "code",
   "execution_count": 16,
   "id": "cfc56cfd-2c75-452a-bef3-1e60b2814020",
   "metadata": {
    "tags": [],
    "trusted": true
   },
   "outputs": [
    {
     "name": "stdout",
     "output_type": "stream",
     "text": [
      "\u001b[2K[===========================================================>] Completed 1,634,665 of 1,634,665 bytes (100%) /opt/notebooks/ADRD_noFTD_noPARKINSONISM_noALS_noVD_noHT_noCJD_noPDD.CTRL_inclProxy_60older.plink_pheno.txtt\n"
     ]
    }
   ],
   "source": [
    "!dx download ADRD_noFTD_noPARKINSONISM_noALS_noVD_noHT_noCJD_noPDD.CTRL_inclProxy_60older.plink_pheno.txt"
   ]
  },
  {
   "cell_type": "code",
   "execution_count": 17,
   "id": "a26913cc-d3af-41aa-bc79-f843b18b3a4a",
   "metadata": {
    "tags": [],
    "trusted": true
   },
   "outputs": [
    {
     "name": "stdout",
     "output_type": "stream",
     "text": [
      "       FID      IID  SEX  PHENO  APOE_GENOTYPE  ADRD\n",
      "0  1194431  1194431    1     -9              0     1\n",
      "1  5547865  5547865    1     -9              0     1\n",
      "2  1382977  1382977    1     -9              0     1\n",
      "3  5209497  5209497    2     -9              0     1\n",
      "4  4911647  4911647    2     -9              0     1\n"
     ]
    }
   ],
   "source": [
    "import pandas as pd\n",
    "\n",
    "# Read the two files\n",
    "file1 = pd.read_csv('APOE_Status.txt', sep='\\t')\n",
    "file2 = pd.read_csv('ADRD_noFTD_noPARKINSONISM_noALS_noVD_noHT_noCJD_noPDD.CTRL_inclProxy_60older.plink_pheno.txt', sep='\\t')\n",
    "\n",
    "# Merge the files on the common 'FID' and 'IID' columns\n",
    "merged_df = pd.merge(file1, file2, on=['FID', 'IID'], how='inner')\n",
    "\n",
    "# Display the merged dataframe\n",
    "print(merged_df.head())\n",
    "\n",
    "merged_df.to_csv(\"HT_Alzheimers_APOE_Status.txt\", sep='\\t', index=False)\n"
   ]
  },
  {
   "cell_type": "code",
   "execution_count": 18,
   "id": "0f847b2e-ec8b-40be-979c-c0465943a083",
   "metadata": {
    "tags": [],
    "trusted": true
   },
   "outputs": [
    {
     "name": "stdout",
     "output_type": "stream",
     "text": [
      "\u001b[2K[===========================================================>] Completed 78,690,854 of 78,690,854 bytes (100%) /opt/notebooks/UKB_EUR_UMAP_COVARIATES.txtt\n"
     ]
    }
   ],
   "source": [
    "!dx download UKB_EUR_UMAP_COVARIATES.txt"
   ]
  },
  {
   "cell_type": "code",
   "execution_count": 19,
   "id": "58ea682f-d2f4-4f1a-872a-516c6569915d",
   "metadata": {
    "tags": [],
    "trusted": true
   },
   "outputs": [
    {
     "name": "stdout",
     "output_type": "stream",
     "text": [
      "       FID      IID  SEX  PHENO  APOE_GENOTYPE  ADRD  TOWNSEND GENETIC_SEX  \\\n",
      "0  1194431  1194431    1     -9              0     1      2.90        Male   \n",
      "1  5547865  5547865    1     -9              0     1     -3.12        Male   \n",
      "2  1382977  1382977    1     -9              0     1      1.53        Male   \n",
      "3  5209497  5209497    2     -9              0     1     -4.52      Female   \n",
      "4  4911647  4911647    2     -9              0     1     -4.08      Female   \n",
      "\n",
      "   ARRAY  AGE_OF_RECRUIT  ...       PC1       PC2       PC3       PC4  \\\n",
      "0  Axiom              52  ... -0.000347  0.000093 -0.000733 -0.000249   \n",
      "1  Axiom              64  ...  0.000870 -0.001548  0.000196  0.000373   \n",
      "2  Axiom              67  ...  0.001523 -0.000267 -0.001473 -0.001191   \n",
      "3  Axiom              57  ...  0.000312 -0.000684 -0.000755  0.000198   \n",
      "4  Axiom              63  ...  0.002434 -0.003084  0.001510 -0.001225   \n",
      "\n",
      "        PC5       PC6       PC7       PC8       PC9      PC10  \n",
      "0 -0.001082 -0.001730 -0.000163 -0.001029  0.001938  0.000685  \n",
      "1 -0.001877  0.000178  0.000965  0.001608 -0.002161 -0.000996  \n",
      "2 -0.000233  0.001631 -0.000161 -0.000783 -0.000799 -0.002122  \n",
      "3  0.000362 -0.000338  0.000882  0.001583 -0.000909  0.000879  \n",
      "4  0.004258  0.000411 -0.003035  0.000953  0.000046 -0.000147  \n",
      "\n",
      "[5 rows x 23 columns]\n"
     ]
    }
   ],
   "source": [
    "import pandas as pd\n",
    "# Read the two files\n",
    "file11 = pd.read_csv('HT_Alzheimers_APOE_Status.txt', sep='\\t')\n",
    "file21 = pd.read_csv('UKB_EUR_UMAP_COVARIATES.txt', sep='\\t')\n",
    "\n",
    "# Merge the files on the common 'FID' and 'IID' columns\n",
    "merged_df1 = pd.merge(file11, file21, on=['FID', 'IID'], how='inner')\n",
    "\n",
    "# Display the merged dataframe\n",
    "print(merged_df1.head())\n",
    "\n",
    "merged_df1.to_csv(\"HT_Alzheimers_APOE_Status_with_PCs.txt\", sep='\\t', index=False)"
   ]
  },
  {
   "cell_type": "code",
   "execution_count": 20,
   "id": "9adafeb4-0766-45a9-8d50-d27d5ee6a651",
   "metadata": {
    "tags": [],
    "trusted": true
   },
   "outputs": [],
   "source": [
    "# Step 2: Specify the columns you want to extract\n",
    "columns_to_extract = ['FID', 'IID', 'APOE_GENOTYPE','PC1','PC2','PC3','PC4','PC5','PC6','PC7','PC8','PC9','PC10','GENETIC_SEX','AGE_2024_COV']  # Replace with actual column names\n",
    "\n",
    "# Step 3: Extract the specified columns\n",
    "df_subset1 = merged_df1[columns_to_extract]\n",
    "\n",
    "# Step 4: Save the extracted columns to a new file if needed\n",
    "df_subset1.to_csv('Covar_HT_Alzheimers_APOE_Status_with_PCs.txt', sep='\\t', index=False)"
   ]
  },
  {
   "cell_type": "code",
   "execution_count": 21,
   "id": "935e8e0c-388d-43fa-af65-bfd0ba4d8b5e",
   "metadata": {
    "tags": [],
    "trusted": true
   },
   "outputs": [],
   "source": [
    "# Step 2: Specify the columns you want to extract\n",
    "columns_to_extract = ['FID', 'IID', 'ADRD']  # Replace with actual column names\n",
    "\n",
    "# Step 3: Extract the specified columns\n",
    "df_subset = merged_df1[columns_to_extract]\n",
    "\n",
    "# Step 4: Save the extracted columns to a new file if needed\n",
    "df_subset.to_csv('Pheno_HT_Alzheimers_APOE_Status_with_PCs.txt', sep='\\t', index=False)"
   ]
  },
  {
   "cell_type": "code",
   "execution_count": 22,
   "id": "4d80182a-11ad-41f5-be87-932c3fe0fa6e",
   "metadata": {
    "tags": [],
    "trusted": true
   },
   "outputs": [
    {
     "name": "stdout",
     "output_type": "stream",
     "text": [
      "[===========================================================>] Uploaded 1,634,665 of 1,634,665 bytes (100%) Pheno_HT_Alzheimers_APOE_Status_with_PCs.txt\n",
      "ID                                file-GvJ4k7QJbP2jzpfXb2K4KVBQ\n",
      "Class                             file\n",
      "Project                           project-GkYf2zQJbP2Q3vFgf14863Gf\n",
      "Folder                            /\n",
      "Name                              Pheno_HT_Alzheimers_APOE_Status_with_PCs.txt\n",
      "State                             \u001b[33mclosing\u001b[0m\n",
      "Visibility                        visible\n",
      "Types                             -\n",
      "Properties                        -\n",
      "Tags                              -\n",
      "Outgoing links                    -\n",
      "Created                           Thu Oct 24 13:33:18 2024\n",
      "Created by                        vidhu\n",
      " via the job                      job-GvJ44y0JbP2xg8kByKY6vPfB\n",
      "Last modified                     Thu Oct 24 13:33:18 2024\n",
      "Media type                        \n",
      "archivalState                     \"live\"\n",
      "cloudAccount                      \"cloudaccount-dnanexus\"\n"
     ]
    }
   ],
   "source": [
    "!dx upload Pheno_HT_Alzheimers_APOE_Status_with_PCs.txt"
   ]
  },
  {
   "cell_type": "code",
   "execution_count": 23,
   "id": "5cacf75f-9eef-4cf3-90e8-3a9be90a5d53",
   "metadata": {
    "tags": [],
    "trusted": true
   },
   "outputs": [
    {
     "name": "stdout",
     "output_type": "stream",
     "text": [
      "[===========================================================>] Uploaded 13,481,565 of 13,481,565 bytes (100%) Covar_HT_Alzheimers_APOE_Status_with_PCs.txt\n",
      "ID                                file-GvJ4k7jJbP2jx82QJY2Bj8qg\n",
      "Class                             file\n",
      "Project                           project-GkYf2zQJbP2Q3vFgf14863Gf\n",
      "Folder                            /\n",
      "Name                              Covar_HT_Alzheimers_APOE_Status_with_PCs.txt\n",
      "State                             \u001b[33mclosing\u001b[0m\n",
      "Visibility                        visible\n",
      "Types                             -\n",
      "Properties                        -\n",
      "Tags                              -\n",
      "Outgoing links                    -\n",
      "Created                           Thu Oct 24 13:33:19 2024\n",
      "Created by                        vidhu\n",
      " via the job                      job-GvJ44y0JbP2xg8kByKY6vPfB\n",
      "Last modified                     Thu Oct 24 13:33:20 2024\n",
      "Media type                        \n",
      "archivalState                     \"live\"\n",
      "cloudAccount                      \"cloudaccount-dnanexus\"\n"
     ]
    }
   ],
   "source": [
    "!dx upload Covar_HT_Alzheimers_APOE_Status_with_PCs.txt"
   ]
  },
  {
   "cell_type": "code",
   "execution_count": 4,
   "id": "ff49d79b-bf33-436a-a095-5593e317d7ed",
   "metadata": {
    "tags": [],
    "trusted": true
   },
   "outputs": [
    {
     "name": "stderr",
     "output_type": "stream",
     "text": [
      "/tmp/ipykernel_91/3149319278.py:2: FutureWarning: The error_bad_lines argument has been deprecated and will be removed in a future version. Use on_bad_lines in the future.\n",
      "\n",
      "\n",
      "  df = pd.read_csv('HT_Alzheimers_APOE_Status_with_PCs.txt', delimiter=\"\\t\", error_bad_lines=False)\n"
     ]
    },
    {
     "ename": "FileNotFoundError",
     "evalue": "[Errno 2] No such file or directory: 'HT_Alzheimers_APOE_Status_with_PCs.txt'",
     "output_type": "error",
     "traceback": [
      "\u001b[0;31m---------------------------------------------------------------------------\u001b[0m",
      "\u001b[0;31mFileNotFoundError\u001b[0m                         Traceback (most recent call last)",
      "Cell \u001b[0;32mIn[4], line 2\u001b[0m\n\u001b[1;32m      1\u001b[0m \u001b[38;5;66;03m# Use this if the file is CSV\u001b[39;00m\n\u001b[0;32m----> 2\u001b[0m df \u001b[38;5;241m=\u001b[39m \u001b[43mpd\u001b[49m\u001b[38;5;241;43m.\u001b[39;49m\u001b[43mread_csv\u001b[49m\u001b[43m(\u001b[49m\u001b[38;5;124;43m'\u001b[39;49m\u001b[38;5;124;43mHT_Alzheimers_APOE_Status_with_PCs.txt\u001b[39;49m\u001b[38;5;124;43m'\u001b[39;49m\u001b[43m,\u001b[49m\u001b[43m \u001b[49m\u001b[43mdelimiter\u001b[49m\u001b[38;5;241;43m=\u001b[39;49m\u001b[38;5;124;43m\"\u001b[39;49m\u001b[38;5;130;43;01m\\t\u001b[39;49;00m\u001b[38;5;124;43m\"\u001b[39;49m\u001b[43m,\u001b[49m\u001b[43m \u001b[49m\u001b[43merror_bad_lines\u001b[49m\u001b[38;5;241;43m=\u001b[39;49m\u001b[38;5;28;43;01mFalse\u001b[39;49;00m\u001b[43m)\u001b[49m\n",
      "File \u001b[0;32m/opt/conda/lib/python3.9/site-packages/pandas/util/_decorators.py:211\u001b[0m, in \u001b[0;36mdeprecate_kwarg.<locals>._deprecate_kwarg.<locals>.wrapper\u001b[0;34m(*args, **kwargs)\u001b[0m\n\u001b[1;32m    209\u001b[0m     \u001b[38;5;28;01melse\u001b[39;00m:\n\u001b[1;32m    210\u001b[0m         kwargs[new_arg_name] \u001b[38;5;241m=\u001b[39m new_arg_value\n\u001b[0;32m--> 211\u001b[0m \u001b[38;5;28;01mreturn\u001b[39;00m \u001b[43mfunc\u001b[49m\u001b[43m(\u001b[49m\u001b[38;5;241;43m*\u001b[39;49m\u001b[43margs\u001b[49m\u001b[43m,\u001b[49m\u001b[43m \u001b[49m\u001b[38;5;241;43m*\u001b[39;49m\u001b[38;5;241;43m*\u001b[39;49m\u001b[43mkwargs\u001b[49m\u001b[43m)\u001b[49m\n",
      "File \u001b[0;32m/opt/conda/lib/python3.9/site-packages/pandas/util/_decorators.py:331\u001b[0m, in \u001b[0;36mdeprecate_nonkeyword_arguments.<locals>.decorate.<locals>.wrapper\u001b[0;34m(*args, **kwargs)\u001b[0m\n\u001b[1;32m    325\u001b[0m \u001b[38;5;28;01mif\u001b[39;00m \u001b[38;5;28mlen\u001b[39m(args) \u001b[38;5;241m>\u001b[39m num_allow_args:\n\u001b[1;32m    326\u001b[0m     warnings\u001b[38;5;241m.\u001b[39mwarn(\n\u001b[1;32m    327\u001b[0m         msg\u001b[38;5;241m.\u001b[39mformat(arguments\u001b[38;5;241m=\u001b[39m_format_argument_list(allow_args)),\n\u001b[1;32m    328\u001b[0m         \u001b[38;5;167;01mFutureWarning\u001b[39;00m,\n\u001b[1;32m    329\u001b[0m         stacklevel\u001b[38;5;241m=\u001b[39mfind_stack_level(),\n\u001b[1;32m    330\u001b[0m     )\n\u001b[0;32m--> 331\u001b[0m \u001b[38;5;28;01mreturn\u001b[39;00m \u001b[43mfunc\u001b[49m\u001b[43m(\u001b[49m\u001b[38;5;241;43m*\u001b[39;49m\u001b[43margs\u001b[49m\u001b[43m,\u001b[49m\u001b[43m \u001b[49m\u001b[38;5;241;43m*\u001b[39;49m\u001b[38;5;241;43m*\u001b[39;49m\u001b[43mkwargs\u001b[49m\u001b[43m)\u001b[49m\n",
      "File \u001b[0;32m/opt/conda/lib/python3.9/site-packages/pandas/io/parsers/readers.py:950\u001b[0m, in \u001b[0;36mread_csv\u001b[0;34m(filepath_or_buffer, sep, delimiter, header, names, index_col, usecols, squeeze, prefix, mangle_dupe_cols, dtype, engine, converters, true_values, false_values, skipinitialspace, skiprows, skipfooter, nrows, na_values, keep_default_na, na_filter, verbose, skip_blank_lines, parse_dates, infer_datetime_format, keep_date_col, date_parser, dayfirst, cache_dates, iterator, chunksize, compression, thousands, decimal, lineterminator, quotechar, quoting, doublequote, escapechar, comment, encoding, encoding_errors, dialect, error_bad_lines, warn_bad_lines, on_bad_lines, delim_whitespace, low_memory, memory_map, float_precision, storage_options)\u001b[0m\n\u001b[1;32m    935\u001b[0m kwds_defaults \u001b[38;5;241m=\u001b[39m _refine_defaults_read(\n\u001b[1;32m    936\u001b[0m     dialect,\n\u001b[1;32m    937\u001b[0m     delimiter,\n\u001b[0;32m   (...)\u001b[0m\n\u001b[1;32m    946\u001b[0m     defaults\u001b[38;5;241m=\u001b[39m{\u001b[38;5;124m\"\u001b[39m\u001b[38;5;124mdelimiter\u001b[39m\u001b[38;5;124m\"\u001b[39m: \u001b[38;5;124m\"\u001b[39m\u001b[38;5;124m,\u001b[39m\u001b[38;5;124m\"\u001b[39m},\n\u001b[1;32m    947\u001b[0m )\n\u001b[1;32m    948\u001b[0m kwds\u001b[38;5;241m.\u001b[39mupdate(kwds_defaults)\n\u001b[0;32m--> 950\u001b[0m \u001b[38;5;28;01mreturn\u001b[39;00m \u001b[43m_read\u001b[49m\u001b[43m(\u001b[49m\u001b[43mfilepath_or_buffer\u001b[49m\u001b[43m,\u001b[49m\u001b[43m \u001b[49m\u001b[43mkwds\u001b[49m\u001b[43m)\u001b[49m\n",
      "File \u001b[0;32m/opt/conda/lib/python3.9/site-packages/pandas/io/parsers/readers.py:605\u001b[0m, in \u001b[0;36m_read\u001b[0;34m(filepath_or_buffer, kwds)\u001b[0m\n\u001b[1;32m    602\u001b[0m _validate_names(kwds\u001b[38;5;241m.\u001b[39mget(\u001b[38;5;124m\"\u001b[39m\u001b[38;5;124mnames\u001b[39m\u001b[38;5;124m\"\u001b[39m, \u001b[38;5;28;01mNone\u001b[39;00m))\n\u001b[1;32m    604\u001b[0m \u001b[38;5;66;03m# Create the parser.\u001b[39;00m\n\u001b[0;32m--> 605\u001b[0m parser \u001b[38;5;241m=\u001b[39m \u001b[43mTextFileReader\u001b[49m\u001b[43m(\u001b[49m\u001b[43mfilepath_or_buffer\u001b[49m\u001b[43m,\u001b[49m\u001b[43m \u001b[49m\u001b[38;5;241;43m*\u001b[39;49m\u001b[38;5;241;43m*\u001b[39;49m\u001b[43mkwds\u001b[49m\u001b[43m)\u001b[49m\n\u001b[1;32m    607\u001b[0m \u001b[38;5;28;01mif\u001b[39;00m chunksize \u001b[38;5;129;01mor\u001b[39;00m iterator:\n\u001b[1;32m    608\u001b[0m     \u001b[38;5;28;01mreturn\u001b[39;00m parser\n",
      "File \u001b[0;32m/opt/conda/lib/python3.9/site-packages/pandas/io/parsers/readers.py:1442\u001b[0m, in \u001b[0;36mTextFileReader.__init__\u001b[0;34m(self, f, engine, **kwds)\u001b[0m\n\u001b[1;32m   1439\u001b[0m     \u001b[38;5;28mself\u001b[39m\u001b[38;5;241m.\u001b[39moptions[\u001b[38;5;124m\"\u001b[39m\u001b[38;5;124mhas_index_names\u001b[39m\u001b[38;5;124m\"\u001b[39m] \u001b[38;5;241m=\u001b[39m kwds[\u001b[38;5;124m\"\u001b[39m\u001b[38;5;124mhas_index_names\u001b[39m\u001b[38;5;124m\"\u001b[39m]\n\u001b[1;32m   1441\u001b[0m \u001b[38;5;28mself\u001b[39m\u001b[38;5;241m.\u001b[39mhandles: IOHandles \u001b[38;5;241m|\u001b[39m \u001b[38;5;28;01mNone\u001b[39;00m \u001b[38;5;241m=\u001b[39m \u001b[38;5;28;01mNone\u001b[39;00m\n\u001b[0;32m-> 1442\u001b[0m \u001b[38;5;28mself\u001b[39m\u001b[38;5;241m.\u001b[39m_engine \u001b[38;5;241m=\u001b[39m \u001b[38;5;28;43mself\u001b[39;49m\u001b[38;5;241;43m.\u001b[39;49m\u001b[43m_make_engine\u001b[49m\u001b[43m(\u001b[49m\u001b[43mf\u001b[49m\u001b[43m,\u001b[49m\u001b[43m \u001b[49m\u001b[38;5;28;43mself\u001b[39;49m\u001b[38;5;241;43m.\u001b[39;49m\u001b[43mengine\u001b[49m\u001b[43m)\u001b[49m\n",
      "File \u001b[0;32m/opt/conda/lib/python3.9/site-packages/pandas/io/parsers/readers.py:1735\u001b[0m, in \u001b[0;36mTextFileReader._make_engine\u001b[0;34m(self, f, engine)\u001b[0m\n\u001b[1;32m   1733\u001b[0m     \u001b[38;5;28;01mif\u001b[39;00m \u001b[38;5;124m\"\u001b[39m\u001b[38;5;124mb\u001b[39m\u001b[38;5;124m\"\u001b[39m \u001b[38;5;129;01mnot\u001b[39;00m \u001b[38;5;129;01min\u001b[39;00m mode:\n\u001b[1;32m   1734\u001b[0m         mode \u001b[38;5;241m+\u001b[39m\u001b[38;5;241m=\u001b[39m \u001b[38;5;124m\"\u001b[39m\u001b[38;5;124mb\u001b[39m\u001b[38;5;124m\"\u001b[39m\n\u001b[0;32m-> 1735\u001b[0m \u001b[38;5;28mself\u001b[39m\u001b[38;5;241m.\u001b[39mhandles \u001b[38;5;241m=\u001b[39m \u001b[43mget_handle\u001b[49m\u001b[43m(\u001b[49m\n\u001b[1;32m   1736\u001b[0m \u001b[43m    \u001b[49m\u001b[43mf\u001b[49m\u001b[43m,\u001b[49m\n\u001b[1;32m   1737\u001b[0m \u001b[43m    \u001b[49m\u001b[43mmode\u001b[49m\u001b[43m,\u001b[49m\n\u001b[1;32m   1738\u001b[0m \u001b[43m    \u001b[49m\u001b[43mencoding\u001b[49m\u001b[38;5;241;43m=\u001b[39;49m\u001b[38;5;28;43mself\u001b[39;49m\u001b[38;5;241;43m.\u001b[39;49m\u001b[43moptions\u001b[49m\u001b[38;5;241;43m.\u001b[39;49m\u001b[43mget\u001b[49m\u001b[43m(\u001b[49m\u001b[38;5;124;43m\"\u001b[39;49m\u001b[38;5;124;43mencoding\u001b[39;49m\u001b[38;5;124;43m\"\u001b[39;49m\u001b[43m,\u001b[49m\u001b[43m \u001b[49m\u001b[38;5;28;43;01mNone\u001b[39;49;00m\u001b[43m)\u001b[49m\u001b[43m,\u001b[49m\n\u001b[1;32m   1739\u001b[0m \u001b[43m    \u001b[49m\u001b[43mcompression\u001b[49m\u001b[38;5;241;43m=\u001b[39;49m\u001b[38;5;28;43mself\u001b[39;49m\u001b[38;5;241;43m.\u001b[39;49m\u001b[43moptions\u001b[49m\u001b[38;5;241;43m.\u001b[39;49m\u001b[43mget\u001b[49m\u001b[43m(\u001b[49m\u001b[38;5;124;43m\"\u001b[39;49m\u001b[38;5;124;43mcompression\u001b[39;49m\u001b[38;5;124;43m\"\u001b[39;49m\u001b[43m,\u001b[49m\u001b[43m \u001b[49m\u001b[38;5;28;43;01mNone\u001b[39;49;00m\u001b[43m)\u001b[49m\u001b[43m,\u001b[49m\n\u001b[1;32m   1740\u001b[0m \u001b[43m    \u001b[49m\u001b[43mmemory_map\u001b[49m\u001b[38;5;241;43m=\u001b[39;49m\u001b[38;5;28;43mself\u001b[39;49m\u001b[38;5;241;43m.\u001b[39;49m\u001b[43moptions\u001b[49m\u001b[38;5;241;43m.\u001b[39;49m\u001b[43mget\u001b[49m\u001b[43m(\u001b[49m\u001b[38;5;124;43m\"\u001b[39;49m\u001b[38;5;124;43mmemory_map\u001b[39;49m\u001b[38;5;124;43m\"\u001b[39;49m\u001b[43m,\u001b[49m\u001b[43m \u001b[49m\u001b[38;5;28;43;01mFalse\u001b[39;49;00m\u001b[43m)\u001b[49m\u001b[43m,\u001b[49m\n\u001b[1;32m   1741\u001b[0m \u001b[43m    \u001b[49m\u001b[43mis_text\u001b[49m\u001b[38;5;241;43m=\u001b[39;49m\u001b[43mis_text\u001b[49m\u001b[43m,\u001b[49m\n\u001b[1;32m   1742\u001b[0m \u001b[43m    \u001b[49m\u001b[43merrors\u001b[49m\u001b[38;5;241;43m=\u001b[39;49m\u001b[38;5;28;43mself\u001b[39;49m\u001b[38;5;241;43m.\u001b[39;49m\u001b[43moptions\u001b[49m\u001b[38;5;241;43m.\u001b[39;49m\u001b[43mget\u001b[49m\u001b[43m(\u001b[49m\u001b[38;5;124;43m\"\u001b[39;49m\u001b[38;5;124;43mencoding_errors\u001b[39;49m\u001b[38;5;124;43m\"\u001b[39;49m\u001b[43m,\u001b[49m\u001b[43m \u001b[49m\u001b[38;5;124;43m\"\u001b[39;49m\u001b[38;5;124;43mstrict\u001b[39;49m\u001b[38;5;124;43m\"\u001b[39;49m\u001b[43m)\u001b[49m\u001b[43m,\u001b[49m\n\u001b[1;32m   1743\u001b[0m \u001b[43m    \u001b[49m\u001b[43mstorage_options\u001b[49m\u001b[38;5;241;43m=\u001b[39;49m\u001b[38;5;28;43mself\u001b[39;49m\u001b[38;5;241;43m.\u001b[39;49m\u001b[43moptions\u001b[49m\u001b[38;5;241;43m.\u001b[39;49m\u001b[43mget\u001b[49m\u001b[43m(\u001b[49m\u001b[38;5;124;43m\"\u001b[39;49m\u001b[38;5;124;43mstorage_options\u001b[39;49m\u001b[38;5;124;43m\"\u001b[39;49m\u001b[43m,\u001b[49m\u001b[43m \u001b[49m\u001b[38;5;28;43;01mNone\u001b[39;49;00m\u001b[43m)\u001b[49m\u001b[43m,\u001b[49m\n\u001b[1;32m   1744\u001b[0m \u001b[43m\u001b[49m\u001b[43m)\u001b[49m\n\u001b[1;32m   1745\u001b[0m \u001b[38;5;28;01massert\u001b[39;00m \u001b[38;5;28mself\u001b[39m\u001b[38;5;241m.\u001b[39mhandles \u001b[38;5;129;01mis\u001b[39;00m \u001b[38;5;129;01mnot\u001b[39;00m \u001b[38;5;28;01mNone\u001b[39;00m\n\u001b[1;32m   1746\u001b[0m f \u001b[38;5;241m=\u001b[39m \u001b[38;5;28mself\u001b[39m\u001b[38;5;241m.\u001b[39mhandles\u001b[38;5;241m.\u001b[39mhandle\n",
      "File \u001b[0;32m/opt/conda/lib/python3.9/site-packages/pandas/io/common.py:856\u001b[0m, in \u001b[0;36mget_handle\u001b[0;34m(path_or_buf, mode, encoding, compression, memory_map, is_text, errors, storage_options)\u001b[0m\n\u001b[1;32m    851\u001b[0m \u001b[38;5;28;01melif\u001b[39;00m \u001b[38;5;28misinstance\u001b[39m(handle, \u001b[38;5;28mstr\u001b[39m):\n\u001b[1;32m    852\u001b[0m     \u001b[38;5;66;03m# Check whether the filename is to be opened in binary mode.\u001b[39;00m\n\u001b[1;32m    853\u001b[0m     \u001b[38;5;66;03m# Binary mode does not support 'encoding' and 'newline'.\u001b[39;00m\n\u001b[1;32m    854\u001b[0m     \u001b[38;5;28;01mif\u001b[39;00m ioargs\u001b[38;5;241m.\u001b[39mencoding \u001b[38;5;129;01mand\u001b[39;00m \u001b[38;5;124m\"\u001b[39m\u001b[38;5;124mb\u001b[39m\u001b[38;5;124m\"\u001b[39m \u001b[38;5;129;01mnot\u001b[39;00m \u001b[38;5;129;01min\u001b[39;00m ioargs\u001b[38;5;241m.\u001b[39mmode:\n\u001b[1;32m    855\u001b[0m         \u001b[38;5;66;03m# Encoding\u001b[39;00m\n\u001b[0;32m--> 856\u001b[0m         handle \u001b[38;5;241m=\u001b[39m \u001b[38;5;28;43mopen\u001b[39;49m\u001b[43m(\u001b[49m\n\u001b[1;32m    857\u001b[0m \u001b[43m            \u001b[49m\u001b[43mhandle\u001b[49m\u001b[43m,\u001b[49m\n\u001b[1;32m    858\u001b[0m \u001b[43m            \u001b[49m\u001b[43mioargs\u001b[49m\u001b[38;5;241;43m.\u001b[39;49m\u001b[43mmode\u001b[49m\u001b[43m,\u001b[49m\n\u001b[1;32m    859\u001b[0m \u001b[43m            \u001b[49m\u001b[43mencoding\u001b[49m\u001b[38;5;241;43m=\u001b[39;49m\u001b[43mioargs\u001b[49m\u001b[38;5;241;43m.\u001b[39;49m\u001b[43mencoding\u001b[49m\u001b[43m,\u001b[49m\n\u001b[1;32m    860\u001b[0m \u001b[43m            \u001b[49m\u001b[43merrors\u001b[49m\u001b[38;5;241;43m=\u001b[39;49m\u001b[43merrors\u001b[49m\u001b[43m,\u001b[49m\n\u001b[1;32m    861\u001b[0m \u001b[43m            \u001b[49m\u001b[43mnewline\u001b[49m\u001b[38;5;241;43m=\u001b[39;49m\u001b[38;5;124;43m\"\u001b[39;49m\u001b[38;5;124;43m\"\u001b[39;49m\u001b[43m,\u001b[49m\n\u001b[1;32m    862\u001b[0m \u001b[43m        \u001b[49m\u001b[43m)\u001b[49m\n\u001b[1;32m    863\u001b[0m     \u001b[38;5;28;01melse\u001b[39;00m:\n\u001b[1;32m    864\u001b[0m         \u001b[38;5;66;03m# Binary mode\u001b[39;00m\n\u001b[1;32m    865\u001b[0m         handle \u001b[38;5;241m=\u001b[39m \u001b[38;5;28mopen\u001b[39m(handle, ioargs\u001b[38;5;241m.\u001b[39mmode)\n",
      "\u001b[0;31mFileNotFoundError\u001b[0m: [Errno 2] No such file or directory: 'HT_Alzheimers_APOE_Status_with_PCs.txt'"
     ]
    }
   ],
   "source": [
    "# Use this if the file is CSV\n",
    "df = pd.read_csv('HT_Alzheimers_APOE_Status_with_PCs.txt', delimiter=\"\\t\", error_bad_lines=False)"
   ]
  },
  {
   "cell_type": "code",
   "execution_count": 3,
   "id": "ce2c7c20-cb32-43d4-9177-108371fbd9bb",
   "metadata": {
    "tags": [],
    "trusted": true
   },
   "outputs": [
    {
     "ename": "NameError",
     "evalue": "name 'df' is not defined",
     "output_type": "error",
     "traceback": [
      "\u001b[0;31m---------------------------------------------------------------------------\u001b[0m",
      "\u001b[0;31mNameError\u001b[0m                                 Traceback (most recent call last)",
      "Cell \u001b[0;32mIn[3], line 1\u001b[0m\n\u001b[0;32m----> 1\u001b[0m \u001b[43mdf\u001b[49m\u001b[38;5;241m.\u001b[39mto_csv(\u001b[38;5;124m\"\u001b[39m\u001b[38;5;124mHT_Alzheimers_APOE_Status_with_PCs_1.txt\u001b[39m\u001b[38;5;124m\"\u001b[39m, sep\u001b[38;5;241m=\u001b[39m\u001b[38;5;124m'\u001b[39m\u001b[38;5;130;01m\\t\u001b[39;00m\u001b[38;5;124m'\u001b[39m, index\u001b[38;5;241m=\u001b[39m\u001b[38;5;28;01mFalse\u001b[39;00m)\n",
      "\u001b[0;31mNameError\u001b[0m: name 'df' is not defined"
     ]
    }
   ],
   "source": [
    "df.to_csv(\"HT_Alzheimers_APOE_Status_with_PCs_1.txt\", sep='\\t', index=False)"
   ]
  },
  {
   "cell_type": "code",
   "execution_count": null,
   "id": "4cdc610f-3013-4245-96a3-36652dfcb472",
   "metadata": {},
   "outputs": [],
   "source": [
    "# Count unique values for each column\n",
    "count_a = df['A'].value_counts()\n",
    "count_b = df['B'].value_counts()\n",
    "\n",
    "print(count_a)\n",
    "print(count_b)"
   ]
  },
  {
   "cell_type": "code",
   "execution_count": 26,
   "id": "c5ae7300-1fc0-458e-8982-5ee62e2758c4",
   "metadata": {
    "tags": [],
    "trusted": true
   },
   "outputs": [
    {
     "name": "stdout",
     "output_type": "stream",
     "text": [
      "[===========================================================>] Uploaded 16,295,155 of 16,295,155 bytes (100%) HT_Alzheimers_APOE_Status_with_PCs_1.txt\n",
      "ID                                file-GvJ4k8QJbP2Y94jBvF66jf7P\n",
      "Class                             file\n",
      "Project                           project-GkYf2zQJbP2Q3vFgf14863Gf\n",
      "Folder                            /\n",
      "Name                              HT_Alzheimers_APOE_Status_with_PCs_1.txt\n",
      "State                             \u001b[33mclosing\u001b[0m\n",
      "Visibility                        visible\n",
      "Types                             -\n",
      "Properties                        -\n",
      "Tags                              -\n",
      "Outgoing links                    -\n",
      "Created                           Thu Oct 24 13:33:22 2024\n",
      "Created by                        vidhu\n",
      " via the job                      job-GvJ44y0JbP2xg8kByKY6vPfB\n",
      "Last modified                     Thu Oct 24 13:33:23 2024\n",
      "Media type                        \n",
      "archivalState                     \"live\"\n",
      "cloudAccount                      \"cloudaccount-dnanexus\"\n"
     ]
    }
   ],
   "source": [
    "!dx upload HT_Alzheimers_APOE_Status_with_PCs_1.txt"
   ]
  },
  {
   "cell_type": "code",
   "execution_count": 27,
   "id": "3fd64c04-bf56-435a-a54f-ddfa2d897fd2",
   "metadata": {
    "tags": [],
    "trusted": true
   },
   "outputs": [
    {
     "name": "stdout",
     "output_type": "stream",
     "text": [
      "[===========================================================>] Uploaded 16,295,155 of 16,295,155 bytes (100%) HT_Alzheimers_APOE_Status_with_PCs.txt\n",
      "ID                                file-GvJ4k90JbP2fgGYy1K83qJB3\n",
      "Class                             file\n",
      "Project                           project-GkYf2zQJbP2Q3vFgf14863Gf\n",
      "Folder                            /\n",
      "Name                              HT_Alzheimers_APOE_Status_with_PCs.txt\n",
      "State                             \u001b[33mclosing\u001b[0m\n",
      "Visibility                        visible\n",
      "Types                             -\n",
      "Properties                        -\n",
      "Tags                              -\n",
      "Outgoing links                    -\n",
      "Created                           Thu Oct 24 13:33:24 2024\n",
      "Created by                        vidhu\n",
      " via the job                      job-GvJ44y0JbP2xg8kByKY6vPfB\n",
      "Last modified                     Thu Oct 24 13:33:25 2024\n",
      "Media type                        \n",
      "archivalState                     \"live\"\n",
      "cloudAccount                      \"cloudaccount-dnanexus\"\n"
     ]
    }
   ],
   "source": [
    "!dx upload HT_Alzheimers_APOE_Status_with_PCs.txt"
   ]
  },
  {
   "cell_type": "code",
   "execution_count": 28,
   "id": "25c65d03-dbff-4634-abab-8f9870f95a65",
   "metadata": {
    "tags": [],
    "trusted": true
   },
   "outputs": [
    {
     "name": "stdout",
     "output_type": "stream",
     "text": [
      "           FID      IID\n",
      "0      1194431  1194431\n",
      "1      5547865  5547865\n",
      "2      1382977  1382977\n",
      "3      5209497  5209497\n",
      "4      4911647  4911647\n",
      "...        ...      ...\n",
      "90809  6018335  6018335\n",
      "90810  1434909  1434909\n",
      "90811  4303056  4303056\n",
      "90812  1547256  1547256\n",
      "90813  5294387  5294387\n",
      "\n",
      "[90814 rows x 2 columns]\n"
     ]
    }
   ],
   "source": [
    "import pandas as pd\n",
    "\n",
    "# Assuming the dataframe is named 'df'\n",
    "# Example: df = pd.read_csv('HT_Alzheimers_APOE_Status_with_PCs.txt', delim_whitespace=True)\n",
    "\n",
    "# Extract the FID and IID columns\n",
    "fid_iid_df = merged_df1[['FID', 'IID']]\n",
    "\n",
    "# Display the extracted columns\n",
    "print(fid_iid_df)\n",
    "fid_iid_df.to_csv(\"FID_IID_HT_Alzheimers_APOE_Status_with_PCs.txt\", sep='\\t', index=False)"
   ]
  },
  {
   "cell_type": "code",
   "execution_count": 29,
   "id": "0be575fd-cc4c-4f28-90f8-65eba07e13cb",
   "metadata": {
    "tags": [],
    "trusted": true
   },
   "outputs": [
    {
     "name": "stdout",
     "output_type": "stream",
     "text": [
      "[===========================================================>] Uploaded 1,453,032 of 1,453,032 bytes (100%) FID_IID_HT_Alzheimers_APOE_Status_with_PCs.txt\n",
      "ID                                file-GvJ4k9QJbP2jx82QJY2Bj8qk\n",
      "Class                             file\n",
      "Project                           project-GkYf2zQJbP2Q3vFgf14863Gf\n",
      "Folder                            /\n",
      "Name                              FID_IID_HT_Alzheimers_APOE_Status_with_PCs.txt\n",
      "State                             \u001b[33mclosing\u001b[0m\n",
      "Visibility                        visible\n",
      "Types                             -\n",
      "Properties                        -\n",
      "Tags                              -\n",
      "Outgoing links                    -\n",
      "Created                           Thu Oct 24 13:33:26 2024\n",
      "Created by                        vidhu\n",
      " via the job                      job-GvJ44y0JbP2xg8kByKY6vPfB\n",
      "Last modified                     Thu Oct 24 13:33:27 2024\n",
      "Media type                        \n",
      "archivalState                     \"live\"\n",
      "cloudAccount                      \"cloudaccount-dnanexus\"\n"
     ]
    }
   ],
   "source": [
    "!dx upload FID_IID_HT_Alzheimers_APOE_Status_with_PCs.txt"
   ]
  },
  {
   "cell_type": "code",
   "execution_count": 30,
   "id": "761a5ea9-d60b-4584-8308-60c8ac96c3d5",
   "metadata": {
    "tags": [],
    "trusted": true
   },
   "outputs": [
    {
     "name": "stdout",
     "output_type": "stream",
     "text": [
      "REGARDS_New:/\n"
     ]
    }
   ],
   "source": [
    "!dx pwd"
   ]
  },
  {
   "cell_type": "code",
   "execution_count": 31,
   "id": "061395fd-e372-462d-9f8d-9bcaf1babd64",
   "metadata": {
    "tags": [],
    "trusted": true
   },
   "outputs": [
    {
     "name": "stdout",
     "output_type": "stream",
     "text": [
      "head: cannot open 'chr19_pgen.psam' for reading: No such file or directory\n"
     ]
    }
   ],
   "source": [
    "!head chr19_pgen.psam"
   ]
  },
  {
   "cell_type": "code",
   "execution_count": 6,
   "id": "9165c1b4-fbf6-41c2-b1b9-d5b2f71cdbcd",
   "metadata": {
    "tags": [],
    "trusted": true
   },
   "outputs": [
    {
     "name": "stdout",
     "output_type": "stream",
     "text": [
      "\u001b[2K[===========================================================>] Completed 8,770,234 of 8,770,234 bytes (100%) /opt/notebooks/chr19_pgen.psamm\n"
     ]
    }
   ],
   "source": [
    "!dx download chr19_pgen.psam"
   ]
  },
  {
   "cell_type": "code",
   "execution_count": null,
   "id": "47c02e78-f9aa-4067-90d1-376cf0f89973",
   "metadata": {},
   "outputs": [],
   "source": [
    "chr22_pgen.Pheno_New_final_Diabetes_Dem_remove_PD_VD_FTD_Hu_CJD_Vs_Diabetes_1.ADRD.glm.logistic.hybrid"
   ]
  },
  {
   "cell_type": "code",
   "execution_count": 1,
   "id": "9708eb83-a850-408e-a113-29796f254a8f",
   "metadata": {
    "tags": [],
    "trusted": true
   },
   "outputs": [
    {
     "name": "stdout",
     "output_type": "stream",
     "text": [
      "\u001b[2K[===========================================================>] Completed 81,621,483 of 81,621,483 bytes (100%) /opt/notebooks/chr1_pgen.Pheno_New_final_HT_Dem_remove_PD_VD_FTD_Hu_CJD_Vs_HT_New_sbp.txt.ADRD.glm.logistic.hybridd\n"
     ]
    }
   ],
   "source": [
    "!dx download chr1_pgen.Pheno_New_final_HT_Dem_remove_PD_VD_FTD_Hu_CJD_Vs_HT_New_sbp.txt.ADRD.glm.logistic.hybrid"
   ]
  },
  {
   "cell_type": "code",
   "execution_count": 2,
   "id": "297ef5ac-b4db-4a3c-bee9-5ac57b315f0a",
   "metadata": {
    "tags": [],
    "trusted": true
   },
   "outputs": [
    {
     "name": "stdout",
     "output_type": "stream",
     "text": [
      "\u001b[2K[===========================================================>] Completed 88,667,055 of 88,667,055 bytes (100%) /opt/notebooks/chr2_pgen.Pheno_New_final_HT_Dem_remove_PD_VD_FTD_Hu_CJD_Vs_HT_New_sbp.txt.ADRD.glm.logistic.hybridd\n"
     ]
    }
   ],
   "source": [
    "!dx download chr2_pgen.Pheno_New_final_HT_Dem_remove_PD_VD_FTD_Hu_CJD_Vs_HT_New_sbp.txt.ADRD.glm.logistic.hybrid"
   ]
  },
  {
   "cell_type": "code",
   "execution_count": 3,
   "id": "272d63b7-375d-4845-b19f-18515c2bce23",
   "metadata": {
    "tags": [],
    "trusted": true
   },
   "outputs": [
    {
     "name": "stdout",
     "output_type": "stream",
     "text": [
      "\u001b[2K[===========================================================>] Completed 75,177,881 of 75,177,881 bytes (100%) /opt/notebooks/chr3_pgen.Pheno_New_final_HT_Dem_remove_PD_VD_FTD_Hu_CJD_Vs_HT_New_sbp.txt.ADRD.glm.logistic.hybridd\n"
     ]
    }
   ],
   "source": [
    "!dx download chr3_pgen.Pheno_New_final_HT_Dem_remove_PD_VD_FTD_Hu_CJD_Vs_HT_New_sbp.txt.ADRD.glm.logistic.hybrid"
   ]
  },
  {
   "cell_type": "code",
   "execution_count": 4,
   "id": "1f46ac28-ac90-4a6e-a26d-09bef95de325",
   "metadata": {
    "tags": [],
    "trusted": true
   },
   "outputs": [
    {
     "name": "stdout",
     "output_type": "stream",
     "text": [
      "\u001b[2K[===========================================================>] Completed 77,504,457 of 77,504,457 bytes (100%) /opt/notebooks/chr4_pgen.Pheno_New_final_HT_Dem_remove_PD_VD_FTD_Hu_CJD_Vs_HT_New_sbp.txt.ADRD.glm.logistic.hybridd\n"
     ]
    }
   ],
   "source": [
    "!dx download chr4_pgen.Pheno_New_final_HT_Dem_remove_PD_VD_FTD_Hu_CJD_Vs_HT_New_sbp.txt.ADRD.glm.logistic.hybrid"
   ]
  },
  {
   "cell_type": "code",
   "execution_count": 5,
   "id": "2dcc7925-8032-4c5f-b7c1-017121812ce9",
   "metadata": {
    "tags": [],
    "trusted": true
   },
   "outputs": [
    {
     "name": "stdout",
     "output_type": "stream",
     "text": [
      "\u001b[2K[===========================================================>] Completed 68,795,007 of 68,795,007 bytes (100%) /opt/notebooks/chr5_pgen.Pheno_New_final_HT_Dem_remove_PD_VD_FTD_Hu_CJD_Vs_HT_New_sbp.txt.ADRD.glm.logistic.hybridd\n"
     ]
    }
   ],
   "source": [
    "!dx download chr5_pgen.Pheno_New_final_HT_Dem_remove_PD_VD_FTD_Hu_CJD_Vs_HT_New_sbp.txt.ADRD.glm.logistic.hybrid"
   ]
  },
  {
   "cell_type": "code",
   "execution_count": 6,
   "id": "0a00e329-e89f-4cf0-8b2e-af65b7e39536",
   "metadata": {
    "tags": [],
    "trusted": true
   },
   "outputs": [
    {
     "name": "stdout",
     "output_type": "stream",
     "text": [
      "\u001b[2K[===========================================================>] Completed 70,451,477 of 70,451,477 bytes (100%) /opt/notebooks/chr6_pgen.Pheno_New_final_HT_Dem_remove_PD_VD_FTD_Hu_CJD_Vs_HT_New_sbp.txt.ADRD.glm.logistic.hybridd\n"
     ]
    }
   ],
   "source": [
    "!dx download chr6_pgen.Pheno_New_final_HT_Dem_remove_PD_VD_FTD_Hu_CJD_Vs_HT_New_sbp.txt.ADRD.glm.logistic.hybrid"
   ]
  },
  {
   "cell_type": "code",
   "execution_count": 7,
   "id": "5e39da97-a917-4b17-a957-d2301a11a76b",
   "metadata": {
    "tags": [],
    "trusted": true
   },
   "outputs": [
    {
     "name": "stdout",
     "output_type": "stream",
     "text": [
      "\u001b[2K[===========================================================>] Completed 61,811,486 of 61,811,486 bytes (100%) /opt/notebooks/chr7_pgen.Pheno_New_final_HT_Dem_remove_PD_VD_FTD_Hu_CJD_Vs_HT_New_sbp.txt.ADRD.glm.logistic.hybridd\n"
     ]
    }
   ],
   "source": [
    "!dx download chr7_pgen.Pheno_New_final_HT_Dem_remove_PD_VD_FTD_Hu_CJD_Vs_HT_New_sbp.txt.ADRD.glm.logistic.hybrid"
   ]
  },
  {
   "cell_type": "code",
   "execution_count": 8,
   "id": "30d7d330-9afd-4d27-8e60-dd59b3e4bd24",
   "metadata": {
    "tags": [],
    "trusted": true
   },
   "outputs": [
    {
     "name": "stdout",
     "output_type": "stream",
     "text": [
      "\u001b[2K[===========================================================>] Completed 58,000,120 of 58,000,120 bytes (100%) /opt/notebooks/chr8_pgen.Pheno_New_final_HT_Dem_remove_PD_VD_FTD_Hu_CJD_Vs_HT_New_sbp.txt.ADRD.glm.logistic.hybridd\n"
     ]
    }
   ],
   "source": [
    "!dx download chr8_pgen.Pheno_New_final_HT_Dem_remove_PD_VD_FTD_Hu_CJD_Vs_HT_New_sbp.txt.ADRD.glm.logistic.hybrid"
   ]
  },
  {
   "cell_type": "code",
   "execution_count": 9,
   "id": "0299bca6-616b-4e89-8bba-813e188ee04a",
   "metadata": {
    "tags": [],
    "trusted": true
   },
   "outputs": [
    {
     "name": "stdout",
     "output_type": "stream",
     "text": [
      "\u001b[2K[===========================================================>] Completed 45,228,068 of 45,228,068 bytes (100%) /opt/notebooks/chr9_pgen.Pheno_New_final_HT_Dem_remove_PD_VD_FTD_Hu_CJD_Vs_HT_New_sbp.txt.ADRD.glm.logistic.hybridd\n"
     ]
    }
   ],
   "source": [
    "!dx download chr9_pgen.Pheno_New_final_HT_Dem_remove_PD_VD_FTD_Hu_CJD_Vs_HT_New_sbp.txt.ADRD.glm.logistic.hybrid"
   ]
  },
  {
   "cell_type": "code",
   "execution_count": 10,
   "id": "1fd46d5e-144d-4def-a681-137ebd3d5880",
   "metadata": {
    "tags": [],
    "trusted": true
   },
   "outputs": [
    {
     "name": "stdout",
     "output_type": "stream",
     "text": [
      "\u001b[2K[===========================================================>] Completed 53,791,753 of 53,791,753 bytes (100%) /opt/notebooks/chr10_pgen.Pheno_New_final_HT_Dem_remove_PD_VD_FTD_Hu_CJD_Vs_HT_New_sbp.txt.ADRD.glm.logistic.hybridd\n"
     ]
    }
   ],
   "source": [
    "!dx download chr10_pgen.Pheno_New_final_HT_Dem_remove_PD_VD_FTD_Hu_CJD_Vs_HT_New_sbp.txt.ADRD.glm.logistic.hybrid"
   ]
  },
  {
   "cell_type": "code",
   "execution_count": 11,
   "id": "4051dccd-eef2-43e7-9e63-ca4b6640af5f",
   "metadata": {
    "tags": [],
    "trusted": true
   },
   "outputs": [
    {
     "name": "stdout",
     "output_type": "stream",
     "text": [
      "\u001b[2K[===========================================================>] Completed 53,197,185 of 53,197,185 bytes (100%) /opt/notebooks/chr11_pgen.Pheno_New_final_HT_Dem_remove_PD_VD_FTD_Hu_CJD_Vs_HT_New_sbp.txt.ADRD.glm.logistic.hybridd\n"
     ]
    }
   ],
   "source": [
    "!dx download chr11_pgen.Pheno_New_final_HT_Dem_remove_PD_VD_FTD_Hu_CJD_Vs_HT_New_sbp.txt.ADRD.glm.logistic.hybrid"
   ]
  },
  {
   "cell_type": "code",
   "execution_count": 12,
   "id": "4ccab29a-e849-400f-aa02-f01b355b8112",
   "metadata": {
    "tags": [],
    "trusted": true
   },
   "outputs": [
    {
     "name": "stdout",
     "output_type": "stream",
     "text": [
      "\u001b[2K[===========================================================>] Completed 51,575,826 of 51,575,826 bytes (100%) /opt/notebooks/chr12_pgen.Pheno_New_final_HT_Dem_remove_PD_VD_FTD_Hu_CJD_Vs_HT_New_sbp.txt.ADRD.glm.logistic.hybridd\n"
     ]
    }
   ],
   "source": [
    "!dx download chr12_pgen.Pheno_New_final_HT_Dem_remove_PD_VD_FTD_Hu_CJD_Vs_HT_New_sbp.txt.ADRD.glm.logistic.hybrid"
   ]
  },
  {
   "cell_type": "code",
   "execution_count": 13,
   "id": "fe5e6e11-aa5b-40f4-b2f9-3c7f113907eb",
   "metadata": {
    "tags": [],
    "trusted": true
   },
   "outputs": [
    {
     "name": "stdout",
     "output_type": "stream",
     "text": [
      "\u001b[2K[===========================================================>] Completed 39,957,328 of 39,957,328 bytes (100%) /opt/notebooks/chr13_pgen.Pheno_New_final_HT_Dem_remove_PD_VD_FTD_Hu_CJD_Vs_HT_New_sbp.txt.ADRD.glm.logistic.hybridd\n"
     ]
    }
   ],
   "source": [
    "!dx download chr13_pgen.Pheno_New_final_HT_Dem_remove_PD_VD_FTD_Hu_CJD_Vs_HT_New_sbp.txt.ADRD.glm.logistic.hybrid"
   ]
  },
  {
   "cell_type": "code",
   "execution_count": 14,
   "id": "7dd9dd3e-279f-4077-a0a8-8f587c301ffe",
   "metadata": {
    "tags": [],
    "trusted": true
   },
   "outputs": [
    {
     "name": "stdout",
     "output_type": "stream",
     "text": [
      "\u001b[2K[===========================================================>] Completed 34,811,752 of 34,811,752 bytes (100%) /opt/notebooks/chr14_pgen.Pheno_New_final_HT_Dem_remove_PD_VD_FTD_Hu_CJD_Vs_HT_New_sbp.txt.ADRD.glm.logistic.hybridd\n"
     ]
    }
   ],
   "source": [
    "!dx download chr14_pgen.Pheno_New_final_HT_Dem_remove_PD_VD_FTD_Hu_CJD_Vs_HT_New_sbp.txt.ADRD.glm.logistic.hybrid"
   ]
  },
  {
   "cell_type": "code",
   "execution_count": 15,
   "id": "c6678691-25e5-4a60-aabc-c2c5b6cc98a5",
   "metadata": {
    "tags": [],
    "trusted": true
   },
   "outputs": [
    {
     "name": "stdout",
     "output_type": "stream",
     "text": [
      "\u001b[2K[===========================================================>] Completed 29,802,413 of 29,802,413 bytes (100%) /opt/notebooks/chr15_pgen.Pheno_New_final_HT_Dem_remove_PD_VD_FTD_Hu_CJD_Vs_HT_New_sbp.txt.ADRD.glm.logistic.hybridd\n"
     ]
    }
   ],
   "source": [
    "!dx download chr15_pgen.Pheno_New_final_HT_Dem_remove_PD_VD_FTD_Hu_CJD_Vs_HT_New_sbp.txt.ADRD.glm.logistic.hybrid"
   ]
  },
  {
   "cell_type": "code",
   "execution_count": 16,
   "id": "faeb3de4-926a-40f7-964e-4c99187c1af5",
   "metadata": {
    "tags": [],
    "trusted": true
   },
   "outputs": [
    {
     "name": "stdout",
     "output_type": "stream",
     "text": [
      "\u001b[2K[===========================================================>] Completed 32,093,028 of 32,093,028 bytes (100%) /opt/notebooks/chr16_pgen.Pheno_New_final_HT_Dem_remove_PD_VD_FTD_Hu_CJD_Vs_HT_New_sbp.txt.ADRD.glm.logistic.hybridd\n"
     ]
    }
   ],
   "source": [
    "!dx download chr16_pgen.Pheno_New_final_HT_Dem_remove_PD_VD_FTD_Hu_CJD_Vs_HT_New_sbp.txt.ADRD.glm.logistic.hybrid"
   ]
  },
  {
   "cell_type": "code",
   "execution_count": 17,
   "id": "aebd876c-c13b-4130-ac58-969512546b67",
   "metadata": {
    "tags": [],
    "trusted": true
   },
   "outputs": [
    {
     "name": "stdout",
     "output_type": "stream",
     "text": [
      "\u001b[2K[===========================================================>] Completed 27,784,750 of 27,784,750 bytes (100%) /opt/notebooks/chr17_pgen.Pheno_New_final_HT_Dem_remove_PD_VD_FTD_Hu_CJD_Vs_HT_New_sbp.txt.ADRD.glm.logistic.hybridd\n"
     ]
    }
   ],
   "source": [
    "!dx download chr17_pgen.Pheno_New_final_HT_Dem_remove_PD_VD_FTD_Hu_CJD_Vs_HT_New_sbp.txt.ADRD.glm.logistic.hybrid"
   ]
  },
  {
   "cell_type": "code",
   "execution_count": 18,
   "id": "d26b91d2-470a-4514-9c13-6f2440c472eb",
   "metadata": {
    "tags": [],
    "trusted": true
   },
   "outputs": [
    {
     "name": "stdout",
     "output_type": "stream",
     "text": [
      "\u001b[2K[===========================================================>] Completed 30,496,005 of 30,496,005 bytes (100%) /opt/notebooks/chr18_pgen.Pheno_New_final_HT_Dem_remove_PD_VD_FTD_Hu_CJD_Vs_HT_New_sbp.txt.ADRD.glm.logistic.hybridd\n"
     ]
    }
   ],
   "source": [
    "!dx download chr18_pgen.Pheno_New_final_HT_Dem_remove_PD_VD_FTD_Hu_CJD_Vs_HT_New_sbp.txt.ADRD.glm.logistic.hybrid"
   ]
  },
  {
   "cell_type": "code",
   "execution_count": 19,
   "id": "2bed41ea-2260-410c-849a-52de25dd5f89",
   "metadata": {
    "tags": [],
    "trusted": true
   },
   "outputs": [
    {
     "name": "stdout",
     "output_type": "stream",
     "text": [
      "\u001b[2K[===========================================================>] Completed 23,682,870 of 23,682,870 bytes (100%) /opt/notebooks/chr19_pgen.Pheno_New_final_HT_Dem_remove_PD_VD_FTD_Hu_CJD_Vs_HT_New_sbp.txt.ADRD.glm.logistic.hybridd\n"
     ]
    }
   ],
   "source": [
    "!dx download chr19_pgen.Pheno_New_final_HT_Dem_remove_PD_VD_FTD_Hu_CJD_Vs_HT_New_sbp.txt.ADRD.glm.logistic.hybrid"
   ]
  },
  {
   "cell_type": "code",
   "execution_count": 20,
   "id": "f4cad6d7-ec5f-4e90-8f21-dc4677f0952b",
   "metadata": {
    "tags": [],
    "trusted": true
   },
   "outputs": [
    {
     "name": "stdout",
     "output_type": "stream",
     "text": [
      "\u001b[2K[===========================================================>] Completed 23,487,539 of 23,487,539 bytes (100%) /opt/notebooks/chr20_pgen.Pheno_New_final_HT_Dem_remove_PD_VD_FTD_Hu_CJD_Vs_HT_New_sbp.txt.ADRD.glm.logistic.hybridd\n"
     ]
    }
   ],
   "source": [
    "!dx download chr20_pgen.Pheno_New_final_HT_Dem_remove_PD_VD_FTD_Hu_CJD_Vs_HT_New_sbp.txt.ADRD.glm.logistic.hybrid"
   ]
  },
  {
   "cell_type": "code",
   "execution_count": 21,
   "id": "935726f4-5b8f-417e-99c3-8602771ca4c8",
   "metadata": {
    "tags": [],
    "trusted": true
   },
   "outputs": [
    {
     "name": "stdout",
     "output_type": "stream",
     "text": [
      "\u001b[2K[===========================================================>] Completed 14,348,219 of 14,348,219 bytes (100%) /opt/notebooks/chr21_pgen.Pheno_New_final_HT_Dem_remove_PD_VD_FTD_Hu_CJD_Vs_HT_New_sbp.txt.ADRD.glm.logistic.hybridd\n"
     ]
    }
   ],
   "source": [
    "!dx download chr21_pgen.Pheno_New_final_HT_Dem_remove_PD_VD_FTD_Hu_CJD_Vs_HT_New_sbp.txt.ADRD.glm.logistic.hybrid"
   ]
  },
  {
   "cell_type": "code",
   "execution_count": 22,
   "id": "ffd34990-7323-4c6b-a907-be9302c56d0e",
   "metadata": {
    "tags": [],
    "trusted": true
   },
   "outputs": [
    {
     "name": "stdout",
     "output_type": "stream",
     "text": [
      "\u001b[2K[===========================================================>] Completed 14,134,074 of 14,134,074 bytes (100%) /opt/notebooks/chr22_pgen.Pheno_New_final_HT_Dem_remove_PD_VD_FTD_Hu_CJD_Vs_HT_New_sbp.txt.ADRD.glm.logistic.hybridd\n"
     ]
    }
   ],
   "source": [
    "!dx download chr22_pgen.Pheno_New_final_HT_Dem_remove_PD_VD_FTD_Hu_CJD_Vs_HT_New_sbp.txt.ADRD.glm.logistic.hybrid"
   ]
  },
  {
   "cell_type": "code",
   "execution_count": 33,
   "id": "6c1be3c4-1e33-4f5c-b7a8-3370ec32bd04",
   "metadata": {
    "tags": [],
    "trusted": true
   },
   "outputs": [
    {
     "name": "stdout",
     "output_type": "stream",
     "text": [
      "usage: dx download [-h] [--env-help] [-o OUTPUT] [-f] [-r] [-a]\n",
      "                   [--no-progress] [--lightweight]\n",
      "                   [--symlink-max-tries SYMLINK_MAX_TRIES] [--unicode]\n",
      "                   path [path ...]\n",
      "\n",
      "Download the contents of a file object or multiple objects. Use \"-o -\" to\n",
      "direct the output to stdout.\n",
      "\n",
      "positional arguments:\n",
      "  path                  Data object ID or name, or folder to download\n",
      "\n",
      "optional arguments:\n",
      "  -h, --help            show this help message and exit\n",
      "  --env-help            Display help message for overriding environment\n",
      "                        variables\n",
      "  -o OUTPUT, --output OUTPUT\n",
      "                        Local filename or directory to be used (\"-\" indicates\n",
      "                        stdout output); if not supplied or a directory is\n",
      "                        given, the object's name on the platform will be used,\n",
      "                        along with any applicable extensions\n",
      "  -f, --overwrite       Resume an interupted download if the local and remote\n",
      "                        file signatures match. If the signatures do not match\n",
      "                        the local file will be overwritten.\n",
      "  -r, --recursive       Download folders recursively\n",
      "  -a, --all             If multiple objects match the input, download all of\n",
      "                        them\n",
      "  --no-progress         Do not show a progress bar\n",
      "  --lightweight         Skip some validation steps to make fewer API calls\n",
      "  --symlink-max-tries SYMLINK_MAX_TRIES\n",
      "                        Set maximum number of tries for downloading symlinked\n",
      "                        files using aria2c\n",
      "  --unicode             Display the characters as text/unicode when writing to\n",
      "                        stdout\n",
      "\n",
      "dx download: error: the following arguments are required: path\n"
     ]
    }
   ],
   "source": [
    "!dx download"
   ]
  },
  {
   "cell_type": "code",
   "execution_count": 34,
   "id": "1720a6d7-e348-4b5a-9767-c82e91121f6d",
   "metadata": {
    "tags": [],
    "trusted": true
   },
   "outputs": [
    {
     "name": "stderr",
     "output_type": "stream",
     "text": [
      "head: cannot open 'chr20_pgen.HT+DEM_VS_HT_TOWNSEND.Pheno.glm.logistic.hybrid' for reading: No such file or directory\n"
     ]
    },
    {
     "ename": "CalledProcessError",
     "evalue": "Command 'b'head chr20_pgen.HT+DEM_VS_HT_TOWNSEND.Pheno.glm.logistic.hybrid\\n'' returned non-zero exit status 1.",
     "output_type": "error",
     "traceback": [
      "\u001b[0;31m---------------------------------------------------------------------------\u001b[0m",
      "\u001b[0;31mCalledProcessError\u001b[0m                        Traceback (most recent call last)",
      "Cell \u001b[0;32mIn[34], line 1\u001b[0m\n\u001b[0;32m----> 1\u001b[0m \u001b[43mget_ipython\u001b[49m\u001b[43m(\u001b[49m\u001b[43m)\u001b[49m\u001b[38;5;241;43m.\u001b[39;49m\u001b[43mrun_cell_magic\u001b[49m\u001b[43m(\u001b[49m\u001b[38;5;124;43m'\u001b[39;49m\u001b[38;5;124;43mbash\u001b[39;49m\u001b[38;5;124;43m'\u001b[39;49m\u001b[43m,\u001b[49m\u001b[43m \u001b[49m\u001b[38;5;124;43m'\u001b[39;49m\u001b[38;5;124;43m'\u001b[39;49m\u001b[43m,\u001b[49m\u001b[43m \u001b[49m\u001b[38;5;124;43m'\u001b[39;49m\u001b[38;5;124;43mhead chr20_pgen.HT+DEM_VS_HT_TOWNSEND.Pheno.glm.logistic.hybrid\u001b[39;49m\u001b[38;5;130;43;01m\\n\u001b[39;49;00m\u001b[38;5;124;43m'\u001b[39;49m\u001b[43m)\u001b[49m\n",
      "File \u001b[0;32m/opt/conda/lib/python3.9/site-packages/IPython/core/interactiveshell.py:2517\u001b[0m, in \u001b[0;36mInteractiveShell.run_cell_magic\u001b[0;34m(self, magic_name, line, cell)\u001b[0m\n\u001b[1;32m   2515\u001b[0m \u001b[38;5;28;01mwith\u001b[39;00m \u001b[38;5;28mself\u001b[39m\u001b[38;5;241m.\u001b[39mbuiltin_trap:\n\u001b[1;32m   2516\u001b[0m     args \u001b[38;5;241m=\u001b[39m (magic_arg_s, cell)\n\u001b[0;32m-> 2517\u001b[0m     result \u001b[38;5;241m=\u001b[39m \u001b[43mfn\u001b[49m\u001b[43m(\u001b[49m\u001b[38;5;241;43m*\u001b[39;49m\u001b[43margs\u001b[49m\u001b[43m,\u001b[49m\u001b[43m \u001b[49m\u001b[38;5;241;43m*\u001b[39;49m\u001b[38;5;241;43m*\u001b[39;49m\u001b[43mkwargs\u001b[49m\u001b[43m)\u001b[49m\n\u001b[1;32m   2519\u001b[0m \u001b[38;5;66;03m# The code below prevents the output from being displayed\u001b[39;00m\n\u001b[1;32m   2520\u001b[0m \u001b[38;5;66;03m# when using magics with decorator @output_can_be_silenced\u001b[39;00m\n\u001b[1;32m   2521\u001b[0m \u001b[38;5;66;03m# when the last Python token in the expression is a ';'.\u001b[39;00m\n\u001b[1;32m   2522\u001b[0m \u001b[38;5;28;01mif\u001b[39;00m \u001b[38;5;28mgetattr\u001b[39m(fn, magic\u001b[38;5;241m.\u001b[39mMAGIC_OUTPUT_CAN_BE_SILENCED, \u001b[38;5;28;01mFalse\u001b[39;00m):\n",
      "File \u001b[0;32m/opt/conda/lib/python3.9/site-packages/IPython/core/magics/script.py:154\u001b[0m, in \u001b[0;36mScriptMagics._make_script_magic.<locals>.named_script_magic\u001b[0;34m(line, cell)\u001b[0m\n\u001b[1;32m    152\u001b[0m \u001b[38;5;28;01melse\u001b[39;00m:\n\u001b[1;32m    153\u001b[0m     line \u001b[38;5;241m=\u001b[39m script\n\u001b[0;32m--> 154\u001b[0m \u001b[38;5;28;01mreturn\u001b[39;00m \u001b[38;5;28;43mself\u001b[39;49m\u001b[38;5;241;43m.\u001b[39;49m\u001b[43mshebang\u001b[49m\u001b[43m(\u001b[49m\u001b[43mline\u001b[49m\u001b[43m,\u001b[49m\u001b[43m \u001b[49m\u001b[43mcell\u001b[49m\u001b[43m)\u001b[49m\n",
      "File \u001b[0;32m/opt/conda/lib/python3.9/site-packages/IPython/core/magics/script.py:314\u001b[0m, in \u001b[0;36mScriptMagics.shebang\u001b[0;34m(self, line, cell)\u001b[0m\n\u001b[1;32m    309\u001b[0m \u001b[38;5;28;01mif\u001b[39;00m args\u001b[38;5;241m.\u001b[39mraise_error \u001b[38;5;129;01mand\u001b[39;00m p\u001b[38;5;241m.\u001b[39mreturncode \u001b[38;5;241m!=\u001b[39m \u001b[38;5;241m0\u001b[39m:\n\u001b[1;32m    310\u001b[0m     \u001b[38;5;66;03m# If we get here and p.returncode is still None, we must have\u001b[39;00m\n\u001b[1;32m    311\u001b[0m     \u001b[38;5;66;03m# killed it but not yet seen its return code. We don't wait for it,\u001b[39;00m\n\u001b[1;32m    312\u001b[0m     \u001b[38;5;66;03m# in case it's stuck in uninterruptible sleep. -9 = SIGKILL\u001b[39;00m\n\u001b[1;32m    313\u001b[0m     rc \u001b[38;5;241m=\u001b[39m p\u001b[38;5;241m.\u001b[39mreturncode \u001b[38;5;129;01mor\u001b[39;00m \u001b[38;5;241m-\u001b[39m\u001b[38;5;241m9\u001b[39m\n\u001b[0;32m--> 314\u001b[0m     \u001b[38;5;28;01mraise\u001b[39;00m CalledProcessError(rc, cell)\n",
      "\u001b[0;31mCalledProcessError\u001b[0m: Command 'b'head chr20_pgen.HT+DEM_VS_HT_TOWNSEND.Pheno.glm.logistic.hybrid\\n'' returned non-zero exit status 1."
     ]
    }
   ],
   "source": [
    "%%bash\n",
    "head chr20_pgen.HT+DEM_VS_HT_TOWNSEND.Pheno.glm.logistic.hybrid"
   ]
  },
  {
   "cell_type": "code",
   "execution_count": 23,
   "id": "18a58d4c-10d8-408e-9604-8c49d0233e08",
   "metadata": {
    "tags": [],
    "trusted": true
   },
   "outputs": [
    {
     "name": "stdout",
     "output_type": "stream",
     "text": [
      "1\n",
      "2\n",
      "3\n",
      "4\n",
      "5\n",
      "6\n",
      "7\n",
      "8\n",
      "9\n",
      "10\n",
      "11\n",
      "12\n",
      "13\n",
      "14\n",
      "15\n",
      "16\n",
      "17\n",
      "18\n",
      "19\n",
      "20\n",
      "21\n",
      "22\n"
     ]
    }
   ],
   "source": [
    "import pandas as pd\n",
    "for CHR in range(1,23):\n",
    "    print(CHR)\n",
    "    AGE_SEX_MATCH_TEMP = pd.read_csv(f'chr{CHR}_pgen.Pheno_New_final_HT_Dem_remove_PD_VD_FTD_Hu_CJD_Vs_HT_New_sbp.txt.ADRD.glm.logistic.hybrid',\n",
    "        delim_whitespace=True\n",
    "    )\n",
    "    if CHR==1:\n",
    "        AGE_SEX_MATCH = AGE_SEX_MATCH_TEMP\n",
    "    else:\n",
    "        AGE_SEX_MATCH = pd.concat([AGE_SEX_MATCH,AGE_SEX_MATCH_TEMP])"
   ]
  },
  {
   "cell_type": "code",
   "execution_count": 142,
   "id": "7fdcbf10-8092-400f-9a3f-c6ed38cad9df",
   "metadata": {
    "tags": [],
    "trusted": true
   },
   "outputs": [
    {
     "name": "stdout",
     "output_type": "stream",
     "text": [
      "#CHROM\tPOS\tID\tREF\tALT\tA1\tA1_CASE_CT\tA1_CTRL_CT\tCASE_ALLELE_CT\tCTRL_ALLELE_CT\tA1_FREQ\tA1_CASE_FREQ\tA1_CTRL_FREQ\tFIRTH?\tBETA\tSE\tP\tERRCODE\n",
      "19\t119135\t19:119135:C:G\tC\tG\tG\t138.75\t2153.68\t11944\t188162\t0.0114561\t0.0116167\t0.0114459\tN\t0.0294587\t0.135091\t0.827378\t.\n",
      "19\t125962\t19:125962:T:A\tT\tA\tA\t141.168\t2218.75\t11944\t188162\t0.0117933\t0.0118192\t0.0117917\tN\t0.00873895\t0.134434\t0.94817\t.\n",
      "19\t133816\t19:133816:GTTCTC:G\tGTTCTC\tG\tG\t181.187\t2684.76\t11944\t188162\t0.0143222\t0.0151697\t0.0142684\tN\t0.137173\t0.112182\t0.221416\t.\n",
      "19\t140292\t19:140292:C:T\tC\tT\tT\t126.385\t2043.92\t11944\t188162\t0.0108458\t0.0105815\t0.0108626\tN\t-0.0638601\t0.145922\t0.661653\t.\n",
      "19\t225487\t19:225487:C:T\tC\tT\tT\t129.598\t2225.85\t11944\t188162\t0.011771\t0.0108504\t0.0118295\tN\t-0.102351\t0.0961457\t0.287085\t.\n",
      "19\t230429\t19:230429:C:T\tC\tT\tT\t176.327\t2733.76\t11944\t188162\t0.0145427\t0.0147628\t0.0145288\tN\t0.0256584\t0.0935784\t0.783938\t.\n",
      "19\t231076\t19:231076:TAAAAAG:T\tTAAAAAG\tT\tT\t494.923\t7670.91\t11944\t188162\t0.0408075\t0.0414369\t0.0407676\tN\t0.0188984\t0.0504384\t0.707897\t.\n",
      "19\t236454\t19:236454:G:A\tG\tA\tA\t119.826\t1893.72\t11944\t188162\t0.0100624\t0.0100323\t0.0100643\tN\t-0.00630741\t0.146846\t0.965739\t.\n",
      "19\t240554\t19:240554:C:T\tC\tT\tT\t314.895\t5113.3\t11944\t188162\t0.0271266\t0.0263643\t0.027175\tN\t-0.0365032\t0.0616956\t0.554075\t.\n"
     ]
    }
   ],
   "source": [
    "%%bash\n",
    "head chr19_pgen.HT+DEM_VS_HT_TOWNSEND.Pheno.glm.logistic.hybrid"
   ]
  },
  {
   "cell_type": "code",
   "execution_count": 24,
   "id": "07ba7b7a-4323-449e-aab0-596e93b650e0",
   "metadata": {
    "tags": [],
    "trusted": true
   },
   "outputs": [],
   "source": [
    "AGE_SEX_MATCH.to_csv(\"HT_Dem_remove_PD_VD_FTD_Hu_CJD_Vs_HT_New_sbp.txt\", sep='\\t', index=False)"
   ]
  },
  {
   "cell_type": "code",
   "execution_count": 25,
   "id": "7a3f9b31-35cc-4d56-8708-6ff896e18e3f",
   "metadata": {
    "tags": [],
    "trusted": true
   },
   "outputs": [
    {
     "name": "stdout",
     "output_type": "stream",
     "text": [
      "[===========================================================>] Uploaded 1,057,769,536 of 1,057,769,536 bytes (100%) HT_Dem_remove_PD_VD_FTD_Hu_CJD_Vs_HT_New_sbp.txt\n",
      "ID                                file-GxgGvk0JbP2VG03037f9Q24Q\n",
      "Class                             file\n",
      "Project                           project-GkYf2zQJbP2Q3vFgf14863Gf\n",
      "Folder                            /\n",
      "Name                              HT_Dem_remove_PD_VD_FTD_Hu_CJD_Vs_HT_New_sbp.txt\n",
      "State                             \u001b[33mclosing\u001b[0m\n",
      "Visibility                        visible\n",
      "Types                             -\n",
      "Properties                        -\n",
      "Tags                              -\n",
      "Outgoing links                    -\n",
      "Created                           Fri Dec 27 15:57:24 2024\n",
      "Created by                        vidhu\n",
      " via the job                      job-GxgF3f0JbP2pzzZF6vYjjb0v\n",
      "Last modified                     Fri Dec 27 15:57:26 2024\n",
      "Media type                        \n",
      "archivalState                     \"live\"\n",
      "cloudAccount                      \"cloudaccount-dnanexus\"\n"
     ]
    }
   ],
   "source": [
    "!dx upload HT_Dem_remove_PD_VD_FTD_Hu_CJD_Vs_HT_New_sbp.txt"
   ]
  },
  {
   "cell_type": "code",
   "execution_count": 38,
   "id": "f47c21ef-b302-4ef0-a59c-f5c7e004016c",
   "metadata": {
    "tags": [],
    "trusted": true
   },
   "outputs": [
    {
     "ename": "FileNotFoundError",
     "evalue": "[Errno 2] No such file or directory: 'chr1_pgen.psam'",
     "output_type": "error",
     "traceback": [
      "\u001b[0;31m---------------------------------------------------------------------------\u001b[0m",
      "\u001b[0;31mFileNotFoundError\u001b[0m                         Traceback (most recent call last)",
      "Cell \u001b[0;32mIn[38], line 12\u001b[0m\n\u001b[1;32m      9\u001b[0m file_name \u001b[38;5;241m=\u001b[39m \u001b[38;5;124mf\u001b[39m\u001b[38;5;124m'\u001b[39m\u001b[38;5;124mchr\u001b[39m\u001b[38;5;132;01m{\u001b[39;00mi\u001b[38;5;132;01m}\u001b[39;00m\u001b[38;5;124m_pgen.psam\u001b[39m\u001b[38;5;124m'\u001b[39m\n\u001b[1;32m     11\u001b[0m \u001b[38;5;66;03m# Read the .psam file into a DataFrame\u001b[39;00m\n\u001b[0;32m---> 12\u001b[0m df \u001b[38;5;241m=\u001b[39m \u001b[43mpd\u001b[49m\u001b[38;5;241;43m.\u001b[39;49m\u001b[43mread_csv\u001b[49m\u001b[43m(\u001b[49m\u001b[43mfile_name\u001b[49m\u001b[43m,\u001b[49m\u001b[43m \u001b[49m\u001b[43mdelim_whitespace\u001b[49m\u001b[38;5;241;43m=\u001b[39;49m\u001b[38;5;28;43;01mTrue\u001b[39;49;00m\u001b[43m)\u001b[49m\n\u001b[1;32m     14\u001b[0m \u001b[38;5;66;03m# Concatenate the current DataFrame with the accumulated DataFrame\u001b[39;00m\n\u001b[1;32m     15\u001b[0m concatenated_df \u001b[38;5;241m=\u001b[39m pd\u001b[38;5;241m.\u001b[39mconcat([concatenated_df, df], ignore_index\u001b[38;5;241m=\u001b[39m\u001b[38;5;28;01mTrue\u001b[39;00m)\n",
      "File \u001b[0;32m/opt/conda/lib/python3.9/site-packages/pandas/util/_decorators.py:211\u001b[0m, in \u001b[0;36mdeprecate_kwarg.<locals>._deprecate_kwarg.<locals>.wrapper\u001b[0;34m(*args, **kwargs)\u001b[0m\n\u001b[1;32m    209\u001b[0m     \u001b[38;5;28;01melse\u001b[39;00m:\n\u001b[1;32m    210\u001b[0m         kwargs[new_arg_name] \u001b[38;5;241m=\u001b[39m new_arg_value\n\u001b[0;32m--> 211\u001b[0m \u001b[38;5;28;01mreturn\u001b[39;00m \u001b[43mfunc\u001b[49m\u001b[43m(\u001b[49m\u001b[38;5;241;43m*\u001b[39;49m\u001b[43margs\u001b[49m\u001b[43m,\u001b[49m\u001b[43m \u001b[49m\u001b[38;5;241;43m*\u001b[39;49m\u001b[38;5;241;43m*\u001b[39;49m\u001b[43mkwargs\u001b[49m\u001b[43m)\u001b[49m\n",
      "File \u001b[0;32m/opt/conda/lib/python3.9/site-packages/pandas/util/_decorators.py:331\u001b[0m, in \u001b[0;36mdeprecate_nonkeyword_arguments.<locals>.decorate.<locals>.wrapper\u001b[0;34m(*args, **kwargs)\u001b[0m\n\u001b[1;32m    325\u001b[0m \u001b[38;5;28;01mif\u001b[39;00m \u001b[38;5;28mlen\u001b[39m(args) \u001b[38;5;241m>\u001b[39m num_allow_args:\n\u001b[1;32m    326\u001b[0m     warnings\u001b[38;5;241m.\u001b[39mwarn(\n\u001b[1;32m    327\u001b[0m         msg\u001b[38;5;241m.\u001b[39mformat(arguments\u001b[38;5;241m=\u001b[39m_format_argument_list(allow_args)),\n\u001b[1;32m    328\u001b[0m         \u001b[38;5;167;01mFutureWarning\u001b[39;00m,\n\u001b[1;32m    329\u001b[0m         stacklevel\u001b[38;5;241m=\u001b[39mfind_stack_level(),\n\u001b[1;32m    330\u001b[0m     )\n\u001b[0;32m--> 331\u001b[0m \u001b[38;5;28;01mreturn\u001b[39;00m \u001b[43mfunc\u001b[49m\u001b[43m(\u001b[49m\u001b[38;5;241;43m*\u001b[39;49m\u001b[43margs\u001b[49m\u001b[43m,\u001b[49m\u001b[43m \u001b[49m\u001b[38;5;241;43m*\u001b[39;49m\u001b[38;5;241;43m*\u001b[39;49m\u001b[43mkwargs\u001b[49m\u001b[43m)\u001b[49m\n",
      "File \u001b[0;32m/opt/conda/lib/python3.9/site-packages/pandas/io/parsers/readers.py:950\u001b[0m, in \u001b[0;36mread_csv\u001b[0;34m(filepath_or_buffer, sep, delimiter, header, names, index_col, usecols, squeeze, prefix, mangle_dupe_cols, dtype, engine, converters, true_values, false_values, skipinitialspace, skiprows, skipfooter, nrows, na_values, keep_default_na, na_filter, verbose, skip_blank_lines, parse_dates, infer_datetime_format, keep_date_col, date_parser, dayfirst, cache_dates, iterator, chunksize, compression, thousands, decimal, lineterminator, quotechar, quoting, doublequote, escapechar, comment, encoding, encoding_errors, dialect, error_bad_lines, warn_bad_lines, on_bad_lines, delim_whitespace, low_memory, memory_map, float_precision, storage_options)\u001b[0m\n\u001b[1;32m    935\u001b[0m kwds_defaults \u001b[38;5;241m=\u001b[39m _refine_defaults_read(\n\u001b[1;32m    936\u001b[0m     dialect,\n\u001b[1;32m    937\u001b[0m     delimiter,\n\u001b[0;32m   (...)\u001b[0m\n\u001b[1;32m    946\u001b[0m     defaults\u001b[38;5;241m=\u001b[39m{\u001b[38;5;124m\"\u001b[39m\u001b[38;5;124mdelimiter\u001b[39m\u001b[38;5;124m\"\u001b[39m: \u001b[38;5;124m\"\u001b[39m\u001b[38;5;124m,\u001b[39m\u001b[38;5;124m\"\u001b[39m},\n\u001b[1;32m    947\u001b[0m )\n\u001b[1;32m    948\u001b[0m kwds\u001b[38;5;241m.\u001b[39mupdate(kwds_defaults)\n\u001b[0;32m--> 950\u001b[0m \u001b[38;5;28;01mreturn\u001b[39;00m \u001b[43m_read\u001b[49m\u001b[43m(\u001b[49m\u001b[43mfilepath_or_buffer\u001b[49m\u001b[43m,\u001b[49m\u001b[43m \u001b[49m\u001b[43mkwds\u001b[49m\u001b[43m)\u001b[49m\n",
      "File \u001b[0;32m/opt/conda/lib/python3.9/site-packages/pandas/io/parsers/readers.py:605\u001b[0m, in \u001b[0;36m_read\u001b[0;34m(filepath_or_buffer, kwds)\u001b[0m\n\u001b[1;32m    602\u001b[0m _validate_names(kwds\u001b[38;5;241m.\u001b[39mget(\u001b[38;5;124m\"\u001b[39m\u001b[38;5;124mnames\u001b[39m\u001b[38;5;124m\"\u001b[39m, \u001b[38;5;28;01mNone\u001b[39;00m))\n\u001b[1;32m    604\u001b[0m \u001b[38;5;66;03m# Create the parser.\u001b[39;00m\n\u001b[0;32m--> 605\u001b[0m parser \u001b[38;5;241m=\u001b[39m \u001b[43mTextFileReader\u001b[49m\u001b[43m(\u001b[49m\u001b[43mfilepath_or_buffer\u001b[49m\u001b[43m,\u001b[49m\u001b[43m \u001b[49m\u001b[38;5;241;43m*\u001b[39;49m\u001b[38;5;241;43m*\u001b[39;49m\u001b[43mkwds\u001b[49m\u001b[43m)\u001b[49m\n\u001b[1;32m    607\u001b[0m \u001b[38;5;28;01mif\u001b[39;00m chunksize \u001b[38;5;129;01mor\u001b[39;00m iterator:\n\u001b[1;32m    608\u001b[0m     \u001b[38;5;28;01mreturn\u001b[39;00m parser\n",
      "File \u001b[0;32m/opt/conda/lib/python3.9/site-packages/pandas/io/parsers/readers.py:1442\u001b[0m, in \u001b[0;36mTextFileReader.__init__\u001b[0;34m(self, f, engine, **kwds)\u001b[0m\n\u001b[1;32m   1439\u001b[0m     \u001b[38;5;28mself\u001b[39m\u001b[38;5;241m.\u001b[39moptions[\u001b[38;5;124m\"\u001b[39m\u001b[38;5;124mhas_index_names\u001b[39m\u001b[38;5;124m\"\u001b[39m] \u001b[38;5;241m=\u001b[39m kwds[\u001b[38;5;124m\"\u001b[39m\u001b[38;5;124mhas_index_names\u001b[39m\u001b[38;5;124m\"\u001b[39m]\n\u001b[1;32m   1441\u001b[0m \u001b[38;5;28mself\u001b[39m\u001b[38;5;241m.\u001b[39mhandles: IOHandles \u001b[38;5;241m|\u001b[39m \u001b[38;5;28;01mNone\u001b[39;00m \u001b[38;5;241m=\u001b[39m \u001b[38;5;28;01mNone\u001b[39;00m\n\u001b[0;32m-> 1442\u001b[0m \u001b[38;5;28mself\u001b[39m\u001b[38;5;241m.\u001b[39m_engine \u001b[38;5;241m=\u001b[39m \u001b[38;5;28;43mself\u001b[39;49m\u001b[38;5;241;43m.\u001b[39;49m\u001b[43m_make_engine\u001b[49m\u001b[43m(\u001b[49m\u001b[43mf\u001b[49m\u001b[43m,\u001b[49m\u001b[43m \u001b[49m\u001b[38;5;28;43mself\u001b[39;49m\u001b[38;5;241;43m.\u001b[39;49m\u001b[43mengine\u001b[49m\u001b[43m)\u001b[49m\n",
      "File \u001b[0;32m/opt/conda/lib/python3.9/site-packages/pandas/io/parsers/readers.py:1735\u001b[0m, in \u001b[0;36mTextFileReader._make_engine\u001b[0;34m(self, f, engine)\u001b[0m\n\u001b[1;32m   1733\u001b[0m     \u001b[38;5;28;01mif\u001b[39;00m \u001b[38;5;124m\"\u001b[39m\u001b[38;5;124mb\u001b[39m\u001b[38;5;124m\"\u001b[39m \u001b[38;5;129;01mnot\u001b[39;00m \u001b[38;5;129;01min\u001b[39;00m mode:\n\u001b[1;32m   1734\u001b[0m         mode \u001b[38;5;241m+\u001b[39m\u001b[38;5;241m=\u001b[39m \u001b[38;5;124m\"\u001b[39m\u001b[38;5;124mb\u001b[39m\u001b[38;5;124m\"\u001b[39m\n\u001b[0;32m-> 1735\u001b[0m \u001b[38;5;28mself\u001b[39m\u001b[38;5;241m.\u001b[39mhandles \u001b[38;5;241m=\u001b[39m \u001b[43mget_handle\u001b[49m\u001b[43m(\u001b[49m\n\u001b[1;32m   1736\u001b[0m \u001b[43m    \u001b[49m\u001b[43mf\u001b[49m\u001b[43m,\u001b[49m\n\u001b[1;32m   1737\u001b[0m \u001b[43m    \u001b[49m\u001b[43mmode\u001b[49m\u001b[43m,\u001b[49m\n\u001b[1;32m   1738\u001b[0m \u001b[43m    \u001b[49m\u001b[43mencoding\u001b[49m\u001b[38;5;241;43m=\u001b[39;49m\u001b[38;5;28;43mself\u001b[39;49m\u001b[38;5;241;43m.\u001b[39;49m\u001b[43moptions\u001b[49m\u001b[38;5;241;43m.\u001b[39;49m\u001b[43mget\u001b[49m\u001b[43m(\u001b[49m\u001b[38;5;124;43m\"\u001b[39;49m\u001b[38;5;124;43mencoding\u001b[39;49m\u001b[38;5;124;43m\"\u001b[39;49m\u001b[43m,\u001b[49m\u001b[43m \u001b[49m\u001b[38;5;28;43;01mNone\u001b[39;49;00m\u001b[43m)\u001b[49m\u001b[43m,\u001b[49m\n\u001b[1;32m   1739\u001b[0m \u001b[43m    \u001b[49m\u001b[43mcompression\u001b[49m\u001b[38;5;241;43m=\u001b[39;49m\u001b[38;5;28;43mself\u001b[39;49m\u001b[38;5;241;43m.\u001b[39;49m\u001b[43moptions\u001b[49m\u001b[38;5;241;43m.\u001b[39;49m\u001b[43mget\u001b[49m\u001b[43m(\u001b[49m\u001b[38;5;124;43m\"\u001b[39;49m\u001b[38;5;124;43mcompression\u001b[39;49m\u001b[38;5;124;43m\"\u001b[39;49m\u001b[43m,\u001b[49m\u001b[43m \u001b[49m\u001b[38;5;28;43;01mNone\u001b[39;49;00m\u001b[43m)\u001b[49m\u001b[43m,\u001b[49m\n\u001b[1;32m   1740\u001b[0m \u001b[43m    \u001b[49m\u001b[43mmemory_map\u001b[49m\u001b[38;5;241;43m=\u001b[39;49m\u001b[38;5;28;43mself\u001b[39;49m\u001b[38;5;241;43m.\u001b[39;49m\u001b[43moptions\u001b[49m\u001b[38;5;241;43m.\u001b[39;49m\u001b[43mget\u001b[49m\u001b[43m(\u001b[49m\u001b[38;5;124;43m\"\u001b[39;49m\u001b[38;5;124;43mmemory_map\u001b[39;49m\u001b[38;5;124;43m\"\u001b[39;49m\u001b[43m,\u001b[49m\u001b[43m \u001b[49m\u001b[38;5;28;43;01mFalse\u001b[39;49;00m\u001b[43m)\u001b[49m\u001b[43m,\u001b[49m\n\u001b[1;32m   1741\u001b[0m \u001b[43m    \u001b[49m\u001b[43mis_text\u001b[49m\u001b[38;5;241;43m=\u001b[39;49m\u001b[43mis_text\u001b[49m\u001b[43m,\u001b[49m\n\u001b[1;32m   1742\u001b[0m \u001b[43m    \u001b[49m\u001b[43merrors\u001b[49m\u001b[38;5;241;43m=\u001b[39;49m\u001b[38;5;28;43mself\u001b[39;49m\u001b[38;5;241;43m.\u001b[39;49m\u001b[43moptions\u001b[49m\u001b[38;5;241;43m.\u001b[39;49m\u001b[43mget\u001b[49m\u001b[43m(\u001b[49m\u001b[38;5;124;43m\"\u001b[39;49m\u001b[38;5;124;43mencoding_errors\u001b[39;49m\u001b[38;5;124;43m\"\u001b[39;49m\u001b[43m,\u001b[49m\u001b[43m \u001b[49m\u001b[38;5;124;43m\"\u001b[39;49m\u001b[38;5;124;43mstrict\u001b[39;49m\u001b[38;5;124;43m\"\u001b[39;49m\u001b[43m)\u001b[49m\u001b[43m,\u001b[49m\n\u001b[1;32m   1743\u001b[0m \u001b[43m    \u001b[49m\u001b[43mstorage_options\u001b[49m\u001b[38;5;241;43m=\u001b[39;49m\u001b[38;5;28;43mself\u001b[39;49m\u001b[38;5;241;43m.\u001b[39;49m\u001b[43moptions\u001b[49m\u001b[38;5;241;43m.\u001b[39;49m\u001b[43mget\u001b[49m\u001b[43m(\u001b[49m\u001b[38;5;124;43m\"\u001b[39;49m\u001b[38;5;124;43mstorage_options\u001b[39;49m\u001b[38;5;124;43m\"\u001b[39;49m\u001b[43m,\u001b[49m\u001b[43m \u001b[49m\u001b[38;5;28;43;01mNone\u001b[39;49;00m\u001b[43m)\u001b[49m\u001b[43m,\u001b[49m\n\u001b[1;32m   1744\u001b[0m \u001b[43m\u001b[49m\u001b[43m)\u001b[49m\n\u001b[1;32m   1745\u001b[0m \u001b[38;5;28;01massert\u001b[39;00m \u001b[38;5;28mself\u001b[39m\u001b[38;5;241m.\u001b[39mhandles \u001b[38;5;129;01mis\u001b[39;00m \u001b[38;5;129;01mnot\u001b[39;00m \u001b[38;5;28;01mNone\u001b[39;00m\n\u001b[1;32m   1746\u001b[0m f \u001b[38;5;241m=\u001b[39m \u001b[38;5;28mself\u001b[39m\u001b[38;5;241m.\u001b[39mhandles\u001b[38;5;241m.\u001b[39mhandle\n",
      "File \u001b[0;32m/opt/conda/lib/python3.9/site-packages/pandas/io/common.py:856\u001b[0m, in \u001b[0;36mget_handle\u001b[0;34m(path_or_buf, mode, encoding, compression, memory_map, is_text, errors, storage_options)\u001b[0m\n\u001b[1;32m    851\u001b[0m \u001b[38;5;28;01melif\u001b[39;00m \u001b[38;5;28misinstance\u001b[39m(handle, \u001b[38;5;28mstr\u001b[39m):\n\u001b[1;32m    852\u001b[0m     \u001b[38;5;66;03m# Check whether the filename is to be opened in binary mode.\u001b[39;00m\n\u001b[1;32m    853\u001b[0m     \u001b[38;5;66;03m# Binary mode does not support 'encoding' and 'newline'.\u001b[39;00m\n\u001b[1;32m    854\u001b[0m     \u001b[38;5;28;01mif\u001b[39;00m ioargs\u001b[38;5;241m.\u001b[39mencoding \u001b[38;5;129;01mand\u001b[39;00m \u001b[38;5;124m\"\u001b[39m\u001b[38;5;124mb\u001b[39m\u001b[38;5;124m\"\u001b[39m \u001b[38;5;129;01mnot\u001b[39;00m \u001b[38;5;129;01min\u001b[39;00m ioargs\u001b[38;5;241m.\u001b[39mmode:\n\u001b[1;32m    855\u001b[0m         \u001b[38;5;66;03m# Encoding\u001b[39;00m\n\u001b[0;32m--> 856\u001b[0m         handle \u001b[38;5;241m=\u001b[39m \u001b[38;5;28;43mopen\u001b[39;49m\u001b[43m(\u001b[49m\n\u001b[1;32m    857\u001b[0m \u001b[43m            \u001b[49m\u001b[43mhandle\u001b[49m\u001b[43m,\u001b[49m\n\u001b[1;32m    858\u001b[0m \u001b[43m            \u001b[49m\u001b[43mioargs\u001b[49m\u001b[38;5;241;43m.\u001b[39;49m\u001b[43mmode\u001b[49m\u001b[43m,\u001b[49m\n\u001b[1;32m    859\u001b[0m \u001b[43m            \u001b[49m\u001b[43mencoding\u001b[49m\u001b[38;5;241;43m=\u001b[39;49m\u001b[43mioargs\u001b[49m\u001b[38;5;241;43m.\u001b[39;49m\u001b[43mencoding\u001b[49m\u001b[43m,\u001b[49m\n\u001b[1;32m    860\u001b[0m \u001b[43m            \u001b[49m\u001b[43merrors\u001b[49m\u001b[38;5;241;43m=\u001b[39;49m\u001b[43merrors\u001b[49m\u001b[43m,\u001b[49m\n\u001b[1;32m    861\u001b[0m \u001b[43m            \u001b[49m\u001b[43mnewline\u001b[49m\u001b[38;5;241;43m=\u001b[39;49m\u001b[38;5;124;43m\"\u001b[39;49m\u001b[38;5;124;43m\"\u001b[39;49m\u001b[43m,\u001b[49m\n\u001b[1;32m    862\u001b[0m \u001b[43m        \u001b[49m\u001b[43m)\u001b[49m\n\u001b[1;32m    863\u001b[0m     \u001b[38;5;28;01melse\u001b[39;00m:\n\u001b[1;32m    864\u001b[0m         \u001b[38;5;66;03m# Binary mode\u001b[39;00m\n\u001b[1;32m    865\u001b[0m         handle \u001b[38;5;241m=\u001b[39m \u001b[38;5;28mopen\u001b[39m(handle, ioargs\u001b[38;5;241m.\u001b[39mmode)\n",
      "\u001b[0;31mFileNotFoundError\u001b[0m: [Errno 2] No such file or directory: 'chr1_pgen.psam'"
     ]
    }
   ],
   "source": [
    "import pandas as pd\n",
    "\n",
    "# Initialize an empty DataFrame to store the concatenated data\n",
    "concatenated_df = pd.DataFrame()\n",
    "\n",
    "# Loop through chromosome numbers 1 to 22\n",
    "for i in range(1, 23):\n",
    "    # Define the file name based on the chromosome number\n",
    "    file_name = f'chr{i}_pgen.psam'\n",
    "    \n",
    "    # Read the .psam file into a DataFrame\n",
    "    df = pd.read_csv(file_name, delim_whitespace=True)\n",
    "    \n",
    "    # Concatenate the current DataFrame with the accumulated DataFrame\n",
    "    concatenated_df = pd.concat([concatenated_df, df], ignore_index=True)\n",
    "\n",
    "# Save the concatenated DataFrame to a new .psam file\n",
    "concatenated_df.to_csv('concatenated_chr1_22.psam', sep='\\t', index=False)"
   ]
  },
  {
   "cell_type": "code",
   "execution_count": 32,
   "id": "18bc4206-b0b0-4f60-8346-acf03d1a6e5e",
   "metadata": {
    "tags": [],
    "trusted": true
   },
   "outputs": [
    {
     "name": "stdout",
     "output_type": "stream",
     "text": [
      "[===========================================================>] Uploaded 214,374,855 of 214,374,855 bytes (100%) concatenated_chr1_22.psam\n",
      "ID                                file-GpgpYzQJbP2ZQfxxZyXP2p1y\n",
      "Class                             file\n",
      "Project                           project-GkYf2zQJbP2Q3vFgf14863Gf\n",
      "Folder                            /\n",
      "Name                              concatenated_chr1_22.psam\n",
      "State                             \u001b[33mclosing\u001b[0m\n",
      "Visibility                        visible\n",
      "Types                             -\n",
      "Properties                        -\n",
      "Tags                              -\n",
      "Outgoing links                    -\n",
      "Created                           Sun Aug  4 16:19:10 2024\n",
      "Created by                        vidhu\n",
      " via the job                      job-Gpgjk40JbP2y77p042179KF3\n",
      "Last modified                     Sun Aug  4 16:19:12 2024\n",
      "Media type                        \n",
      "archivalState                     \"live\"\n",
      "cloudAccount                      \"cloudaccount-dnanexus\"\n"
     ]
    }
   ],
   "source": [
    "!dx upload concatenated_chr1_22.psam"
   ]
  },
  {
   "cell_type": "code",
   "execution_count": 36,
   "id": "8acb11f3-6092-4ed0-9536-b56decc10150",
   "metadata": {
    "tags": [],
    "trusted": true
   },
   "outputs": [
    {
     "name": "stdout",
     "output_type": "stream",
     "text": [
      "3684138\t3684138\t2.0\n",
      "3684138\t3684138\t2.0\n",
      "3684138\t3684138\t2.0\n",
      "3684138\t3684138\t2.0\n",
      "3684138\t3684138\t2.0\n",
      "3684138\t3684138\t2.0\n",
      "3684138\t3684138\t2.0\n",
      "3684138\t3684138\t2.0\n",
      "3684138\t3684138\t2.0\n",
      "3684138\t3684138\t2.0\n",
      "3684138\t3684138\t2.0\n",
      "3684138\t3684138\t2.0\n",
      "3684138\t3684138\t2.0\n",
      "3684138\t3684138\t2.0\n",
      "3684138\t3684138\t2.0\n",
      "3684138\t3684138\t2.0\n",
      "3684138\t3684138\t2.0\n",
      "3684138\t3684138\t2.0\n",
      "3684138\t3684138\t2.0\n",
      "3684138\t3684138\t2.0\n",
      "3684138\t3684138\t2.0\n",
      "3684138\t3684138\t2.0\n"
     ]
    }
   ],
   "source": [
    "!grep 3684138 concatenated_chr1_22.psam"
   ]
  },
  {
   "cell_type": "code",
   "execution_count": null,
   "id": "9d887090-0050-46b0-b286-08257b8a8649",
   "metadata": {},
   "outputs": [],
   "source": []
  }
 ],
 "metadata": {
  "kernelspec": {
   "display_name": "Python 3 (ipykernel)",
   "language": "python",
   "name": "python3"
  },
  "language_info": {
   "codemirror_mode": {
    "name": "ipython",
    "version": 3
   },
   "file_extension": ".py",
   "mimetype": "text/x-python",
   "name": "python",
   "nbconvert_exporter": "python",
   "pygments_lexer": "ipython3",
   "version": "3.11.5"
  }
 },
 "nbformat": 4,
 "nbformat_minor": 5
}
