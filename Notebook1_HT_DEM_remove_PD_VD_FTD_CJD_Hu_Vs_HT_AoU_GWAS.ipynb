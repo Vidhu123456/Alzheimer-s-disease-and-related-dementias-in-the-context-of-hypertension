{\rtf1\ansi\ansicpg1252\cocoartf2821
\cocoatextscaling0\cocoaplatform0{\fonttbl\f0\froman\fcharset0 Times-Roman;\f1\froman\fcharset0 Times-Bold;\f2\froman\fcharset0 Times-Italic;
\f3\fswiss\fcharset0 ArialMT;\f4\fswiss\fcharset0 Arial-ItalicMT;}
{\colortbl;\red255\green255\blue255;\red15\green112\blue1;\red43\green71\blue20;\red0\green0\blue0;
\red25\green25\blue25;\red51\green110\blue109;\red151\green0\blue255;\red169\green14\blue26;\red7\green64\blue153;
}
{\*\expandedcolortbl;;\cssrgb\c0\c50196\c0;\cssrgb\c21795\c34243\c10019;\cssrgb\c0\c0\c0;
\cssrgb\c12941\c12941\c12941;\cssrgb\c25098\c50196\c50196;\cssrgb\c66667\c13333\c100000;\cssrgb\c72941\c12941\c12941;\cssrgb\c0\c33333\c66667;
}
\margl1440\margr1440\vieww34360\viewh21600\viewkind0
\deftab720
\pard\pardeftab720\partightenfactor0

\f0\fs26 \cf2 \expnd0\expndtw0\kerning0
Notebook overview \
\
\cf3 1. 
\fs24 We extracted data from the \'93All of Us\'94 Research Program, identifying 1,295 cases with essential hypertension and co-occurring dementia, after excluding individuals with Parkinson\'92s disease, vascular dementia, frontotemporal dementia, Huntington\'92s disease, or Creutzfeldt-Jakob disease. A total of 45,752 individuals with essential hypertension but without any neurodegenerative conditions were included as controls.
\fs26 \
2. 
\fs24 We extracted
\fs26  relatedness data.\
3. 
\fs24 We extracted
\fs26  ancestry predictions data.\
4. Taking European ancestry and removing related sample ids.\
5. Taking care of ancestry prediction and related samples preparing the Phenotype and covariate file jointly.\
6. Running Genome-wide association using PLINK.2.0 and 10 principle components, sex_At_birth, current age (2024-year of birth) and age filter > 60. \cf2 \
#Importing the required python libraries\
import pandas\
import os\
\
# This query represents dataset "EHT_Dem_remove_PD_VD_FTD_Hu_CJD" for domain "person" and was generated for All of Us Controlled Tier Dataset v7\
dataset_02537279_person_sql = """\
    SELECT\
        person.person_id,\
        person.gender_concept_id,\
        p_gender_concept.concept_name as gender,\
        person.birth_datetime as date_of_birth,\
        person.race_concept_id,\
        p_race_concept.concept_name as race,\
        person.ethnicity_concept_id,\
        p_ethnicity_concept.concept_name as ethnicity,\
        person.sex_at_birth_concept_id,\
        p_sex_at_birth_concept.concept_name as sex_at_birth \
    FROM\
        `""" + os.environ["WORKSPACE_CDR"] + """.person` person \
    LEFT JOIN\
        `""" + os.environ["WORKSPACE_CDR"] + """.concept` p_gender_concept \
            ON person.gender_concept_id = p_gender_concept.concept_id \
    LEFT JOIN\
        `""" + os.environ["WORKSPACE_CDR"] + """.concept` p_race_concept \
            ON person.race_concept_id = p_race_concept.concept_id \
    LEFT JOIN\
        `""" + os.environ["WORKSPACE_CDR"] + """.concept` p_ethnicity_concept \
            ON person.ethnicity_concept_id = p_ethnicity_concept.concept_id \
    LEFT JOIN\
        `""" + os.environ["WORKSPACE_CDR"] + """.concept` p_sex_at_birth_concept \
            ON person.sex_at_birth_concept_id = p_sex_at_birth_concept.concept_id  \
    WHERE\
        person.PERSON_ID IN (SELECT\
            distinct person_id  \
        FROM\
            `""" + os.environ["WORKSPACE_CDR"] + """.cb_search_person` cb_search_person  \
        WHERE\
            cb_search_person.person_id IN (SELECT\
                criteria.person_id \
            FROM\
                (SELECT\
                    DISTINCT person_id, entry_date, concept_id \
                FROM\
                    `""" + os.environ["WORKSPACE_CDR"] + """.cb_search_all_events` \
                WHERE\
                    (concept_id IN(SELECT\
                        DISTINCT c.concept_id \
                    FROM\
                        `""" + os.environ["WORKSPACE_CDR"] + """.cb_criteria` c \
                    JOIN\
                        (SELECT\
                            CAST(cr.id as string) AS id       \
                        FROM\
                            `""" + os.environ["WORKSPACE_CDR"] + """.cb_criteria` cr       \
                        WHERE\
                            concept_id IN (380986, 380701, 379778, 441535, 378726, 43021816, 4103534, 37117145, 372241, 4092747, 443864, 4043378, 377788, 4182210, 44782771, 37312035, 35608576, 444091, 376095, 4046090, 44782763, 4228133)       \
                            AND full_text LIKE '%_rank1]%'      ) a \
                            ON (c.path LIKE CONCAT('%.', a.id, '.%') \
                            OR c.path LIKE CONCAT('%.', a.id) \
                            OR c.path LIKE CONCAT(a.id, '.%') \
                            OR c.path = a.id) \
                    WHERE\
                        is_standard = 1 \
                        AND is_selectable = 1) \
                    AND is_standard = 1 )) criteria ) \
            AND cb_search_person.person_id IN (SELECT\
                criteria.person_id \
            FROM\
                (SELECT\
                    DISTINCT person_id, entry_date, concept_id \
                FROM\
                    `""" + os.environ["WORKSPACE_CDR"] + """.cb_search_all_events` \
                WHERE\
                    (concept_id IN(SELECT\
                        DISTINCT c.concept_id \
                    FROM\
                        `""" + os.environ["WORKSPACE_CDR"] + """.cb_criteria` c \
                    JOIN\
                        (SELECT\
                            CAST(cr.id as string) AS id       \
                        FROM\
                            `""" + os.environ["WORKSPACE_CDR"] + """.cb_criteria` cr       \
                        WHERE\
                            concept_id IN (314423, 4062811, 312648, 321638, 320456, 4217486, 314103, 4302591, 320128)       \
                            AND full_text LIKE '%_rank1]%'      ) a \
                            ON (c.path LIKE CONCAT('%.', a.id, '.%') \
                            OR c.path LIKE CONCAT('%.', a.id) \
                            OR c.path LIKE CONCAT(a.id, '.%') \
                            OR c.path = a.id) \
                    WHERE\
                        is_standard = 1 \
                        AND is_selectable = 1) \
                    AND is_standard = 1 )) criteria ) \
            AND cb_search_person.person_id NOT IN (SELECT\
                criteria.person_id \
            FROM\
                (SELECT\
                    DISTINCT person_id, entry_date, concept_id \
                FROM\
                    `""" + os.environ["WORKSPACE_CDR"] + """.cb_search_all_events` \
                WHERE\
                    (concept_id IN(SELECT\
                        DISTINCT c.concept_id \
                    FROM\
                        `""" + os.environ["WORKSPACE_CDR"] + """.cb_criteria` c \
                    JOIN\
                        (SELECT\
                            CAST(cr.id as string) AS id       \
                        FROM\
                            `""" + os.environ["WORKSPACE_CDR"] + """.cb_criteria` cr       \
                        WHERE\
                            concept_id IN (4064308, 4253363, 4204820, 36713737, 4126631, 4140090, 4177039, 441458, 4171569)       \
                            AND full_text LIKE '%_rank1]%'      ) a \
                            ON (c.path LIKE CONCAT('%.', a.id, '.%') \
                            OR c.path LIKE CONCAT('%.', a.id) \
                            OR c.path LIKE CONCAT(a.id, '.%') \
                            OR c.path = a.id) \
                    WHERE\
                        is_standard = 1 \
                        AND is_selectable = 1) \
                    AND is_standard = 1 )) criteria ) \
            AND cb_search_person.person_id NOT IN (SELECT\
                criteria.person_id \
            FROM\
                (SELECT\
                    DISTINCT person_id, entry_date, concept_id \
                FROM\
                    `""" + os.environ["WORKSPACE_CDR"] + """.cb_search_all_events` \
                WHERE\
                    (concept_id IN(SELECT\
                        DISTINCT c.concept_id \
                    FROM\
                        `""" + os.environ["WORKSPACE_CDR"] + """.cb_criteria` c \
                    JOIN\
                        (SELECT\
                            CAST(cr.id as string) AS id       \
                        FROM\
                            `""" + os.environ["WORKSPACE_CDR"] + """.cb_criteria` cr       \
                        WHERE\
                            concept_id IN (443605, 4046090, 4047747, 37018688)       \
                            AND full_text LIKE '%_rank1]%'      ) a \
                            ON (c.path LIKE CONCAT('%.', a.id, '.%') \
                            OR c.path LIKE CONCAT('%.', a.id) \
                            OR c.path LIKE CONCAT(a.id, '.%') \
                            OR c.path = a.id) \
                    WHERE\
                        is_standard = 1 \
                        AND is_selectable = 1) \
                    AND is_standard = 1 )) criteria ) \
            AND cb_search_person.person_id NOT IN (SELECT\
                criteria.person_id \
            FROM\
                (SELECT\
                    DISTINCT person_id, entry_date, concept_id \
                FROM\
                    `""" + os.environ["WORKSPACE_CDR"] + """.cb_search_all_events` \
                WHERE\
                    (concept_id IN (4043378) \
                    AND is_standard = 1 )) criteria ) \
            AND cb_search_person.person_id NOT IN (SELECT\
                criteria.person_id \
            FROM\
                (SELECT\
                    DISTINCT person_id, entry_date, concept_id \
                FROM\
                    `""" + os.environ["WORKSPACE_CDR"] + """.cb_search_all_events` \
                WHERE\
                    (concept_id IN (40483103) \
                    AND is_standard = 1 )) criteria ) \
            AND cb_search_person.person_id NOT IN (SELECT\
                criteria.person_id \
            FROM\
                (SELECT\
                    DISTINCT person_id, entry_date, concept_id \
                FROM\
                    `""" + os.environ["WORKSPACE_CDR"] + """.cb_search_all_events` \
                WHERE\
                    (concept_id IN (372241) \
                    AND is_standard = 1 )) criteria ) )"""\
\
dataset_02537279_person_df = pandas.read_gbq(\
    dataset_02537279_person_sql,\
    dialect="standard",\
    use_bqstorage_api=("BIGQUERY_STORAGE_API_ENABLED" in os.environ),\
    progress_bar_type="tqdm_notebook")\
\
dataset_02537279_person_df.to_csv("EHT_Dem_remove_PD_VD_FTD_Hu_CJD.csv")
\f1\b \
\
\pard\pardeftab720\partightenfactor0

\f0\b0\fs24 \cf0 \kerning1\expnd0\expndtw0 \
\pard\pardeftab720\partightenfactor0

\f1\b\fs26 \cf2 \expnd0\expndtw0\kerning0
import
\f0\b0 \cf5  pandas\

\f1\b \cf2 import
\f0\b0 \cf5  os\
\
\pard\pardeftab720\partightenfactor0

\f2\i \cf6 # This query represents dataset "EHT" for domain "person" and was generated for All of Us Controlled Tier Dataset v7
\f0\i0 \cf5 \
dataset_61808986_person_sql 
\f1\b \cf7 =
\f0\b0 \cf5  \cf8 """\cf5 \
\cf8     SELECT\cf5 \
\cf8         person.person_id,\cf5 \
\cf8         person.gender_concept_id,\cf5 \
\cf8         p_gender_concept.concept_name as gender,\cf5 \
\cf8         person.birth_datetime as date_of_birth,\cf5 \
\cf8         person.race_concept_id,\cf5 \
\cf8         p_race_concept.concept_name as race,\cf5 \
\cf8         person.ethnicity_concept_id,\cf5 \
\cf8         p_ethnicity_concept.concept_name as ethnicity,\cf5 \
\cf8         person.sex_at_birth_concept_id,\cf5 \
\cf8         p_sex_at_birth_concept.concept_name as sex_at_birth \cf5 \
\cf8     FROM\cf5 \
\cf8         `"""\cf5  
\f1\b \cf7 +
\f0\b0 \cf5  os
\f1\b \cf7 .
\f0\b0 \cf5 environ\cf9 [\cf8 "WORKSPACE_CDR"\cf9 ]\cf5  
\f1\b \cf7 +
\f0\b0 \cf5  \cf8 """.person` person \cf5 \
\cf8     LEFT JOIN\cf5 \
\cf8         `"""\cf5  
\f1\b \cf7 +
\f0\b0 \cf5  os
\f1\b \cf7 .
\f0\b0 \cf5 environ\cf9 [\cf8 "WORKSPACE_CDR"\cf9 ]\cf5  
\f1\b \cf7 +
\f0\b0 \cf5  \cf8 """.concept` p_gender_concept \cf5 \
\cf8             ON person.gender_concept_id = p_gender_concept.concept_id \cf5 \
\cf8     LEFT JOIN\cf5 \
\cf8         `"""\cf5  
\f1\b \cf7 +
\f0\b0 \cf5  os
\f1\b \cf7 .
\f0\b0 \cf5 environ\cf9 [\cf8 "WORKSPACE_CDR"\cf9 ]\cf5  
\f1\b \cf7 +
\f0\b0 \cf5  \cf8 """.concept` p_race_concept \cf5 \
\cf8             ON person.race_concept_id = p_race_concept.concept_id \cf5 \
\cf8     LEFT JOIN\cf5 \
\cf8         `"""\cf5  
\f1\b \cf7 +
\f0\b0 \cf5  os
\f1\b \cf7 .
\f0\b0 \cf5 environ\cf9 [\cf8 "WORKSPACE_CDR"\cf9 ]\cf5  
\f1\b \cf7 +
\f0\b0 \cf5  \cf8 """.concept` p_ethnicity_concept \cf5 \
\cf8             ON person.ethnicity_concept_id = p_ethnicity_concept.concept_id \cf5 \
\cf8     LEFT JOIN\cf5 \
\cf8         `"""\cf5  
\f1\b \cf7 +
\f0\b0 \cf5  os
\f1\b \cf7 .
\f0\b0 \cf5 environ\cf9 [\cf8 "WORKSPACE_CDR"\cf9 ]\cf5  
\f1\b \cf7 +
\f0\b0 \cf5  \cf8 """.concept` p_sex_at_birth_concept \cf5 \
\cf8             ON person.sex_at_birth_concept_id = p_sex_at_birth_concept.concept_id  \cf5 \
\cf8     WHERE\cf5 \
\cf8         person.PERSON_ID IN (SELECT\cf5 \
\cf8             distinct person_id  \cf5 \
\cf8         FROM\cf5 \
\cf8             `"""\cf5  
\f1\b \cf7 +
\f0\b0 \cf5  os
\f1\b \cf7 .
\f0\b0 \cf5 environ\cf9 [\cf8 "WORKSPACE_CDR"\cf9 ]\cf5  
\f1\b \cf7 +
\f0\b0 \cf5  \cf8 """.cb_search_person` cb_search_person  \cf5 \
\cf8         WHERE\cf5 \
\cf8             cb_search_person.person_id IN (SELECT\cf5 \
\cf8                 criteria.person_id \cf5 \
\cf8             FROM\cf5 \
\cf8                 (SELECT\cf5 \
\cf8                     DISTINCT person_id, entry_date, concept_id \cf5 \
\cf8                 FROM\cf5 \
\cf8                     `"""\cf5  
\f1\b \cf7 +
\f0\b0 \cf5  os
\f1\b \cf7 .
\f0\b0 \cf5 environ\cf9 [\cf8 "WORKSPACE_CDR"\cf9 ]\cf5  
\f1\b \cf7 +
\f0\b0 \cf5  \cf8 """.cb_search_all_events` \cf5 \
\cf8                 WHERE\cf5 \
\cf8                     (concept_id IN(SELECT\cf5 \
\cf8                         DISTINCT c.concept_id \cf5 \
\cf8                     FROM\cf5 \
\cf8                         `"""\cf5  
\f1\b \cf7 +
\f0\b0 \cf5  os
\f1\b \cf7 .
\f0\b0 \cf5 environ\cf9 [\cf8 "WORKSPACE_CDR"\cf9 ]\cf5  
\f1\b \cf7 +
\f0\b0 \cf5  \cf8 """.cb_criteria` c \cf5 \
\cf8                     JOIN\cf5 \
\cf8                         (SELECT\cf5 \
\cf8                             CAST(cr.id as string) AS id       \cf5 \
\cf8                         FROM\cf5 \
\cf8                             `"""\cf5  
\f1\b \cf7 +
\f0\b0 \cf5  os
\f1\b \cf7 .
\f0\b0 \cf5 environ\cf9 [\cf8 "WORKSPACE_CDR"\cf9 ]\cf5  
\f1\b \cf7 +
\f0\b0 \cf5  \cf8 """.cb_criteria` cr       \cf5 \
\cf8                         WHERE\cf5 \
\cf8                             concept_id IN (312648, 320128)       \cf5 \
\cf8                             AND full_text LIKE '%_rank1]%'      ) a \cf5 \
\cf8                             ON (c.path LIKE CONCAT('%.', a.id, '.%') \cf5 \
\cf8                             OR c.path LIKE CONCAT('%.', a.id) \cf5 \
\cf8                             OR c.path LIKE CONCAT(a.id, '.%') \cf5 \
\cf8                             OR c.path = a.id) \cf5 \
\cf8                     WHERE\cf5 \
\cf8                         is_standard = 1 \cf5 \
\cf8                         AND is_selectable = 1) \cf5 \
\cf8                     AND is_standard = 1 )) criteria ) )"""\cf5 \
\
dataset_61808986_person_df 
\f1\b \cf7 =
\f0\b0 \cf5  pandas
\f1\b \cf7 .
\f0\b0 \cf5 read_gbq\cf9 (\cf5 \
    dataset_61808986_person_sql\cf9 ,\cf5 \
    dialect
\f1\b \cf7 =
\f0\b0 \cf8 "standard"\cf9 ,\cf5 \
    use_bqstorage_api
\f1\b \cf7 =
\f0\b0 \cf9 (\cf8 "BIGQUERY_STORAGE_API_ENABLED"\cf5  
\f1\b \cf7 in
\f0\b0 \cf5  os
\f1\b \cf7 .
\f0\b0 \cf5 environ\cf9 ),\cf5 \
    progress_bar_type
\f1\b \cf7 =
\f0\b0 \cf8 "tqdm_notebook"\cf9 )\cf5 \
\
dataset_61808986_person_df
\f1\b \cf7 .
\f0\b0 \cf5 to_csv\cf9 (\cf8 "EHT.csv"\cf9 )\cf5 \
\pard\tx720\tx1440\tx2160\tx2880\tx3600\tx4320\tx5040\tx5760\tx6480\tx7200\tx7920\tx8640\pardeftab720\pardirnatural\partightenfactor0

\fs24 \cf0 \kerning1\expnd0\expndtw0 \
\

\f3 # 
\f4\i\fs26 \cf6 \expnd0\expndtw0\kerning0
All the chromosomes were downloaded from All of Us Controlled Tier Dataset v7
\f0\i0\fs24 \cf0 \kerning1\expnd0\expndtw0 \
!gsutil -u $GOOGLE_PROJECT -m cp -r gs://fc-aou-datasets-controlled/v7/wgs/short_read/snpindel/acaf_threshold_v7.1/plink_bed/acaf_threshold.chr1.* .\
\

\f3 # 
\f4\i\fs26 \cf6 \expnd0\expndtw0\kerning0
Relatedness data was downloaded from All of Us Controlled Tier Dataset v7
\f0\i0\fs24 \cf0 \kerning1\expnd0\expndtw0 \
!gsutil -u $GOOGLE_PROJECT -m cp -r gs://fc-aou-datasets-controlled/v7/wgs/short_read/snpindel/aux/relatedness* .\
\
!cp relatedness/relatedness_flagged_samples.tsv rel.tsv\
\
import pandas as pd\
df = pd.read_csv("rel.tsv")\
\
# Rename the column\
df.rename(columns=\{'sample_id': 'FID'\}, inplace=True)\
\
# Copy the values from 'FID' to 'IID'\
df['IID'] = df['FID']\
\
df.to_csv("rel1.txt", sep='\\t')\
\
\

\f3 # 
\f4\i\fs26 \cf6 \expnd0\expndtw0\kerning0
Ancestry prediction data was downloaded from All of Us Controlled Tier Dataset v7
\f0\i0\fs24 \cf0 \kerning1\expnd0\expndtw0 \
!gsutil -u $GOOGLE_PROJECT -m cp gs://fc-aou-datasets-controlled/v7/wgs/short_read/snpindel/aux/ancestry/ancestry_preds.tsv .\
\
import pandas as pd\
\
# Read the TSV file into a DataFrame\
df = pd.read_csv('ancestry_preds.tsv', sep='\\t')\
df["pca_features"] = df["pca_features"].str[1:-1]\
PCs = df["pca_features"].str.split(",", n = 16, expand = True)\
PCs = PCs.astype(float)\
pid = df[["research_id"]]\
columns= ["PC1","PC2","PC3","PC4","PC5","PC6","PC7","PC8","PC9","PC10","PC11","PC12","PC13","PC14","PC15","PC16"]\
PCs.columns = columns\
PCs.head(5)\
PCs_final = pd.concat([pid, PCs], axis = 1)\
\
dfx = pd.read_csv("EHT_Dem_remove_PD_FTD_VD_Hu_CJD.csv")\
\
# Merge the dataframes\
merged_df = PCs_final.merge(dfx, left_on='research_id', right_on='person_id')\
\
# Filter rows where ancestry_pred is 'eur'\
filtered_df = df[df['ancestry_pred'] == 'eur']\
\
cases_df = merged_df.merge(filtered_df, on='research_id')\
\
# Keep only the first column\
df2 = cases_df1.iloc[:, [0]]\
\
# Step 1: Copy values from 'research_id' to 'FID'\
df2['FID'] = df2['research_id']\
\
# Step 2: Rename 'research_id' to 'IID'\
df2.rename(columns=\{'research_id': 'IID'\}, inplace=True)\
\
# Merge the dataframes\
cases_df2 = df2.merge(cases_df1, left_on='IID', right_on='research_id')\
\
cases_df4 = cases_df2.drop(columns=['research_id'])\
\
cases_df4['Pheno']=2\
\
df1 = pd.read_csv("EHT_Dem_remove_PD_FTD_VD_Hu_CJD.csv")\
\
# Extract the 'person_id' column\
dff1 = df1['person_id']\
\
print("\\nExtracted 'person_id' Column:")\
print(dff1)\
\
dff1.columns = ['person_id']\
\
df2 = pd.read_csv("EHT.csv")\
\
# Extract the 'person_id' column\
dff2 = df2['person_id']\
\
print("\\nExtracted 'person_id' Column:")\
print(dff2)\
\
dff2.columns = ['person_id']\
\
# Extracting 'person id' and 'gender' columns\
control_df = df2[['person_id', 'gender']]\
\
# Extracting 'person id' and 'gender' columns\
cases_df = df1[['person_id', 'gender']]\
\
# Merge to find common rows\
matching_rows = control_df.merge(cases_df, on=list(control_df.columns))\
\
# Remove matching rows from df\
df_filtered = df[~df.isin(matching_rows.to_dict(orient='list')).all(axis=1)]\
\
# Adding 'Pheno' column with value 1\
cases_df['Pheno'] = 2\
\
# Adding 'Pheno' column with value 1\
control_df['Pheno'] = 1\
\
# Concatenating DataFrames along rows\
concatenated_df = pd.concat([cases_df, control_df], axis=0)\
\
concatenated_df['Pheno'].value_counts()\
\
# Mapping gender values to numeric codes\
gender_map = \{'Male': 1, 'Female': 2\}\
concatenated_df['gender'] = concatenated_df['gender'].map(gender_map)\
\
# Dropping rows with NaN values in the gender column (invalid gender values)\
concatenated_df.dropna(subset=['gender'], inplace=True)\
\
# Converting gender column to integer type\
concatenated_df['gender'] = concatenated_df['gender'].astype(int)\
\
ct = pd.read_csv("EHT.csv")\
\
controls = ct['person_id']\
\
controls_df1 = pd.DataFrame(controls, columns=['person_id'])\
\
# Merge the dataframes\
controls_df2 = df.merge(controls_df1, left_on='research_id', right_on='person_id\'92)\
\
# Filter rows where ancestry_pred is 'eur'\
controls_df4 = controls_df2[controls_df2['ancestry_pred'] == 'eur']\
\
# Merge the dataframes\
controls_df5 = controls_df4.merge(PCs_final, on='research_id\'92)\
\
controls_df7 = controls_df5.drop(columns=['ancestry_pred', 'probabilities', 'pca_features', 'ancestry_pred_other','person_id','PC6', 'PC7', 'PC8', 'PC9', 'PC10', 'PC11', 'PC12', 'PC13', 'PC14', 'PC15', 'PC16'])\
\
# Step 1: Copy values from 'research_id' to 'FID'\
controls_df7['FID'] = controls_df7['research_id']\
\
# Step 2: Rename 'research_id' to 'IID'\
controls_df7.rename(columns=\{'research_id': 'IID'\}, inplace=True)\
\
controls_df7['Pheno']=1\
\
cases = pd.read_csv("EHT_Dem_remove_PD_FTD_VD_Hu_CJD.csv")\
\
cases1 = cases['person_id']\
\
cases1.head()\
\
cases_df1 = pd.DataFrame(cases1, columns=['person_id'])\
\
# Merge the dataframes\
cases_df2 = df.merge(cases_df1, left_on='research_id', right_on='person_id')\
\

\f3 # 
\f4\i\fs26 \cf6 \expnd0\expndtw0\kerning0
Only European ancestry was choosen from the samples
\f0\i0\fs24 \cf0 \kerning1\expnd0\expndtw0 \
\
# Filter rows where ancestry_pred is 'eur'\
cases_df4 = cases_df2[cases_df2['ancestry_pred'] == 'eur']\
\
# Merge the dataframes\
cases_df5 = cases_df4.merge(PCs_final, on='research_id')\
\
cases_df7 = cases_df5.drop(columns=['ancestry_pred', 'probabilities', 'pca_features', 'ancestry_pred_other','person_id','PC6', 'PC7', 'PC8', 'PC9', 'PC10', 'PC11', 'PC12', 'PC13', 'PC14', 'PC15', 'PC16'])\
\
cases_df7['Pheno']=2\
\
# Step 1: Copy values from 'research_id' to 'FID'\
cases_df7['FID'] = cases_df7['research_id']\
\
# Step 2: Rename 'research_id' to 'IID'\
cases_df7.rename(columns=\{'research_id': 'IID'\}, inplace=True)\
\
\
# Concatenate DataFrames\
concatenated_df1 = pd.concat([cases_df7, controls_df7], ignore_index=True)\
\
# Swapping the FID and IID columns\
concatenated_df2 = concatenated_df1[['FID', 'IID', 'PC1', 'PC2', 'PC3', 'PC4', 'PC5', 'Pheno']]\
\
# Merge the dataframes on the matching columns\
merged_df = pd.merge(concatenated_df, concatenated_df1, left_on='person_id', right_on='IID')\
\
# Drop the 'person_id' and 'pheno_x' columns\
result_df = merged_df.drop(columns=['person_id', 'Pheno_x\'92])\
\
# Rename 'pheno_x' to 'pheno'\
result_df1 = result_df.rename(columns=\{'Pheno_y': 'Pheno'\})\
\
# Get the list of columns\
columns = ['gender', 'FID', 'IID', 'PC1', 'PC2', 'PC3', 'PC4', 'PC5', 'Pheno']\
\
# Move the first column to the end\
columns.append(columns.pop(0))\
\
# Reorder the dataframe\
df_reordered = result_df1[columns]\
\
final = df_reordered.drop_duplicates()\
\
# Drop duplicates based on the IID column\
final = final.drop_duplicates(subset='IID')\
\
# Count occurrences of each value in the 'Pheno' column\
pheno_counts = final['Pheno'].value_counts()\
\
# Get the counts for specific values\
count_1 = pheno_counts.get(1, 0)\
count_2 = pheno_counts.get(2, 0)\
\
print(f"Number of 1s in 'Pheno': \{count_1\}")\
print(f"Number of 2s in 'Pheno': \{count_2\}")\
\
\

\f3 # 
\f4\i\fs26 \cf6 \expnd0\expndtw0\kerning0
Phenotype file containing the phenotype and covariates were jointly made
\f0\i0\fs24 \cf0 \kerning1\expnd0\expndtw0 \
\
final.to_csv("Pheno_HT_Dem_Vs_HT_remove_PD_VD_FTD_Hu_CJD.txt", sep = '\\t', index=False)\
\

\f3 # 
\f4\i\fs26 \cf6 \expnd0\expndtw0\kerning0
Relatedness was removed from the samples
\f0\i0\fs24 \cf0 \kerning1\expnd0\expndtw0 \
\
!plink2 --bfile acaf_threshold.chr2 --remove rel1.txt --make-bed --out acaf_threshold.chr2.rel.removed\
\

\f3 # 
\f4\i\fs26 \cf6 \expnd0\expndtw0\kerning0
Genome-wide association analysis was done
\f0\i0\fs24 \cf0 \kerning1\expnd0\expndtw0 \
\
%%bash\
plink2 --bfile acaf_threshold.chr2.rel.removed --snp chr2:36408804:T:C --geno 0.05 \\\
        --maf 0.05 \\\
      --pheno Pheno_HT_Dem_Vs_HT_remove_PD_VD_FTD_Hu_CJD.txt \\\
      --pheno-name Pheno \\\
      --covar Pheno_HT_Dem_Vs_HT_remove_PD_VD_FTD_Hu_CJD.txt \\\
      --covar-name PC1,PC2,PC3,PC4,PC5,gender \\\
      --keep Pheno_HT_Dem_Vs_HT_remove_PD_VD_FTD_Hu_CJD.txt \\\
      --allow-no-sex \\\
      --glm hide-covar no-x-sex cols=+beta,+a1freq,+a1freqcc,+a1count,+totallele,+a1countcc,+totallelecc,+err \\\
      --out gwas_2_wgs_remove_PD_VD_FTD_Hu_CJD\
\
\
\
\
\
\
\
\
\
\
\
\
\
\
\
\
\
\
\
\
\
\
\
\
\
\
\
\
\
\
\
\
\
\
\
\
\
\
\
\
\
\
\
\
\
}