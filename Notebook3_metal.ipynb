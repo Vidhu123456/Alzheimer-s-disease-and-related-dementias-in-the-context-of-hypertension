{\rtf1\ansi\ansicpg1252\cocoartf2821
\cocoatextscaling0\cocoaplatform0{\fonttbl\f0\fnil\fcharset0 Menlo-Regular;}
{\colortbl;\red255\green255\blue255;\red169\green14\blue26;\red255\green255\blue255;}
{\*\expandedcolortbl;;\cssrgb\c72941\c12941\c12941;\cssrgb\c100000\c100000\c100000;}
\margl1440\margr1440\vieww34360\viewh21600\viewkind0
\deftab720
\pard\pardeftab720\partightenfactor0

\f0\fs28 \cf2 \cb3 \expnd0\expndtw0\kerning0
# We did meta analysis using summary statistics from \'93All of Us\'94 and \'93UK Biobank\'94\
\
metal <<EOT\
SCHEME STDERR\
GENOMICCONTROL ON\
\
MARKER ID\
ALLELE REF ALT\
EFFECT BETA\
STDERR SE\
PVALUE P\
PROCESS merged_summary_statistics_aou.txt\
\
MARKER ID\
ALLELE REF ALT\
EFFECT BETA\
STDERR SE\
PVALUE P\
PROCESS output_Jeff_final_HT_Dem_remove_PD_VD_FTD_Hu_CJD_Vs_HT_0.01_New.txt\
\
OUTFILE out.txt\
ANALYZE HETEROGENEITY\
QUIT\
EOT\
\
}